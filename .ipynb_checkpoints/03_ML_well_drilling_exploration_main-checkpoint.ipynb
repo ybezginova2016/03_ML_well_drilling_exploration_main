{
 "cells": [
  {
   "cell_type": "markdown",
   "metadata": {
    "pycharm": {
     "name": "#%% md\n"
    }
   },
   "source": [
    "# 03 - ***Machine Learning Project for Mining Industry***: How to Choose the Best Location to Drill a New Well?"
   ]
  },
  {
   "cell_type": "markdown",
   "metadata": {
    "pycharm": {
     "name": "#%% md\n"
    }
   },
   "source": [
    "### The client company: GlavRosGosNeft\n",
    "**We have to decide where to drill a new well.**\n",
    "\n",
    "### Data\n",
    "\n",
    "Data of oil samples in three regions is provided: in each of 10,000 fields, where the quality of oil and the volume of its reserves have been measured. \n",
    "\n",
    "### Project objectives\n",
    "\n",
    "- Build a machine learning model to help determine the region where mining will bring the most profit. \n",
    "\n",
    "- Analyze possible profits and risks using *Bootstrap* technique\n",
    "\n",
    "### Projects stages\n",
    "- Для обучения модели подходит только линейная регрессия (остальные — недостаточно предсказуемые).\n",
    "- При разведке региона исследуют 500 точек, из которых с помощью машинного обучения выбирают 200 лучших для разработки.\n",
    "- Бюджет на разработку скважин в регионе — 10 млрд рублей.\n",
    "- При нынешних ценах один баррель сырья приносит 450 рублей дохода. Доход с каждой единицы продукта составляет 450 тыс. рублей, поскольку объём указан в тысячах баррелей.\n",
    "- После оценки рисков нужно оставить лишь те регионы, в которых вероятность убытков меньше 2.5%. Среди них нужно выбрать регион с наибольшей средней прибылью."
   ]
  },
  {
   "cell_type": "code",
   "execution_count": 20,
   "metadata": {},
   "outputs": [
    {
     "name": "stdout",
     "output_type": "stream",
     "text": [
      "\n",
      "\u001b[1m[\u001b[0m\u001b[34;49mnotice\u001b[0m\u001b[1;39;49m]\u001b[0m\u001b[39;49m A new release of pip available: \u001b[0m\u001b[31;49m22.2.2\u001b[0m\u001b[39;49m -> \u001b[0m\u001b[32;49m22.3.1\u001b[0m\n",
      "\u001b[1m[\u001b[0m\u001b[34;49mnotice\u001b[0m\u001b[1;39;49m]\u001b[0m\u001b[39;49m To update, run: \u001b[0m\u001b[32;49m/usr/local/Cellar/jupyterlab/3.4.8/libexec/bin/python3.10 -m pip install --upgrade pip\u001b[0m\n",
      "Note: you may need to restart the kernel to use updated packages.\n"
     ]
    }
   ],
   "source": [
    "pip install -q pandas-profiling"
   ]
  },
  {
   "cell_type": "code",
   "execution_count": 21,
   "metadata": {
    "pycharm": {
     "name": "#%%\n"
    }
   },
   "outputs": [],
   "source": [
    "import numpy as np\n",
    "import pandas as pd\n",
    "import seaborn as sns\n",
    "import matplotlib.pyplot as plt\n",
    "import warnings\n",
    "\n",
    "from sklearn.model_selection import train_test_split\n",
    "from sklearn.linear_model import LinearRegression\n",
    "from sklearn.tree import DecisionTreeRegressor\n",
    "from sklearn.ensemble import RandomForestRegressor\n",
    "from sklearn.metrics import accuracy_score\n",
    "from sklearn.metrics import precision_score\n",
    "from sklearn.metrics import recall_score\n",
    "from sklearn.metrics import f1_score\n",
    "from sklearn.metrics import mean_squared_error\n",
    "from sklearn.metrics import mean_absolute_error\n",
    "from sklearn.metrics import r2_score\n",
    "from sklearn.svm import SVC\n",
    "from sklearn.model_selection import GridSearchCV\n",
    "from sklearn.utils import shuffle\n",
    "from scipy import stats as st # для доверительного интервала\n",
    "\n",
    "sns.set()\n",
    "warnings.filterwarnings('ignore')\n",
    "warnings.simplefilter(\"ignore\", category=RuntimeWarning)\n",
    "pd.options.mode.chained_assignment = None "
   ]
  },
  {
   "cell_type": "markdown",
   "metadata": {
    "pycharm": {
     "name": "#%% md\n"
    }
   },
   "source": [
    "## 1. Data Load"
   ]
  },
  {
   "cell_type": "code",
   "execution_count": 22,
   "metadata": {
    "pycharm": {
     "name": "#%%\n"
    }
   },
   "outputs": [],
   "source": [
    "data_0 = pd.read_csv(\"/Users/yuliabezginova/Documents/DS/praktikum/project-7_ML_in_business/geo_data_0.csv\")\n",
    "data_1 = pd.read_csv(\"/Users/yuliabezginova/Documents/DS/praktikum/project-7_ML_in_business/geo_data_1.csv\")\n",
    "data_2 = pd.read_csv(\"/Users/yuliabezginova/Documents/DS/praktikum/project-7_ML_in_business/geo_data_2.csv\")"
   ]
  },
  {
   "cell_type": "code",
   "execution_count": 23,
   "metadata": {
    "pycharm": {
     "name": "#%%\n"
    }
   },
   "outputs": [
    {
     "name": "stdout",
     "output_type": "stream",
     "text": [
      "(100000, 5)\n",
      "      id        f0        f1        f2     product\n",
      "0  txEyH  0.705745 -0.497823  1.221170  105.280062\n",
      "1  2acmU  1.334711 -0.340164  4.365080   73.037750\n",
      "2  409Wp  1.022732  0.151990  1.419926   85.265647\n",
      "3  iJLyR -0.032172  0.139033  2.978566  168.620776\n",
      "4  Xdl7t  1.988431  0.155413  4.751769  154.036647\n",
      "<class 'pandas.core.frame.DataFrame'>\n",
      "RangeIndex: 100000 entries, 0 to 99999\n",
      "Data columns (total 5 columns):\n",
      " #   Column   Non-Null Count   Dtype  \n",
      "---  ------   --------------   -----  \n",
      " 0   id       100000 non-null  object \n",
      " 1   f0       100000 non-null  float64\n",
      " 2   f1       100000 non-null  float64\n",
      " 3   f2       100000 non-null  float64\n",
      " 4   product  100000 non-null  float64\n",
      "dtypes: float64(4), object(1)\n",
      "memory usage: 3.8+ MB\n"
     ]
    }
   ],
   "source": [
    "print(data_0.shape)\n",
    "print(data_0.head(5))\n",
    "data_0.info()"
   ]
  },
  {
   "cell_type": "code",
   "execution_count": 24,
   "metadata": {
    "pycharm": {
     "name": "#%%\n"
    }
   },
   "outputs": [
    {
     "name": "stdout",
     "output_type": "stream",
     "text": [
      "(100000, 5)\n",
      "      id         f0         f1        f2     product\n",
      "0  kBEdx -15.001348  -8.276000 -0.005876    3.179103\n",
      "1  62mP7  14.272088  -3.475083  0.999183   26.953261\n",
      "2  vyE1P   6.263187  -5.948386  5.001160  134.766305\n",
      "3  KcrkZ -13.081196 -11.506057  4.999415  137.945408\n",
      "4  AHL4O  12.702195  -8.147433  5.004363  134.766305\n",
      "<class 'pandas.core.frame.DataFrame'>\n",
      "RangeIndex: 100000 entries, 0 to 99999\n",
      "Data columns (total 5 columns):\n",
      " #   Column   Non-Null Count   Dtype  \n",
      "---  ------   --------------   -----  \n",
      " 0   id       100000 non-null  object \n",
      " 1   f0       100000 non-null  float64\n",
      " 2   f1       100000 non-null  float64\n",
      " 3   f2       100000 non-null  float64\n",
      " 4   product  100000 non-null  float64\n",
      "dtypes: float64(4), object(1)\n",
      "memory usage: 3.8+ MB\n"
     ]
    }
   ],
   "source": [
    "print(data_1.shape)\n",
    "print(data_1.head(5))\n",
    "data_1.info()"
   ]
  },
  {
   "cell_type": "code",
   "execution_count": 25,
   "metadata": {
    "pycharm": {
     "name": "#%%\n"
    }
   },
   "outputs": [
    {
     "name": "stdout",
     "output_type": "stream",
     "text": [
      "(100000, 5)\n",
      "      id        f0        f1        f2     product\n",
      "0  fwXo0 -1.146987  0.963328 -0.828965   27.758673\n",
      "1  WJtFt  0.262778  0.269839 -2.530187   56.069697\n",
      "2  ovLUW  0.194587  0.289035 -5.586433   62.871910\n",
      "3  q6cA6  2.236060 -0.553760  0.930038  114.572842\n",
      "4  WPMUX -0.515993  1.716266  5.899011  149.600746\n",
      "<class 'pandas.core.frame.DataFrame'>\n",
      "RangeIndex: 100000 entries, 0 to 99999\n",
      "Data columns (total 5 columns):\n",
      " #   Column   Non-Null Count   Dtype  \n",
      "---  ------   --------------   -----  \n",
      " 0   id       100000 non-null  object \n",
      " 1   f0       100000 non-null  float64\n",
      " 2   f1       100000 non-null  float64\n",
      " 3   f2       100000 non-null  float64\n",
      " 4   product  100000 non-null  float64\n",
      "dtypes: float64(4), object(1)\n",
      "memory usage: 3.8+ MB\n"
     ]
    }
   ],
   "source": [
    "print(data_2.shape)\n",
    "print(data_2.head(5))\n",
    "data_2.info()"
   ]
  },
  {
   "cell_type": "code",
   "execution_count": 26,
   "metadata": {
    "pycharm": {
     "name": "#%%\n"
    },
    "scrolled": true
   },
   "outputs": [
    {
     "ename": "NameError",
     "evalue": "name 'ProfileReport' is not defined",
     "output_type": "error",
     "traceback": [
      "\u001b[0;31m---------------------------------------------------------------------------\u001b[0m",
      "\u001b[0;31mNameError\u001b[0m                                 Traceback (most recent call last)",
      "Cell \u001b[0;32mIn [26], line 1\u001b[0m\n\u001b[0;32m----> 1\u001b[0m report_0 \u001b[38;5;241m=\u001b[39m \u001b[43mProfileReport\u001b[49m(data_0)\n\u001b[1;32m      2\u001b[0m report_0\n",
      "\u001b[0;31mNameError\u001b[0m: name 'ProfileReport' is not defined"
     ]
    }
   ],
   "source": [
    "report_0 = ProfileReport(data_0)\n",
    "report_0"
   ]
  },
  {
   "cell_type": "code",
   "execution_count": null,
   "metadata": {
    "pycharm": {
     "name": "#%%\n"
    }
   },
   "outputs": [],
   "source": [
    "report_1 = ProfileReport(data_1)\n",
    "report_1"
   ]
  },
  {
   "cell_type": "code",
   "execution_count": null,
   "metadata": {
    "pycharm": {
     "name": "#%%\n"
    }
   },
   "outputs": [],
   "source": [
    "report_2 = ProfileReport(data_2)\n",
    "report_2"
   ]
  },
  {
   "cell_type": "code",
   "execution_count": null,
   "metadata": {
    "pycharm": {
     "name": "#%%\n"
    }
   },
   "outputs": [],
   "source": [
    "pd.DataFrame(round(data_0.isna().mean() * 100, )).style.background_gradient('coolwarm')"
   ]
  },
  {
   "cell_type": "code",
   "execution_count": null,
   "metadata": {
    "pycharm": {
     "name": "#%%\n"
    }
   },
   "outputs": [],
   "source": [
    "pd.DataFrame(round(data_1.isna().mean() * 100, )).style.background_gradient('coolwarm')"
   ]
  },
  {
   "cell_type": "code",
   "execution_count": null,
   "metadata": {
    "pycharm": {
     "name": "#%%\n"
    }
   },
   "outputs": [],
   "source": [
    "pd.DataFrame(round(data_2.isna().mean() * 100, )).style.background_gradient('coolwarm')"
   ]
  },
  {
   "cell_type": "markdown",
   "metadata": {
    "pycharm": {
     "name": "#%% md\n"
    }
   },
   "source": [
    "Удалим столбцы, которые не будут участвовать в моделировании."
   ]
  },
  {
   "cell_type": "code",
   "execution_count": 27,
   "metadata": {
    "pycharm": {
     "name": "#%%\n"
    }
   },
   "outputs": [],
   "source": [
    "data_0 = data_0.drop(columns=['id'])"
   ]
  },
  {
   "cell_type": "code",
   "execution_count": 28,
   "metadata": {
    "pycharm": {
     "name": "#%%\n"
    }
   },
   "outputs": [],
   "source": [
    "data_1 = data_1.drop(columns=['id'])"
   ]
  },
  {
   "cell_type": "code",
   "execution_count": 29,
   "metadata": {
    "pycharm": {
     "name": "#%%\n"
    }
   },
   "outputs": [],
   "source": [
    "data_2 = data_2.drop(columns=['id'])"
   ]
  },
  {
   "cell_type": "markdown",
   "metadata": {
    "pycharm": {
     "name": "#%% md\n"
    }
   },
   "source": [
    "### Three datasets are clean and ready for modelling."
   ]
  },
  {
   "cell_type": "markdown",
   "metadata": {},
   "source": [
    "**ВЫВОД: Данные готовы к дальнейшему анализу. По корреляционной матрице Пирсона в данных второго местрождения data_1 прослеживается сильная зависимость (k=1.0) между признаком f2 и таргетом product. Из-за этого может быть низкое значение среднеквадратической ошибки (mean squared error, MSE)**.\n",
    "\n",
    "Линейная регрессия или обычный метод наименьших квадратов (ordinary least squares, OLS) – это самый простой и наиболее традиционный метод регрессии. Линейная регрессия находит параметры w и b, которые минимизируют среднеквадратическую ошибку (mean squared error) между спрогнозированными и фактическими ответами у в обучающем наборе. **Среднеквадратичная ошибка равна сумме квадратов разностей между спрогнозированными и фактическими значениями.**"
   ]
  },
  {
   "cell_type": "markdown",
   "metadata": {
    "pycharm": {
     "name": "#%% md\n"
    }
   },
   "source": [
    "## 2. Machine Learning Trainig and Model Check for Adequacy"
   ]
  },
  {
   "cell_type": "markdown",
   "metadata": {
    "pycharm": {
     "name": "#%% md\n"
    }
   },
   "source": [
    "### 2.1 Data split into trianing and validation samples"
   ]
  },
  {
   "cell_type": "markdown",
   "metadata": {
    "pycharm": {
     "name": "#%% md\n"
    }
   },
   "source": [
    "```\n",
    "We split the sample in the proportion as follows:\n",
    "- 75% train_data\n",
    "- 25% validation_data\n",
    "\n",
    "```"
   ]
  },
  {
   "cell_type": "markdown",
   "metadata": {
    "pycharm": {
     "name": "#%% md\n"
    }
   },
   "source": [
    "Let's write a function for dividing datasets into samples and extracting features and a target feature from them."
   ]
  },
  {
   "cell_type": "code",
   "execution_count": 30,
   "metadata": {
    "pycharm": {
     "name": "#%%\n"
    }
   },
   "outputs": [],
   "source": [
    "def split_func(data):\n",
    "    train_data, validation_data = train_test_split(data, test_size=0.25, random_state=2355555)\n",
    "    print('Train sample size (data_2):', train_data.shape[0])\n",
    "    print('Validation sample size (data_2):', validation_data.shape[0])\n",
    "    \n",
    "    train_data_features = train_data.drop(['product'], axis=1)\n",
    "    train_data_target = train_data['product']\n",
    "    \n",
    "    validation_data_features = validation_data.drop(['product'], axis=1)\n",
    "    validation_data_target = validation_data['product'] # already converted into type 'Series'\n",
    "    # validation_data_target = pd.Series(validation_data_target)\n",
    "    # print(type(validation_data_target))\n",
    "    \n",
    "    validation_data_target.reset_index(drop=True, inplace=True) # ура\n",
    "    \n",
    "    return (train_data_features, \n",
    "           train_data_target,\n",
    "           validation_data_features,\n",
    "           validation_data_target)"
   ]
  },
  {
   "cell_type": "markdown",
   "metadata": {
    "pycharm": {
     "name": "#%% md\n"
    }
   },
   "source": [
    "### 2.2 Determine features and targets for the model"
   ]
  },
  {
   "cell_type": "code",
   "execution_count": 31,
   "metadata": {
    "pycharm": {
     "name": "#%%\n"
    }
   },
   "outputs": [
    {
     "name": "stdout",
     "output_type": "stream",
     "text": [
      "Train sample size (data_2): 75000\n",
      "Validation sample size (data_2): 25000\n"
     ]
    }
   ],
   "source": [
    "train_data_0_features, train_data_0_target, validation_data_0_features, validation_data_0_target = split_func(data_0)"
   ]
  },
  {
   "cell_type": "code",
   "execution_count": 32,
   "metadata": {
    "pycharm": {
     "name": "#%%\n"
    }
   },
   "outputs": [
    {
     "name": "stdout",
     "output_type": "stream",
     "text": [
      "Train sample size (data_2): 75000\n",
      "Validation sample size (data_2): 25000\n"
     ]
    }
   ],
   "source": [
    "train_data_1_features, train_data_1_target, validation_data_1_features, validation_data_1_target = split_func(data_1)"
   ]
  },
  {
   "cell_type": "code",
   "execution_count": 33,
   "metadata": {
    "pycharm": {
     "name": "#%%\n"
    }
   },
   "outputs": [
    {
     "name": "stdout",
     "output_type": "stream",
     "text": [
      "Train sample size (data_2): 75000\n",
      "Validation sample size (data_2): 25000\n"
     ]
    }
   ],
   "source": [
    "train_data_2_features, train_data_2_target, validation_data_2_features, validation_data_2_target = split_func(data_2)"
   ]
  },
  {
   "cell_type": "markdown",
   "metadata": {
    "pycharm": {
     "name": "#%% md\n"
    }
   },
   "source": [
    "### 2.3 Modelling"
   ]
  },
  {
   "cell_type": "markdown",
   "metadata": {
    "pycharm": {
     "name": "#%% md\n"
    }
   },
   "source": [
    "**Линейная регрессия или обычный метод наименьших квадратов (ordinary least squares, OLS)** – это самый простой и наиболее традиционный метод регрессии. Линейная регрессия находит параметры w и b, которые минимизируют среднеквадратическую ошибку (mean squared error) между спрогнозированными и фактическими ответами у в обучающем наборе. \n",
    "\n",
    "Среднеквадратичная ошибка равна сумме квадратов разностей между спрогнозированными и фактическими значениями. Линейная регрессия проста, что является преимуществом, но в то же время у нее нет инструментов, позволяющих контролировать сложность модели.\n",
    "\n",
    "Параметры «наклона» (w), также называемые весами или коэффициентами (coefficients), хранятся в атрибуте coef_, тогда как сдвиг (offset) или константа (intercept), обозначаемая как b, хранится в атрибуте intercept_:\n",
    "\n",
    "\n",
    "https://github.com/earlgreyness/python-code-conventions"
   ]
  },
  {
   "cell_type": "code",
   "execution_count": 34,
   "metadata": {
    "pycharm": {
     "name": "#%%\n"
    },
    "scrolled": true
   },
   "outputs": [],
   "source": [
    "lin_reg_0 = LinearRegression().fit(train_data_0_features, train_data_0_target)"
   ]
  },
  {
   "cell_type": "code",
   "execution_count": 35,
   "metadata": {
    "pycharm": {
     "name": "#%%\n"
    }
   },
   "outputs": [
    {
     "name": "stdout",
     "output_type": "stream",
     "text": [
      "R-squared data_0: 0.27582137638120663\n",
      "lr.coef_: [  3.81421622 -14.35736273   6.59029776]\n",
      "lr.intercept_: 77.68335186069055\n"
     ]
    }
   ],
   "source": [
    "print(\"R-squared data_0: {}\".format(lin_reg_0.score(train_data_0_features, train_data_0_target)))\n",
    "print(\"lr.coef_: {}\".format(lin_reg_0.coef_))\n",
    "print(\"lr.intercept_: {}\".format(lin_reg_0.intercept_))"
   ]
  },
  {
   "cell_type": "code",
   "execution_count": 36,
   "metadata": {
    "pycharm": {
     "name": "#%%\n"
    }
   },
   "outputs": [],
   "source": [
    "lin_reg_1 = LinearRegression().fit(train_data_1_features, train_data_1_target)"
   ]
  },
  {
   "cell_type": "code",
   "execution_count": 37,
   "metadata": {
    "pycharm": {
     "name": "#%%\n"
    }
   },
   "outputs": [
    {
     "name": "stdout",
     "output_type": "stream",
     "text": [
      "R-squared data_1: 0.9996233106159619\n",
      "lr.coef_: [-1.44781028e-01 -2.17133224e-02  2.69516242e+01]\n",
      "lr.intercept_: 1.6558458464523227\n"
     ]
    }
   ],
   "source": [
    "print(\"R-squared data_1: {}\".format(lin_reg_1.score(train_data_1_features, train_data_1_target)))\n",
    "print(\"lr.coef_: {}\".format(lin_reg_1.coef_))\n",
    "print(\"lr.intercept_: {}\".format(lin_reg_1.intercept_))"
   ]
  },
  {
   "cell_type": "code",
   "execution_count": 38,
   "metadata": {
    "pycharm": {
     "name": "#%%\n"
    }
   },
   "outputs": [],
   "source": [
    "lin_reg_2 = LinearRegression().fit(train_data_2_features, train_data_2_target)"
   ]
  },
  {
   "cell_type": "code",
   "execution_count": 39,
   "metadata": {
    "pycharm": {
     "name": "#%%\n"
    }
   },
   "outputs": [
    {
     "name": "stdout",
     "output_type": "stream",
     "text": [
      "R-squared data_2: 0.1958209915640674\n",
      "lr.coef_: [-0.03742837  0.03198511  5.69847028]\n",
      "lr.intercept_: 80.86379460484727\n"
     ]
    }
   ],
   "source": [
    "print(\"R-squared data_2: {}\".format(lin_reg_2.score(train_data_2_features, train_data_2_target)))\n",
    "print(\"lr.coef_: {}\".format(lin_reg_2.coef_))\n",
    "print(\"lr.intercept_: {}\".format(lin_reg_2.intercept_))"
   ]
  },
  {
   "cell_type": "markdown",
   "metadata": {},
   "source": [
    "FYI\n",
    "\n",
    "Что за странный символ подчеркивания в конце названий атрибутов coef_ и intercept_? \n",
    "\n",
    "Библиотека scikit-learn всегда хранит все, что является производным от обучающих данных, в атрибутах, которые заканчиваются символом подчеркивания. Это делается для того, чтобы не спутать их с пользовательскими параметрами."
   ]
  },
  {
   "cell_type": "markdown",
   "metadata": {
    "pycharm": {
     "name": "#%% md\n"
    }
   },
   "source": [
    "### ***Conclusion***: the model on the first and third dataset trains poorly, since the R-squared values ​​are low. For example, on the first dataset, the model trains only 27% of the sample, on the third - only 19.5%. Of the three trained models, the best R-squared = 99.9% is obtained on the second dataset. Let's take this model as the best one and use it for predictions on validation data."
   ]
  },
  {
   "cell_type": "code",
   "execution_count": 40,
   "metadata": {
    "pycharm": {
     "name": "#%%\n"
    }
   },
   "outputs": [],
   "source": [
    "valid_predictions_0 = lin_reg_2.predict(validation_data_0_features)\n",
    "pred_valid_0 = pd.Series(valid_predictions_0).reset_index(drop=True)"
   ]
  },
  {
   "cell_type": "code",
   "execution_count": 41,
   "metadata": {
    "pycharm": {
     "name": "#%%\n"
    }
   },
   "outputs": [],
   "source": [
    "# Calculating RMSE for the model (squared MSE)\n",
    "mse_0 = mean_squared_error(validation_data_0_target, valid_predictions_0)"
   ]
  },
  {
   "cell_type": "code",
   "execution_count": 42,
   "metadata": {
    "pycharm": {
     "name": "#%%\n"
    }
   },
   "outputs": [],
   "source": [
    "valid_predictions_1 = lin_reg_2.predict(validation_data_1_features)\n",
    "pred_valid_1 = pd.Series(valid_predictions_1).reset_index(drop=True)"
   ]
  },
  {
   "cell_type": "code",
   "execution_count": 43,
   "metadata": {
    "pycharm": {
     "name": "#%%\n"
    }
   },
   "outputs": [],
   "source": [
    "# Calculating RMSE for the model (squared MSE)\n",
    "mse_1 = mean_squared_error(validation_data_1_target, valid_predictions_1)"
   ]
  },
  {
   "cell_type": "code",
   "execution_count": 44,
   "metadata": {
    "pycharm": {
     "name": "#%%\n"
    }
   },
   "outputs": [],
   "source": [
    "valid_predictions_2 = lin_reg_2.predict(validation_data_2_features)\n",
    "pred_valid_2 = pd.Series(valid_predictions_2).reset_index(drop=True)"
   ]
  },
  {
   "cell_type": "code",
   "execution_count": 45,
   "metadata": {
    "pycharm": {
     "name": "#%%\n"
    }
   },
   "outputs": [],
   "source": [
    "# Calculating RMSE for the model (squared MSE)\n",
    "mse_2 = mean_squared_error(validation_data_2_target, valid_predictions_2)"
   ]
  },
  {
   "cell_type": "code",
   "execution_count": 46,
   "metadata": {
    "pycharm": {
     "name": "#%%\n"
    }
   },
   "outputs": [
    {
     "name": "stdout",
     "output_type": "stream",
     "text": [
      "MSE_0 = 1511.5135278489633\n",
      "RMSE_0 = 38.878188330334574\n",
      "\n",
      "MSE_0 = 2001.7682251861463\n",
      "RMSE_0 = 44.74112454092036\n",
      "\n",
      "MSE_0 = 1592.125800193391\n",
      "RMSE_0 = 39.90145110385575\n"
     ]
    }
   ],
   "source": [
    "print(\"MSE_0 =\", mse_0)\n",
    "print(\"RMSE_0 =\", mse_0 ** 0.5)\n",
    "print()\n",
    "print(\"MSE_0 =\", mse_1)\n",
    "print(\"RMSE_0 =\", mse_1 ** 0.5)\n",
    "print()\n",
    "print(\"MSE_0 =\", mse_2)\n",
    "print(\"RMSE_0 =\", mse_2 ** 0.5)"
   ]
  },
  {
   "cell_type": "markdown",
   "metadata": {},
   "source": [
    "FYI\n",
    "https://habr.com/ru/company/skillfactory/blog/658277/"
   ]
  },
  {
   "cell_type": "code",
   "execution_count": 47,
   "metadata": {
    "pycharm": {
     "name": "#%%\n"
    }
   },
   "outputs": [
    {
     "name": "stdout",
     "output_type": "stream",
     "text": [
      "Mean_0\n",
      "constant MSE_0 = 1961.9077451999567\n",
      "constant RMSE_0 = 44.29342778787793\n"
     ]
    }
   ],
   "source": [
    "# константная модель - модель с один признаком\n",
    "predicted_constant_0 = pd.Series(train_data_0_target.mean(), index=validation_data_0_target.index)\n",
    "mse_0_constant = mean_squared_error(validation_data_0_target, predicted_constant_0)\n",
    "\n",
    "print(\"Mean_0\")\n",
    "print(\"constant MSE_0 =\", mse_0_constant)\n",
    "print(\"constant RMSE_0 =\", mse_0_constant ** 0.5)"
   ]
  },
  {
   "cell_type": "code",
   "execution_count": 48,
   "metadata": {
    "pycharm": {
     "name": "#%%\n"
    }
   },
   "outputs": [
    {
     "name": "stdout",
     "output_type": "stream",
     "text": [
      "Mean_1\n",
      "constant MSE_1 = 2109.529115936301\n",
      "constant RMSE_1 = 45.92961044834041\n"
     ]
    }
   ],
   "source": [
    "# константная модель - модель с один признаком\n",
    "predicted_constant_1 = pd.Series(train_data_1_target.mean(), index=validation_data_1_target.index)\n",
    "mse_1_constant = mean_squared_error(validation_data_1_target, predicted_constant_1)\n",
    "\n",
    "print(\"Mean_1\")\n",
    "print(\"constant MSE_1 =\", mse_1_constant)\n",
    "print(\"constant RMSE_1 =\", mse_1_constant ** 0.5)"
   ]
  },
  {
   "cell_type": "code",
   "execution_count": 49,
   "metadata": {
    "pycharm": {
     "name": "#%%\n"
    }
   },
   "outputs": [
    {
     "name": "stdout",
     "output_type": "stream",
     "text": [
      "Mean_2\n",
      "constant MSE_2 = 2009.323406549224\n",
      "constant RMSE_2 = 44.825477203809264\n"
     ]
    }
   ],
   "source": [
    "# константная модель - модель с один признаком\n",
    "predicted_constant_2 = pd.Series(train_data_2_target.mean(), index=validation_data_2_target.index)\n",
    "mse_2_constant = mean_squared_error(validation_data_2_target, predicted_constant_2)\n",
    "\n",
    "print(\"Mean_2\")\n",
    "print(\"constant MSE_2 =\", mse_2_constant)\n",
    "print(\"constant RMSE_2 =\", mse_2_constant ** 0.5)"
   ]
  },
  {
   "cell_type": "markdown",
   "metadata": {
    "pycharm": {
     "name": "#%% md\n"
    }
   },
   "source": [
    "**Показатели качества модели RMSE (Rooted Mean Squared Error) и R-squared важны каждый по-своему. Хотя в реальной жизни больше любят RMSE.** С одной стороны, RMSE сообщает нам типичное расстояние между прогнозируемым значением, сделанным моделью регрессии, и фактическим значением. С другой стороны, R-squared говорит нам, насколько хорошо переменные-предикторы могут объяснить изменение переменной отклика.\n",
    "\n",
    "- **RMSE:** метрика, которая сообщает нам, насколько в среднем прогнозируемые значения отличаются от наблюдаемых значений в наборе данных. Чем **ниже** RMSE, тем **лучше модель** соответствует набору данных.\n",
    "\n",
    "- **R-squared**: метрика, которая сообщает нам долю дисперсии переменной отклика регрессионной модели, которая может быть объяснена предикторными переменными. Это значение находится в диапазоне от 0 до 1. Чем **выше** значение R-squared, тем **лучше** модель соответствует набору данных."
   ]
  },
  {
   "cell_type": "markdown",
   "metadata": {
    "pycharm": {
     "name": "#%% md\n"
    }
   },
   "source": [
    "### ***Conclusion***: The lowest RMSE is obtained at the first location of the well, which says the model is the most accurate here. Let's move on to the economic part of the calculation to make decisions about which well to choose."
   ]
  },
  {
   "cell_type": "markdown",
   "metadata": {
    "pycharm": {
     "name": "#%% md\n"
    }
   },
   "source": [
    "## 3. Before Calculating Net Income"
   ]
  },
  {
   "cell_type": "markdown",
   "metadata": {
    "pycharm": {
     "name": "#%% md\n"
    }
   },
   "source": [
    "### 3.1 Все ключевые значения для расчётов сохраним в отдельных переменных"
   ]
  },
  {
   "cell_type": "code",
   "execution_count": 50,
   "metadata": {
    "pycharm": {
     "name": "#%%\n"
    }
   },
   "outputs": [],
   "source": [
    "TOTAL_BOREHOLE = 500\n",
    "MAX_BOREHOLE = 200\n",
    "REVENUE_PER_BARREL = 0.45  # в млн руб\n",
    "BUDGET = 10000  # в млн руб\n",
    "FAILURE_PROB = 0.025"
   ]
  },
  {
   "cell_type": "markdown",
   "metadata": {
    "pycharm": {
     "name": "#%% md\n"
    }
   },
   "source": [
    "- location 1"
   ]
  },
  {
   "cell_type": "code",
   "execution_count": 51,
   "metadata": {
    "pycharm": {
     "name": "#%%\n"
    }
   },
   "outputs": [],
   "source": [
    "predicted_data_0 = validation_data_0_features.copy()"
   ]
  },
  {
   "cell_type": "code",
   "execution_count": 52,
   "metadata": {
    "pycharm": {
     "name": "#%%\n"
    }
   },
   "outputs": [],
   "source": [
    "predicted_data_0['product_predicted'] = lin_reg_2.predict(validation_data_0_features)"
   ]
  },
  {
   "cell_type": "code",
   "execution_count": 53,
   "metadata": {
    "pycharm": {
     "name": "#%%\n"
    }
   },
   "outputs": [],
   "source": [
    "predicted_data_0['revenue'] = (predicted_data_0['product_predicted'] * REVENUE_PER_BARREL).sort_values(ascending=True)"
   ]
  },
  {
   "cell_type": "code",
   "execution_count": 54,
   "metadata": {
    "pycharm": {
     "name": "#%%\n"
    }
   },
   "outputs": [],
   "source": [
    "data_0_500 = predicted_data_0.nlargest(TOTAL_BOREHOLE, ['product_predicted'])"
   ]
  },
  {
   "cell_type": "markdown",
   "metadata": {
    "pycharm": {
     "name": "#%% md\n"
    }
   },
   "source": [
    "- location 2"
   ]
  },
  {
   "cell_type": "code",
   "execution_count": 55,
   "metadata": {
    "pycharm": {
     "name": "#%%\n"
    }
   },
   "outputs": [],
   "source": [
    "predicted_data_1 = validation_data_1_features.copy()"
   ]
  },
  {
   "cell_type": "code",
   "execution_count": 56,
   "metadata": {
    "pycharm": {
     "name": "#%%\n"
    }
   },
   "outputs": [],
   "source": [
    "predicted_data_1['product_predicted'] = lin_reg_2.predict(validation_data_1_features)"
   ]
  },
  {
   "cell_type": "code",
   "execution_count": 57,
   "metadata": {
    "pycharm": {
     "name": "#%%\n"
    }
   },
   "outputs": [],
   "source": [
    "predicted_data_1['revenue'] = (predicted_data_1['product_predicted'] * REVENUE_PER_BARREL).sort_values(ascending=True)"
   ]
  },
  {
   "cell_type": "code",
   "execution_count": 58,
   "metadata": {
    "pycharm": {
     "name": "#%%\n"
    }
   },
   "outputs": [],
   "source": [
    "data_1_500 = predicted_data_1.nlargest(TOTAL_BOREHOLE, ['product_predicted'])"
   ]
  },
  {
   "cell_type": "markdown",
   "metadata": {
    "pycharm": {
     "name": "#%% md\n"
    }
   },
   "source": [
    "- location 3"
   ]
  },
  {
   "cell_type": "code",
   "execution_count": 59,
   "metadata": {
    "pycharm": {
     "name": "#%%\n"
    }
   },
   "outputs": [],
   "source": [
    "predicted_data_2 = validation_data_2_features.copy()"
   ]
  },
  {
   "cell_type": "code",
   "execution_count": 60,
   "metadata": {
    "pycharm": {
     "name": "#%%\n"
    }
   },
   "outputs": [],
   "source": [
    "predicted_data_2['product_predicted'] = lin_reg_2.predict(validation_data_2_features)"
   ]
  },
  {
   "cell_type": "code",
   "execution_count": 61,
   "metadata": {
    "pycharm": {
     "name": "#%%\n"
    }
   },
   "outputs": [],
   "source": [
    "predicted_data_2['revenue'] = (predicted_data_2['product_predicted'] * REVENUE_PER_BARREL).sort_values(ascending=True)"
   ]
  },
  {
   "cell_type": "code",
   "execution_count": 62,
   "metadata": {
    "pycharm": {
     "name": "#%%\n"
    }
   },
   "outputs": [],
   "source": [
    "data_2_500 = predicted_data_2.nlargest(TOTAL_BOREHOLE, ['product_predicted'])"
   ]
  },
  {
   "cell_type": "markdown",
   "metadata": {
    "pycharm": {
     "name": "#%% md\n"
    }
   },
   "source": [
    "### 3.2 Let's calculate the sufficient volume of raw materials for break-even development of a new well. Let's compare the received volume of raw materials with the average stock in each region."
   ]
  },
  {
   "cell_type": "markdown",
   "metadata": {
    "pycharm": {
     "name": "#%% md\n"
    }
   },
   "source": [
    "#### 3.2.1 Calculate the break even point (BEP, break even point) as the minimum volume of raw material production (in thousand barrels) for any field, knowing that the budget = 10 billion RUB and the cost of a thousand barrels = 450 thousand RUB."
   ]
  },
  {
   "cell_type": "code",
   "execution_count": 67,
   "metadata": {
    "pycharm": {
     "name": "#%%\n"
    }
   },
   "outputs": [
    {
     "name": "stdout",
     "output_type": "stream",
     "text": [
      "  22222.22k barrels of raw product minimum is required to dwell in order to payoff the costs for development of a new drill.\n"
     ]
    }
   ],
   "source": [
    "bep = BUDGET / REVENUE_PER_BARREL\n",
    "print('{:10.2f}k barrels of raw product minimum is required to dwell in order to payoff the costs for development of a new drill.'.format(\n",
    "        bep))"
   ]
  },
  {
   "cell_type": "markdown",
   "metadata": {
    "pycharm": {
     "name": "#%% md\n"
    }
   },
   "source": [
    "#### 3.2.2 Considering that only 200 best wells will be developed in the field, we will calculate the break-even point for each well within one field."
   ]
  },
  {
   "cell_type": "code",
   "execution_count": 68,
   "metadata": {
    "pycharm": {
     "name": "#%%\n"
    }
   },
   "outputs": [
    {
     "name": "stdout",
     "output_type": "stream",
     "text": [
      "    111.11 k barrels of raw product minimum is required to dwell in order to payoff the costs for development of a new drill.\n"
     ]
    }
   ],
   "source": [
    "bep_200 = bep / 200\n",
    "print('{:10.2f} k barrels of raw product minimum is required to dwell in order to payoff the costs for development of a new drill.'.format(\n",
    "        bep_200))"
   ]
  },
  {
   "cell_type": "markdown",
   "metadata": {
    "pycharm": {
     "name": "#%% md\n"
    }
   },
   "source": [
    "#### 3.2.3 Let's calculate break-even points for each individual field. They must be of the same order as the mean bep_200."
   ]
  },
  {
   "cell_type": "code",
   "execution_count": 119,
   "metadata": {
    "pycharm": {
     "name": "#%%\n"
    },
    "scrolled": true
   },
   "outputs": [
    {
     "name": "stdout",
     "output_type": "stream",
     "text": [
      "Достаточный объем сырья: 159.56\n",
      "Средний объем запасов в регионе: 139.27\n"
     ]
    }
   ],
   "source": [
    "data_0_500['break_even_point'] = BUDGET / data_0_500['revenue'].mean()\n",
    "print('Sufficient amount of raw materials:', round(data_0_500['break_even_point'].mean(), 2))\n",
    "print('Average supply in the region:', round(data_0_500['product_predicted'].mean(), 2))"
   ]
  },
  {
   "cell_type": "code",
   "execution_count": 120,
   "metadata": {
    "pycharm": {
     "name": "#%%\n"
    },
    "scrolled": true
   },
   "outputs": [
    {
     "name": "stdout",
     "output_type": "stream",
     "text": [
      "Достаточный объем сырья: 202.53\n",
      "Средний объем запасов в регионе: 109.73\n"
     ]
    }
   ],
   "source": [
    "data_1_500['break_even_point'] = BUDGET / data_1_500['revenue'].mean()\n",
    "print('Sufficient amount of raw materials:', round(data_1_500['break_even_point'].mean(), 2))\n",
    "print('Average supply in the region:', round(data_1_500['product_predicted'].mean(), 2))"
   ]
  },
  {
   "cell_type": "code",
   "execution_count": 69,
   "metadata": {
    "pycharm": {
     "name": "#%%\n"
    }
   },
   "outputs": [
    {
     "name": "stdout",
     "output_type": "stream",
     "text": [
      "Sufficient amount of raw materials: 155.53\n",
      "Average supply in the region: 142.88\n"
     ]
    }
   ],
   "source": [
    "data_2_500['break_even_point'] = BUDGET / data_2_500['revenue'].mean()\n",
    "print('Sufficient amount of raw materials:', round(data_2_500['break_even_point'].mean(), 2))\n",
    "print('Average supply in the region:', round(data_2_500['product_predicted'].mean(), 2))"
   ]
  },
  {
   "cell_type": "markdown",
   "metadata": {
    "pycharm": {
     "name": "#%% md\n"
    }
   },
   "source": [
    "### ***Conclusion***: All three districts with 500 dwells are within budget; the second region is the cheapest in terms of cost, the third region is the most expensive."
   ]
  },
  {
   "cell_type": "markdown",
   "metadata": {
    "pycharm": {
     "name": "#%% md\n"
    }
   },
   "source": [
    "## 4. Calculating Net Income and Risk Ration"
   ]
  },
  {
   "cell_type": "markdown",
   "metadata": {
    "pycharm": {
     "name": "#%% md\n"
    }
   },
   "source": [
    "During the exploration of the region, 500 points are explored, from which, using machine learning, the best 200 are selected for development.\n",
    "\n",
    "- The budget for the development of wells in the region is 10 billion rubles.\n",
    "\n",
    "- At current prices, one barrel of raw materials brings 450 rubles of income. The income from each unit of the product is 450 thousand rubles, since the volume is indicated in thousands of barrels.\n",
    "\n",
    "- After assessing the risks, you need to leave only those regions in which the probability of losses is less than 2.5%. **Among them, choose the region with the highest average profit.**"
   ]
  },
  {
   "cell_type": "markdown",
   "metadata": {
    "pycharm": {
     "name": "#%% md\n"
    }
   },
   "source": [
    "### 4.1 Let's select wells with maximum prediction values."
   ]
  },
  {
   "cell_type": "markdown",
   "metadata": {
    "pycharm": {
     "name": "#%% md\n"
    }
   },
   "source": [
    "#### Target metric of the experiment: 0.95-quantile of this distribution.\n",
    "\n",
    "- That is, we discard 5% of the largest values, and for the rest we look for the maximum.\n",
    "It is necessary to estimate the 95% confidence interval for the 0.99-quantile (for 99% of wells out of 500 randomly selected wells).\n",
    "\n",
    "Let's create subsamples for the bootstrap using the sample() function.\n",
    "\n",
    "**For the economic calculation, we will use the validation_data_0_features validation set, which has 25,000 observations. Based on this data, we will form predictions, calculate the profit and compare it with the actual data validation_data_0_target.**"
   ]
  },
  {
   "cell_type": "markdown",
   "metadata": {
    "pycharm": {
     "name": "#%% md\n"
    }
   },
   "source": [
    "***Let's make predictions on the validation data and estimate the RMSE value for each field.***"
   ]
  },
  {
   "cell_type": "code",
   "execution_count": 70,
   "metadata": {
    "pycharm": {
     "name": "#%%\n"
    }
   },
   "outputs": [
    {
     "name": "stdout",
     "output_type": "stream",
     "text": [
      "RMSE = 38.88\n",
      "Average stock of predicted raw materials: 95.14k barrels\n"
     ]
    }
   ],
   "source": [
    "predicted_0 = pd.Series(lin_reg_2.predict(validation_data_0_features))  # product prediction at location 1\n",
    "rmse_0 = mean_squared_error(validation_data_0_target, predicted_0) ** 0.5\n",
    "\n",
    "print(\"RMSE = {}\".format(round(rmse_0, 2)))\n",
    "print(\"Average stock of predicted raw materials: {}k barrels\".format(round(predicted_0.mean(), 2)))"
   ]
  },
  {
   "cell_type": "code",
   "execution_count": 71,
   "metadata": {
    "pycharm": {
     "name": "#%%\n"
    }
   },
   "outputs": [
    {
     "name": "stdout",
     "output_type": "stream",
     "text": [
      "RMSE = 44.74\n",
      "Average stock of predicted raw materials: 94.83k barrels\n"
     ]
    }
   ],
   "source": [
    "predicted_1 = pd.Series(lin_reg_2.predict(validation_data_1_features))  # product prediction at location 2\n",
    "rmse_1 = mean_squared_error(validation_data_1_target, predicted_1) ** 0.5\n",
    "\n",
    "print(\"RMSE = {}\".format(round(rmse_1, 2)))\n",
    "print(\"Average stock of predicted raw materials: {}k barrels\".format(round(predicted_1.mean(), 2)))"
   ]
  },
  {
   "cell_type": "code",
   "execution_count": 72,
   "metadata": {
    "pycharm": {
     "name": "#%%\n"
    }
   },
   "outputs": [
    {
     "name": "stdout",
     "output_type": "stream",
     "text": [
      "RMSE = 39.9\n",
      "Average stock of predicted raw materials: 95.41k barrels\n"
     ]
    }
   ],
   "source": [
    "predicted_2 = pd.Series(lin_reg_2.predict(validation_data_2_features))  # product prediction at location 3\n",
    "rmse_2 = mean_squared_error(validation_data_2_target, predicted_2) ** 0.5\n",
    "\n",
    "print(\"RMSE = {}\".format(round(rmse_2, 2)))\n",
    "print(\"Average stock of predicted raw materials: {}k barrels\".format(round(predicted_2.mean(), 2)))"
   ]
  },
  {
   "cell_type": "markdown",
   "metadata": {
    "pycharm": {
     "name": "#%% md\n"
    }
   },
   "source": [
    "**Let's create three new datasets for three fields, each of which consists of two columns: the initial values ​​of the 'product' production volume from the validation_data_0_target validation data and the 'predicted' prediction.** Write a function for this."
   ]
  },
  {
   "cell_type": "code",
   "execution_count": 73,
   "metadata": {
    "pycharm": {
     "name": "#%%\n"
    }
   },
   "outputs": [],
   "source": [
    "def df_function(predicted, product):\n",
    "    predicted1 = predicted.reset_index(drop=True) \n",
    "    product1 = product.reset_index(drop=True)\n",
    "    pp = {\n",
    "        'predicted': predicted1,\n",
    "        'product': product1\n",
    "    }\n",
    "\n",
    "    product_and_predicted = pd.DataFrame(data=pp)\n",
    "    return product_and_predicted  #change tony"
   ]
  },
  {
   "cell_type": "code",
   "execution_count": 74,
   "metadata": {
    "pycharm": {
     "name": "#%%\n"
    }
   },
   "outputs": [],
   "source": [
    "product_and_predicted_0 = df_function(predicted_0, validation_data_0_target)"
   ]
  },
  {
   "cell_type": "code",
   "execution_count": 76,
   "metadata": {
    "pycharm": {
     "name": "#%%\n"
    }
   },
   "outputs": [
    {
     "data": {
      "text/plain": [
       "0    103.259711\n",
       "1    144.736629\n",
       "2    124.099917\n",
       "3    118.245416\n",
       "4    106.524526\n",
       "dtype: float64"
      ]
     },
     "execution_count": 76,
     "metadata": {},
     "output_type": "execute_result"
    }
   ],
   "source": [
    "predicted_0.head()"
   ]
  },
  {
   "cell_type": "code",
   "execution_count": 78,
   "metadata": {
    "pycharm": {
     "name": "#%%\n"
    }
   },
   "outputs": [
    {
     "data": {
      "text/plain": [
       "0    134.321817\n",
       "1    162.649604\n",
       "2    153.376696\n",
       "3    111.405536\n",
       "4    131.971286\n",
       "Name: product, dtype: float64"
      ]
     },
     "execution_count": 78,
     "metadata": {},
     "output_type": "execute_result"
    }
   ],
   "source": [
    "validation_data_0_target.head()"
   ]
  },
  {
   "cell_type": "code",
   "execution_count": 79,
   "metadata": {
    "pycharm": {
     "name": "#%%\n"
    }
   },
   "outputs": [
    {
     "data": {
      "text/html": [
       "<div>\n",
       "<style scoped>\n",
       "    .dataframe tbody tr th:only-of-type {\n",
       "        vertical-align: middle;\n",
       "    }\n",
       "\n",
       "    .dataframe tbody tr th {\n",
       "        vertical-align: top;\n",
       "    }\n",
       "\n",
       "    .dataframe thead th {\n",
       "        text-align: right;\n",
       "    }\n",
       "</style>\n",
       "<table border=\"1\" class=\"dataframe\">\n",
       "  <thead>\n",
       "    <tr style=\"text-align: right;\">\n",
       "      <th></th>\n",
       "      <th>predicted</th>\n",
       "      <th>product</th>\n",
       "    </tr>\n",
       "  </thead>\n",
       "  <tbody>\n",
       "    <tr>\n",
       "      <th>0</th>\n",
       "      <td>103.259711</td>\n",
       "      <td>134.321817</td>\n",
       "    </tr>\n",
       "    <tr>\n",
       "      <th>1</th>\n",
       "      <td>144.736629</td>\n",
       "      <td>162.649604</td>\n",
       "    </tr>\n",
       "    <tr>\n",
       "      <th>2</th>\n",
       "      <td>124.099917</td>\n",
       "      <td>153.376696</td>\n",
       "    </tr>\n",
       "    <tr>\n",
       "      <th>3</th>\n",
       "      <td>118.245416</td>\n",
       "      <td>111.405536</td>\n",
       "    </tr>\n",
       "    <tr>\n",
       "      <th>4</th>\n",
       "      <td>106.524526</td>\n",
       "      <td>131.971286</td>\n",
       "    </tr>\n",
       "  </tbody>\n",
       "</table>\n",
       "</div>"
      ],
      "text/plain": [
       "    predicted     product\n",
       "0  103.259711  134.321817\n",
       "1  144.736629  162.649604\n",
       "2  124.099917  153.376696\n",
       "3  118.245416  111.405536\n",
       "4  106.524526  131.971286"
      ]
     },
     "execution_count": 79,
     "metadata": {},
     "output_type": "execute_result"
    }
   ],
   "source": [
    "product_and_predicted_0.head()"
   ]
  },
  {
   "cell_type": "code",
   "execution_count": 87,
   "metadata": {
    "pycharm": {
     "name": "#%%\n"
    }
   },
   "outputs": [],
   "source": [
    "product_and_predicted_1 = df_function(predicted_1, validation_data_1_target)"
   ]
  },
  {
   "cell_type": "code",
   "execution_count": 88,
   "metadata": {
    "pycharm": {
     "name": "#%%\n"
    }
   },
   "outputs": [],
   "source": [
    "product_and_predicted_2 = df_function(predicted_2, validation_data_2_target)"
   ]
  },
  {
   "cell_type": "markdown",
   "metadata": {
    "pycharm": {
     "name": "#%% md\n"
    }
   },
   "source": [
    "### 4.2 Sum up the target value of the volume of raw materials corresponding to these predictions."
   ]
  },
  {
   "cell_type": "markdown",
   "metadata": {
    "pycharm": {
     "name": "#%% md\n"
    }
   },
   "source": [
    "**From the new datasets obtained above with two columns product, preducted, we select the 200 best wells by the value of predicted volumes and calculate the average actual volume from the initial product data.** Let's write a function for speed, where the value is MAX_BOREHOLE=200."
   ]
  },
  {
   "cell_type": "code",
   "execution_count": 89,
   "metadata": {
    "pycharm": {
     "name": "#%%\n"
    }
   },
   "outputs": [],
   "source": [
    "def sum_actual_product(data):\n",
    "    actual_product = data['product'].sum()\n",
    "    return actual_product"
   ]
  },
  {
   "cell_type": "code",
   "execution_count": 90,
   "metadata": {
    "pycharm": {
     "name": "#%%\n"
    }
   },
   "outputs": [
    {
     "name": "stdout",
     "output_type": "stream",
     "text": [
      "The target value of the volume of raw materials, corresponding to the predictions: 2312765.73k barrels\n"
     ]
    }
   ],
   "source": [
    "actual_target_0 = sum_actual_product(product_and_predicted_0)\n",
    "print(\"The target value of the volume of raw materials, corresponding to the predictions: {}k barrels\".format(round(actual_target_0, 2)))"
   ]
  },
  {
   "cell_type": "code",
   "execution_count": 91,
   "metadata": {
    "pycharm": {
     "name": "#%%\n"
    }
   },
   "outputs": [
    {
     "name": "stdout",
     "output_type": "stream",
     "text": [
      "The target value of the volume of raw materials, corresponding to the predictions:1714138.25k barrels\n"
     ]
    }
   ],
   "source": [
    "actual_target_1 = sum_actual_product(product_and_predicted_1)\n",
    "print(\"The target value of the volume of raw materials, corresponding to the predictions:{}k barrels\".format(round(actual_target_1, 2)))"
   ]
  },
  {
   "cell_type": "code",
   "execution_count": 92,
   "metadata": {
    "pycharm": {
     "name": "#%%\n"
    }
   },
   "outputs": [
    {
     "name": "stdout",
     "output_type": "stream",
     "text": [
      "The target value of the volume of raw materials, corresponding to the predictions: 2377017.23k barrels\n"
     ]
    }
   ],
   "source": [
    "actual_target_2 = sum_actual_product(product_and_predicted_2)\n",
    "print(\"The target value of the volume of raw materials, corresponding to the predictions: {}k barrels\".format(round(actual_target_2, 2)))"
   ]
  },
  {
   "cell_type": "markdown",
   "metadata": {
    "pycharm": {
     "name": "#%% md\n"
    }
   },
   "source": [
    "### 4.3 Calculate the profit for the received volume of raw materials"
   ]
  },
  {
   "cell_type": "code",
   "execution_count": 94,
   "metadata": {
    "pycharm": {
     "name": "#%%\n"
    }
   },
   "outputs": [],
   "source": [
    "def calc_net_income(product_and_predicted, count):\n",
    "    pred_sorted = product_and_predicted.sort_values(by='predicted', ascending=False) # '000\n",
    "    selected = product_and_predicted['product'][pred_sorted.index][:count].sum() # '000\n",
    "    net_income = round(((selected * REVENUE_PER_BARREL) - BUDGET), 2)\n",
    "    return net_income"
   ]
  },
  {
   "cell_type": "code",
   "execution_count": 95,
   "metadata": {
    "pycharm": {
     "name": "#%%\n"
    }
   },
   "outputs": [
    {
     "name": "stdout",
     "output_type": "stream",
     "text": [
      "Net Income: 2715.46 mln RUB\n"
     ]
    }
   ],
   "source": [
    "net_income_0 = calc_net_income(product_and_predicted_0, 200)\n",
    "print(f'Net Income: {net_income_0} mln RUB')"
   ]
  },
  {
   "cell_type": "code",
   "execution_count": 96,
   "metadata": {
    "pycharm": {
     "name": "#%%\n"
    }
   },
   "outputs": [
    {
     "name": "stdout",
     "output_type": "stream",
     "text": [
      "Net Income: 2415.09 mln RUB\n"
     ]
    }
   ],
   "source": [
    "net_income_1 = calc_net_income(product_and_predicted_1, 200)\n",
    "print(f'Net Income: {net_income_1} mln RUB')"
   ]
  },
  {
   "cell_type": "code",
   "execution_count": 97,
   "metadata": {
    "pycharm": {
     "name": "#%%\n"
    }
   },
   "outputs": [
    {
     "name": "stdout",
     "output_type": "stream",
     "text": [
      "Net Income: 2549.98 mln RUB\n"
     ]
    }
   ],
   "source": [
    "net_income_2 = calc_net_income(product_and_predicted_2, 200)\n",
    "print(f'Net Income: {net_income_2} mln RUB')"
   ]
  },
  {
   "cell_type": "markdown",
   "metadata": {
    "pycharm": {
     "name": "#%% md\n"
    }
   },
   "source": [
    "### 4.4 Bootstrap для расчета рисков"
   ]
  },
  {
   "cell_type": "markdown",
   "metadata": {},
   "source": [
    "The bootstrap method works like this:\n",
    "\n",
    "    1. We are given a dataset of size n.\n",
    "    \n",
    "    2. For b bootstrap rounds:\n",
    "    \n",
    "We draw one single instance from this dataset and assign it to the jth bootstrap sample.\n",
    "We repeat this step until our bootstrap sample has size n – the size of the original dataset.\n",
    "Each time, we draw samples from the same original dataset such that certain examples may\n",
    "appear more than once in a bootstrap sample and some not at all.\n",
    "\n",
    "    3. We fit a model to each of the b bootstrap samples and compute the resubstitution accuracy.\n",
    "\n",
    "    4. We compute the model accuracy as the average over the b accuracy estimates\n",
    "    \n",
    "https://arxiv.org/pdf/1811.12808.pdf\n",
    "\n",
    "https://github.com/rasbt/model-eval-article-supplementary/blob/master/code/resampling-and-kfold.ipynb"
   ]
  },
  {
   "cell_type": "code",
   "execution_count": 100,
   "metadata": {
    "pycharm": {
     "name": "#%%\n"
    }
   },
   "outputs": [],
   "source": [
    "def net_income_bootstrap(product_and_predicted):\n",
    "    state = np.random.RandomState(12345)\n",
    "    values = []\n",
    "    count = 0\n",
    "\n",
    "    for i in range(1000):\n",
    "        target_subsample = product_and_predicted['product'].sample(n=500, replace=True, random_state=state)\n",
    "        pred_subsample = product_and_predicted['predicted'][target_subsample.index]\n",
    "        net_income = calc_net_income(df_function(pred_subsample, target_subsample), 200)\n",
    "        values.append(net_income)\n",
    "\n",
    "        # проверяем не является выборка убыточной, если является, то увеличиваем счетчик\n",
    "        if net_income < 0:\n",
    "            count += 1\n",
    "\n",
    "    values = pd.Series(values)\n",
    "    lower = values.quantile(0.01)\n",
    "    upper = values.quantile(0.99)\n",
    "\n",
    "    mean = values.mean()\n",
    "    confidence_interval = st.t.interval(0.95, len(values) - 1, mean, np.std(values, ddof=1))\n",
    "\n",
    "    print('Average Net Income from 200 Best Dwells: {} mln RUB'.format(mean))\n",
    "    print()\n",
    "    print(\"1% quantile:\", lower, \"mln RUB\")\n",
    "    print(\"99% quantile:\", upper, \"mln RUB\")\n",
    "    print()\n",
    "    print(\"95% confidence interval:\", confidence_interval, \"mln RUB\")\n",
    "\n",
    "    pvalue = 1. * count / 1000  # bootstrap interations\n",
    "    if pvalue < FAILURE_PROB:\n",
    "        print(\"Loss probability is equal to {:.2%} and is less than acceptable, the region meets the criteria\".format(\n",
    "            pvalue))\n",
    "    else:\n",
    "        print(\"The probability of loss is {:.2%} and is more than allowed, the region does NOT meet the criteria\".format(\n",
    "            pvalue))\n",
    "\n",
    "    # build the distribution of revenue by region\n",
    "    plt.figure()\n",
    "    _ = plt.hist(values, bins=100)\n",
    "\n",
    "    # left limit of the confidence interval\n",
    "    one_x12, one_y12 = [confidence_interval[0], confidence_interval[0]], [0, 30]\n",
    "    \n",
    "    # right bound of the confidence interval\n",
    "    two_x12, two_y12 = [confidence_interval[1], confidence_interval[1]], [0, 30]\n",
    "    plt.title('Net Income Distribution Histogram')\n",
    "    plt.xlabel('Net Income, mln RUB')\n",
    "    plt.plot(one_x12, one_y12, two_x12, two_y12, marker='o')"
   ]
  },
  {
   "cell_type": "markdown",
   "metadata": {
    "pycharm": {
     "name": "#%% md\n"
    }
   },
   "source": [
    "#### 4.4.1 Bootstrap on the initial data of the 1st field data_0"
   ]
  },
  {
   "cell_type": "code",
   "execution_count": 101,
   "metadata": {
    "pycharm": {
     "name": "#%%\n"
    },
    "scrolled": true
   },
   "outputs": [
    {
     "name": "stdout",
     "output_type": "stream",
     "text": [
      "Average Net Income from 200 Best Dwells: 296.01390999999995 mln RUB\n",
      "\n",
      "1% quantile: -344.9683 mln RUB\n",
      "99% quantile: 932.4391999999999 mln RUB\n",
      "\n",
      "95% confidence interval: (-218.93924409935204, 810.967064099352) mln RUB\n",
      "The probability of loss is 11.80% and is more than allowed, the region does NOT meet the criteria\n"
     ]
    },
    {
     "data": {
      "image/png": "[encoded data removed]",
      "text/plain": [
       "<Figure size 640x480 with 1 Axes>"
      ]
     },
     "metadata": {},
     "output_type": "display_data"
    }
   ],
   "source": [
    "net_income_bootstrap(product_and_predicted_0)"
   ]
  },
  {
   "cell_type": "markdown",
   "metadata": {
    "pycharm": {
     "name": "#%% md\n"
    }
   },
   "source": [
    "#### 4.4.2 Bootstrap on initial data of 2nd field data_1"
   ]
  },
  {
   "cell_type": "code",
   "execution_count": 102,
   "metadata": {
    "pycharm": {
     "name": "#%%\n"
    }
   },
   "outputs": [
    {
     "name": "stdout",
     "output_type": "stream",
     "text": [
      "Average Net Income from 200 Best Dwells: 414.83570000000003 mln RUB\n",
      "\n",
      "1% quantile: -56.0397 mln RUB\n",
      "99% quantile: 879.37 mln RUB\n",
      "\n",
      "95% confidence interval: (16.254760668259962, 813.41663933174) mln RUB\n",
      "Loss probability is equal to 2.40% and is less than acceptable, the region meets the criteria\n"
     ]
    },
    {
     "data": {
      "image/png": "[encoded data removed]",
      "text/plain": [
       "<Figure size 640x480 with 1 Axes>"
      ]
     },
     "metadata": {},
     "output_type": "display_data"
    }
   ],
   "source": [
    "net_income_bootstrap(product_and_predicted_1)"
   ]
  },
  {
   "cell_type": "markdown",
   "metadata": {
    "pycharm": {
     "name": "#%% md\n"
    }
   },
   "source": [
    "#### 4.4.3 Bootstrap on initial data of 3rd field data_2"
   ]
  },
  {
   "cell_type": "code",
   "execution_count": 103,
   "metadata": {
    "pycharm": {
     "name": "#%%\n"
    },
    "scrolled": true
   },
   "outputs": [
    {
     "name": "stdout",
     "output_type": "stream",
     "text": [
      "Average Net Income from 200 Best Dwells: 447.19702 mln RUB\n",
      "\n",
      "1% quantile: -172.288 mln RUB\n",
      "99% quantile: 1051.9417999999998 mln RUB\n",
      "\n",
      "95% confidence interval: (-93.78258798842154, 988.1766279884216) mln RUB\n",
      "The probability of loss is 4.90% and is more than allowed, the region does NOT meet the criteria\n"
     ]
    },
    {
     "data": {
      "image/png": "[encoded data removed]",
      "text/plain": [
       "<Figure size 640x480 with 1 Axes>"
      ]
     },
     "metadata": {},
     "output_type": "display_data"
    }
   ],
   "source": [
    "net_income_bootstrap(product_and_predicted_2)"
   ]
  },
  {
   "cell_type": "markdown",
   "metadata": {
    "pycharm": {
     "name": "#%% md\n"
    }
   },
   "source": [
    "## ***Conclusion***: 2nd drilling field is suitable for development (risk level < 2.5%)"
   ]
  },
  {
   "cell_type": "markdown",
   "metadata": {
    "pycharm": {
     "name": "#%% md\n"
    }
   },
   "source": [
    "- All three fields for development are within the budget, the maximum profit is brought by 200 wells in the 2nd and 3rd fields (more than 400 million RUB). While in the 1st - about 300 million RUB.\n",
    "\n",
    "- The largest volume of production is observed in the 1st and 3rd regions. However, in the 3rd region - the highest cost of developing the field.\n",
    "\n",
    "- 1-ое и 3-е месторождения обладают высокой вероятностью убытков (11.5% и 4.9% соответственно), поэтому не проходят по критериям установленной бизнес-задачи (вероятность убытков должна быть меньше 2,5 %). Также эта ситуация хорошо описывается 95-% доверительным интервалом. Левая граница, которая отделяет 2.5 % данных для трех регионов принимает отрицательное значение, что говорит о том, что более 2.5 % выборок имеют отрицательную прибыль.\n",
    "\n",
    "- 1st and 3rd fields have a high probability of losses (11.5% and 4.9% respectively), therefore they do not meet the criteria of the established business task (the probability of losses should be less than 2.5%). \n",
    "\n",
    "- Also, this situation is well described by the 95% confidence interval. The left border, which separates 2.5% of the data for the three regions, takes a negative value, which indicates that more than 2.5% of the samples have a negative profit.\n",
    "\n",
    "- **In the 2nd region, the probability of losses is 2.4% and is less than acceptable, the region meets the criteria of the task. The 2nd field is recommended for development within the proposed budget and conditions.**"
   ]
  },
  {
   "cell_type": "markdown",
   "metadata": {},
   "source": [
    "_Thank you for going through this project. Your feedback and comments are very welcome to_ **_ybezginova2021@gmail.com_**\n",
    "\n",
    "_Thank you!_\n",
    "\n",
    "_Best wishes,_\n",
    "\n",
    "_Yulia_"
   ]
  }
 ],
 "metadata": {
  "ExecuteTimeLog": [
   {
    "duration": 1637,
    "start_time": "2022-09-27T17:48:17.459Z"
   },
   {
    "duration": 758,
    "start_time": "2022-09-27T17:48:20.316Z"
   },
   {
    "duration": 13411,
    "start_time": "2022-09-27T17:51:29.944Z"
   },
   {
    "duration": 71,
    "start_time": "2022-09-27T17:51:57.158Z"
   },
   {
    "duration": 50,
    "start_time": "2022-09-27T17:52:03.236Z"
   },
   {
    "duration": 2496,
    "start_time": "2022-09-27T17:52:10.987Z"
   },
   {
    "duration": 7,
    "start_time": "2022-09-27T17:52:15.235Z"
   },
   {
    "duration": 628,
    "start_time": "2022-09-27T17:52:21.839Z"
   },
   {
    "duration": 10,
    "start_time": "2022-09-27T17:52:54.614Z"
   },
   {
    "duration": 8,
    "start_time": "2022-09-27T17:52:56.861Z"
   },
   {
    "duration": 6,
    "start_time": "2022-09-27T17:52:58.222Z"
   },
   {
    "duration": 163,
    "start_time": "2022-09-27T17:53:15.206Z"
   },
   {
    "duration": 25,
    "start_time": "2022-09-27T17:53:20.581Z"
   },
   {
    "duration": 19,
    "start_time": "2022-09-27T17:53:26.985Z"
   },
   {
    "duration": 21,
    "start_time": "2022-09-27T17:53:31.478Z"
   },
   {
    "duration": 4,
    "start_time": "2022-09-27T17:53:51.145Z"
   },
   {
    "duration": 10006,
    "start_time": "2022-09-27T17:54:00.834Z"
   },
   {
    "duration": 9447,
    "start_time": "2022-09-27T17:54:23.131Z"
   },
   {
    "duration": 9749,
    "start_time": "2022-09-27T17:55:06.797Z"
   },
   {
    "duration": 30,
    "start_time": "2022-09-27T17:55:34.963Z"
   },
   {
    "duration": 15,
    "start_time": "2022-09-27T17:55:42.419Z"
   },
   {
    "duration": 17,
    "start_time": "2022-09-27T17:55:48.029Z"
   },
   {
    "duration": 14,
    "start_time": "2022-09-27T18:04:22.657Z"
   },
   {
    "duration": 65,
    "start_time": "2022-09-27T18:04:55.726Z"
   },
   {
    "duration": 16,
    "start_time": "2022-09-27T18:06:46.522Z"
   },
   {
    "duration": 17,
    "start_time": "2022-09-27T18:07:36.253Z"
   },
   {
    "duration": 16,
    "start_time": "2022-09-27T18:08:03.126Z"
   },
   {
    "duration": 26,
    "start_time": "2022-09-27T18:08:08.577Z"
   },
   {
    "duration": 13,
    "start_time": "2022-09-27T18:09:35.088Z"
   },
   {
    "duration": 21,
    "start_time": "2022-09-27T18:10:01.921Z"
   },
   {
    "duration": 7,
    "start_time": "2022-09-27T18:10:08.713Z"
   },
   {
    "duration": 8,
    "start_time": "2022-09-27T18:10:32.654Z"
   },
   {
    "duration": 8,
    "start_time": "2022-09-27T18:11:04.127Z"
   },
   {
    "duration": 9,
    "start_time": "2022-09-27T18:11:04.359Z"
   },
   {
    "duration": 6,
    "start_time": "2022-09-27T18:15:28.015Z"
   },
   {
    "duration": 5,
    "start_time": "2022-09-27T18:15:28.256Z"
   },
   {
    "duration": 6,
    "start_time": "2022-09-27T18:15:28.473Z"
   },
   {
    "duration": 12,
    "start_time": "2022-09-27T18:16:56.407Z"
   },
   {
    "duration": 43,
    "start_time": "2022-09-27T18:16:58.307Z"
   },
   {
    "duration": 12,
    "start_time": "2022-09-27T18:16:58.768Z"
   },
   {
    "duration": 51,
    "start_time": "2022-09-27T18:17:15.657Z"
   },
   {
    "duration": 5,
    "start_time": "2022-09-27T18:17:38.902Z"
   },
   {
    "duration": 6,
    "start_time": "2022-09-27T18:17:40.550Z"
   },
   {
    "duration": 35,
    "start_time": "2022-09-27T18:17:46.391Z"
   },
   {
    "duration": 13,
    "start_time": "2022-09-27T18:17:58.376Z"
   },
   {
    "duration": 33,
    "start_time": "2022-09-27T18:19:05.970Z"
   },
   {
    "duration": 3,
    "start_time": "2022-09-27T18:20:25.689Z"
   },
   {
    "duration": 33,
    "start_time": "2022-09-27T18:20:26.291Z"
   },
   {
    "duration": 33,
    "start_time": "2022-09-27T18:20:34.005Z"
   },
   {
    "duration": 16,
    "start_time": "2022-09-27T18:20:45.491Z"
   },
   {
    "duration": 34,
    "start_time": "2022-09-27T18:20:52.783Z"
   },
   {
    "duration": 7,
    "start_time": "2022-09-27T18:21:09.217Z"
   },
   {
    "duration": 8,
    "start_time": "2022-09-27T18:21:09.601Z"
   },
   {
    "duration": 8,
    "start_time": "2022-09-27T18:21:09.907Z"
   },
   {
    "duration": 6,
    "start_time": "2022-09-27T18:21:10.565Z"
   },
   {
    "duration": 5,
    "start_time": "2022-09-27T18:21:10.893Z"
   },
   {
    "duration": 6,
    "start_time": "2022-09-27T18:21:11.175Z"
   },
   {
    "duration": 3,
    "start_time": "2022-09-27T18:21:12.285Z"
   },
   {
    "duration": 38,
    "start_time": "2022-09-27T18:21:12.879Z"
   },
   {
    "duration": 6,
    "start_time": "2022-09-27T18:21:35.536Z"
   },
   {
    "duration": 381,
    "start_time": "2022-09-27T18:21:36.187Z"
   },
   {
    "duration": 2579,
    "start_time": "2022-09-27T18:21:36.570Z"
   },
   {
    "duration": 3,
    "start_time": "2022-09-27T18:21:39.152Z"
   },
   {
    "duration": 22,
    "start_time": "2022-09-27T18:21:43.891Z"
   },
   {
    "duration": 20,
    "start_time": "2022-09-27T18:21:44.264Z"
   },
   {
    "duration": 21,
    "start_time": "2022-09-27T18:21:50.330Z"
   },
   {
    "duration": 52,
    "start_time": "2022-09-27T18:22:30.267Z"
   },
   {
    "duration": 382,
    "start_time": "2022-09-27T18:27:28.761Z"
   },
   {
    "duration": 9,
    "start_time": "2022-09-27T18:27:37.401Z"
   },
   {
    "duration": 6,
    "start_time": "2022-09-27T18:27:37.680Z"
   },
   {
    "duration": 6,
    "start_time": "2022-09-27T18:27:37.904Z"
   },
   {
    "duration": 14,
    "start_time": "2022-09-27T18:27:42.871Z"
   },
   {
    "duration": 15,
    "start_time": "2022-09-27T18:27:45.643Z"
   },
   {
    "duration": 16,
    "start_time": "2022-09-27T18:27:46.489Z"
   },
   {
    "duration": 4,
    "start_time": "2022-09-27T18:27:47.961Z"
   },
   {
    "duration": 4,
    "start_time": "2022-09-27T18:27:48.227Z"
   },
   {
    "duration": 6,
    "start_time": "2022-09-27T18:27:48.498Z"
   },
   {
    "duration": 4,
    "start_time": "2022-09-27T18:27:49.121Z"
   },
   {
    "duration": 5,
    "start_time": "2022-09-27T18:27:49.415Z"
   },
   {
    "duration": 5,
    "start_time": "2022-09-27T18:27:49.777Z"
   },
   {
    "duration": 2,
    "start_time": "2022-09-27T18:27:51.153Z"
   },
   {
    "duration": 13,
    "start_time": "2022-09-27T18:27:53.167Z"
   },
   {
    "duration": 5,
    "start_time": "2022-09-27T18:28:43.230Z"
   },
   {
    "duration": 12,
    "start_time": "2022-09-27T18:28:47.235Z"
   },
   {
    "duration": 13,
    "start_time": "2022-09-27T18:28:55.289Z"
   },
   {
    "duration": 4,
    "start_time": "2022-09-27T18:28:58.448Z"
   },
   {
    "duration": 11,
    "start_time": "2022-09-27T18:29:13.523Z"
   },
   {
    "duration": 15,
    "start_time": "2022-09-27T18:29:26.882Z"
   },
   {
    "duration": 10,
    "start_time": "2022-09-27T18:41:40.521Z"
   },
   {
    "duration": 12,
    "start_time": "2022-09-27T18:41:41.027Z"
   },
   {
    "duration": 4,
    "start_time": "2022-09-27T18:41:41.932Z"
   },
   {
    "duration": 83,
    "start_time": "2022-09-27T18:42:26.095Z"
   },
   {
    "duration": 16,
    "start_time": "2022-09-27T18:42:34.631Z"
   },
   {
    "duration": 13,
    "start_time": "2022-09-27T18:42:59.687Z"
   },
   {
    "duration": 11,
    "start_time": "2022-09-27T18:43:35.502Z"
   },
   {
    "duration": 10,
    "start_time": "2022-09-27T18:43:35.934Z"
   },
   {
    "duration": 10,
    "start_time": "2022-09-27T18:43:48.975Z"
   },
   {
    "duration": 9,
    "start_time": "2022-09-27T18:43:49.451Z"
   },
   {
    "duration": 10,
    "start_time": "2022-09-27T18:43:49.847Z"
   },
   {
    "duration": 10,
    "start_time": "2022-09-27T18:43:50.262Z"
   },
   {
    "duration": 10,
    "start_time": "2022-09-27T18:43:50.643Z"
   },
   {
    "duration": 9,
    "start_time": "2022-09-27T18:43:51.010Z"
   },
   {
    "duration": 9,
    "start_time": "2022-09-27T18:45:35.334Z"
   },
   {
    "duration": 10,
    "start_time": "2022-09-27T18:45:36.146Z"
   },
   {
    "duration": 10,
    "start_time": "2022-09-27T18:45:36.515Z"
   },
   {
    "duration": 16,
    "start_time": "2022-09-27T18:56:27.947Z"
   },
   {
    "duration": 11,
    "start_time": "2022-09-27T18:56:28.583Z"
   },
   {
    "duration": 13,
    "start_time": "2022-09-27T18:56:29.413Z"
   },
   {
    "duration": 10,
    "start_time": "2022-09-27T18:56:30.450Z"
   },
   {
    "duration": 12,
    "start_time": "2022-09-27T19:06:04.025Z"
   },
   {
    "duration": 12,
    "start_time": "2022-09-27T19:06:04.397Z"
   },
   {
    "duration": 7,
    "start_time": "2022-09-27T19:06:49.069Z"
   },
   {
    "duration": 5,
    "start_time": "2022-09-27T19:06:52.149Z"
   },
   {
    "duration": 6,
    "start_time": "2022-09-27T19:06:54.040Z"
   },
   {
    "duration": 5,
    "start_time": "2022-09-27T19:07:01.088Z"
   },
   {
    "duration": 6,
    "start_time": "2022-09-27T19:07:02.635Z"
   },
   {
    "duration": 41,
    "start_time": "2022-09-27T19:10:53.605Z"
   },
   {
    "duration": 9,
    "start_time": "2022-09-27T19:11:06.275Z"
   },
   {
    "duration": 8,
    "start_time": "2022-09-27T19:11:07.515Z"
   },
   {
    "duration": 6,
    "start_time": "2022-09-27T19:11:08.007Z"
   },
   {
    "duration": 75,
    "start_time": "2022-09-27T19:12:25.567Z"
   },
   {
    "duration": 7,
    "start_time": "2022-09-27T19:12:30.160Z"
   },
   {
    "duration": 9,
    "start_time": "2022-09-27T19:12:30.992Z"
   },
   {
    "duration": 6,
    "start_time": "2022-09-27T19:12:31.591Z"
   },
   {
    "duration": 5,
    "start_time": "2022-09-27T19:13:12.316Z"
   },
   {
    "duration": 6,
    "start_time": "2022-09-27T19:13:12.672Z"
   },
   {
    "duration": 6,
    "start_time": "2022-09-27T19:13:13.025Z"
   },
   {
    "duration": 12,
    "start_time": "2022-09-27T19:14:23.167Z"
   },
   {
    "duration": 3,
    "start_time": "2022-09-27T19:14:24.657Z"
   },
   {
    "duration": 6,
    "start_time": "2022-09-27T19:14:25.239Z"
   },
   {
    "duration": 6,
    "start_time": "2022-09-27T19:14:25.837Z"
   },
   {
    "duration": 6,
    "start_time": "2022-09-27T19:14:26.261Z"
   },
   {
    "duration": 3,
    "start_time": "2022-09-27T19:16:11.503Z"
   },
   {
    "duration": 13,
    "start_time": "2022-09-27T19:16:18.036Z"
   },
   {
    "duration": 14,
    "start_time": "2022-09-27T19:16:36.342Z"
   },
   {
    "duration": 3,
    "start_time": "2022-09-27T19:16:36.866Z"
   },
   {
    "duration": 14,
    "start_time": "2022-09-27T19:16:37.945Z"
   },
   {
    "duration": 3,
    "start_time": "2022-09-27T19:18:16.407Z"
   },
   {
    "duration": 19,
    "start_time": "2022-09-27T19:21:07.801Z"
   },
   {
    "duration": 3,
    "start_time": "2022-09-27T19:21:11.038Z"
   },
   {
    "duration": 6,
    "start_time": "2022-09-27T19:21:12.367Z"
   },
   {
    "duration": 16,
    "start_time": "2022-09-27T19:21:15.188Z"
   },
   {
    "duration": 15,
    "start_time": "2022-09-27T19:21:39.655Z"
   },
   {
    "duration": 5,
    "start_time": "2022-09-27T19:22:00.018Z"
   },
   {
    "duration": 6,
    "start_time": "2022-09-27T19:22:19.627Z"
   },
   {
    "duration": 15,
    "start_time": "2022-09-27T19:22:20.609Z"
   },
   {
    "duration": 5,
    "start_time": "2022-09-27T19:22:23.516Z"
   },
   {
    "duration": 5,
    "start_time": "2022-09-27T19:22:36.542Z"
   },
   {
    "duration": 6,
    "start_time": "2022-09-27T19:22:42.146Z"
   },
   {
    "duration": 4,
    "start_time": "2022-09-27T19:22:58.290Z"
   },
   {
    "duration": 4,
    "start_time": "2022-09-27T19:23:05.005Z"
   },
   {
    "duration": 4,
    "start_time": "2022-09-27T19:23:13.918Z"
   },
   {
    "duration": 5,
    "start_time": "2022-09-27T19:23:18.635Z"
   },
   {
    "duration": 5,
    "start_time": "2022-09-27T19:23:26.393Z"
   },
   {
    "duration": 21,
    "start_time": "2022-09-27T19:31:36.276Z"
   },
   {
    "duration": 22,
    "start_time": "2022-09-27T19:32:00.218Z"
   },
   {
    "duration": 7,
    "start_time": "2022-09-27T19:32:34.136Z"
   },
   {
    "duration": 7,
    "start_time": "2022-09-27T19:32:59.337Z"
   },
   {
    "duration": 6,
    "start_time": "2022-09-27T19:33:05.235Z"
   },
   {
    "duration": 6,
    "start_time": "2022-09-27T19:33:27.574Z"
   },
   {
    "duration": 6,
    "start_time": "2022-09-27T19:57:19.985Z"
   },
   {
    "duration": 346,
    "start_time": "2022-09-27T19:57:23.553Z"
   },
   {
    "duration": 18,
    "start_time": "2022-09-27T19:57:30.077Z"
   },
   {
    "duration": 17,
    "start_time": "2022-09-27T19:57:32.083Z"
   },
   {
    "duration": 19,
    "start_time": "2022-09-27T19:57:33.431Z"
   },
   {
    "duration": 21,
    "start_time": "2022-09-27T19:57:41.611Z"
   },
   {
    "duration": 15,
    "start_time": "2022-09-27T19:57:41.897Z"
   },
   {
    "duration": 22,
    "start_time": "2022-09-27T19:57:42.029Z"
   },
   {
    "duration": 6,
    "start_time": "2022-09-27T19:57:42.449Z"
   },
   {
    "duration": 6,
    "start_time": "2022-09-27T19:57:43.039Z"
   },
   {
    "duration": 5,
    "start_time": "2022-09-27T19:57:43.344Z"
   },
   {
    "duration": 11,
    "start_time": "2022-09-27T19:57:49.351Z"
   },
   {
    "duration": 12,
    "start_time": "2022-09-27T19:57:50.447Z"
   },
   {
    "duration": 10,
    "start_time": "2022-09-27T19:57:51.583Z"
   },
   {
    "duration": 4,
    "start_time": "2022-09-27T19:57:53.625Z"
   },
   {
    "duration": 4,
    "start_time": "2022-09-27T19:57:53.838Z"
   },
   {
    "duration": 4,
    "start_time": "2022-09-27T19:57:54.017Z"
   },
   {
    "duration": 5,
    "start_time": "2022-09-27T19:57:54.365Z"
   },
   {
    "duration": 5,
    "start_time": "2022-09-27T19:57:54.497Z"
   },
   {
    "duration": 4,
    "start_time": "2022-09-27T19:57:54.749Z"
   },
   {
    "duration": 9,
    "start_time": "2022-09-27T19:57:56.177Z"
   },
   {
    "duration": 33,
    "start_time": "2022-09-27T19:57:56.412Z"
   },
   {
    "duration": 11,
    "start_time": "2022-09-27T19:57:56.613Z"
   },
   {
    "duration": 12,
    "start_time": "2022-09-27T19:57:56.768Z"
   },
   {
    "duration": 10,
    "start_time": "2022-09-27T19:57:56.944Z"
   },
   {
    "duration": 13,
    "start_time": "2022-09-27T19:57:57.105Z"
   },
   {
    "duration": 2,
    "start_time": "2022-09-27T19:57:57.622Z"
   },
   {
    "duration": 6,
    "start_time": "2022-09-27T19:57:57.842Z"
   },
   {
    "duration": 3,
    "start_time": "2022-09-27T19:57:58.040Z"
   },
   {
    "duration": 7,
    "start_time": "2022-09-27T19:57:58.225Z"
   },
   {
    "duration": 4,
    "start_time": "2022-09-27T19:57:58.439Z"
   },
   {
    "duration": 9,
    "start_time": "2022-09-27T19:57:58.589Z"
   },
   {
    "duration": 4,
    "start_time": "2022-09-27T19:57:58.772Z"
   },
   {
    "duration": 4,
    "start_time": "2022-09-27T19:57:58.949Z"
   },
   {
    "duration": 13,
    "start_time": "2022-09-27T19:57:59.143Z"
   },
   {
    "duration": 4,
    "start_time": "2022-09-27T19:57:59.311Z"
   },
   {
    "duration": 15,
    "start_time": "2022-09-27T19:57:59.495Z"
   },
   {
    "duration": 6,
    "start_time": "2022-09-27T19:57:59.696Z"
   },
   {
    "duration": 6,
    "start_time": "2022-09-27T19:58:03.942Z"
   },
   {
    "duration": 6,
    "start_time": "2022-09-27T19:58:04.910Z"
   },
   {
    "duration": 6,
    "start_time": "2022-09-27T19:58:05.457Z"
   },
   {
    "duration": 3,
    "start_time": "2022-09-27T20:02:03.600Z"
   },
   {
    "duration": 95,
    "start_time": "2022-09-27T20:02:04.045Z"
   },
   {
    "duration": 7,
    "start_time": "2022-09-27T20:02:46.853Z"
   },
   {
    "duration": 61,
    "start_time": "2022-09-27T20:04:21.788Z"
   },
   {
    "duration": 9,
    "start_time": "2022-09-27T20:04:29.509Z"
   },
   {
    "duration": 13,
    "start_time": "2022-09-27T20:04:33.623Z"
   },
   {
    "duration": 8,
    "start_time": "2022-09-27T20:04:49.707Z"
   },
   {
    "duration": 14,
    "start_time": "2022-09-27T20:04:51.519Z"
   },
   {
    "duration": 8,
    "start_time": "2022-09-27T20:05:00.207Z"
   },
   {
    "duration": 13,
    "start_time": "2022-09-27T20:05:00.914Z"
   },
   {
    "duration": 5,
    "start_time": "2022-09-27T20:05:24.265Z"
   },
   {
    "duration": 5,
    "start_time": "2022-09-27T20:05:34.903Z"
   },
   {
    "duration": 5,
    "start_time": "2022-09-27T20:09:38.074Z"
   },
   {
    "duration": 6,
    "start_time": "2022-09-27T20:09:40.718Z"
   },
   {
    "duration": 17,
    "start_time": "2022-09-27T20:11:15.312Z"
   },
   {
    "duration": 19,
    "start_time": "2022-09-27T20:11:35.063Z"
   },
   {
    "duration": 6,
    "start_time": "2022-09-27T20:11:38.350Z"
   },
   {
    "duration": 6,
    "start_time": "2022-09-27T20:11:39.844Z"
   },
   {
    "duration": 17,
    "start_time": "2022-09-27T20:12:10.996Z"
   },
   {
    "duration": 5,
    "start_time": "2022-09-27T20:12:11.778Z"
   },
   {
    "duration": 5,
    "start_time": "2022-09-27T20:12:13.468Z"
   },
   {
    "duration": 6,
    "start_time": "2022-09-27T20:12:53.827Z"
   },
   {
    "duration": 7,
    "start_time": "2022-09-27T20:12:54.599Z"
   },
   {
    "duration": 18,
    "start_time": "2022-09-27T20:13:10.072Z"
   },
   {
    "duration": 6,
    "start_time": "2022-09-27T20:13:10.787Z"
   },
   {
    "duration": 7,
    "start_time": "2022-09-27T20:13:29.468Z"
   },
   {
    "duration": 4,
    "start_time": "2022-09-27T20:13:34.682Z"
   },
   {
    "duration": 8,
    "start_time": "2022-09-27T20:18:23.724Z"
   },
   {
    "duration": 9,
    "start_time": "2022-09-27T20:19:27.295Z"
   },
   {
    "duration": 8,
    "start_time": "2022-09-27T20:19:27.712Z"
   },
   {
    "duration": 3,
    "start_time": "2022-09-27T20:19:51.762Z"
   },
   {
    "duration": 10,
    "start_time": "2022-09-27T20:19:52.345Z"
   },
   {
    "duration": 9,
    "start_time": "2022-09-27T20:19:52.794Z"
   },
   {
    "duration": 3,
    "start_time": "2022-09-27T20:19:53.464Z"
   },
   {
    "duration": 11,
    "start_time": "2022-09-27T20:19:53.798Z"
   },
   {
    "duration": 9,
    "start_time": "2022-09-27T20:19:54.145Z"
   },
   {
    "duration": 5,
    "start_time": "2022-09-27T20:22:03.301Z"
   },
   {
    "duration": 14,
    "start_time": "2022-09-27T20:22:07.665Z"
   },
   {
    "duration": 5,
    "start_time": "2022-09-27T20:22:12.452Z"
   },
   {
    "duration": 4,
    "start_time": "2022-09-27T20:22:26.646Z"
   },
   {
    "duration": 4,
    "start_time": "2022-09-27T20:22:26.783Z"
   },
   {
    "duration": 5,
    "start_time": "2022-09-27T20:22:26.999Z"
   },
   {
    "duration": 6,
    "start_time": "2022-09-27T20:23:11.063Z"
   },
   {
    "duration": 6,
    "start_time": "2022-09-27T20:23:11.939Z"
   },
   {
    "duration": 6,
    "start_time": "2022-09-27T20:23:12.488Z"
   },
   {
    "duration": 6,
    "start_time": "2022-09-27T20:24:30.291Z"
   },
   {
    "duration": 17,
    "start_time": "2022-09-27T20:25:38.540Z"
   },
   {
    "duration": 777,
    "start_time": "2022-09-27T20:26:34.047Z"
   },
   {
    "duration": 7,
    "start_time": "2022-09-27T20:26:56.412Z"
   },
   {
    "duration": 6,
    "start_time": "2022-09-27T20:29:32.335Z"
   },
   {
    "duration": 6,
    "start_time": "2022-09-27T20:29:42.505Z"
   },
   {
    "duration": 5,
    "start_time": "2022-09-27T20:32:45.117Z"
   },
   {
    "duration": 5,
    "start_time": "2022-09-27T20:36:06.551Z"
   },
   {
    "duration": 6,
    "start_time": "2022-09-27T20:37:23.862Z"
   },
   {
    "duration": 5,
    "start_time": "2022-09-27T20:38:20.705Z"
   },
   {
    "duration": 6,
    "start_time": "2022-09-27T20:38:35.814Z"
   },
   {
    "duration": 7,
    "start_time": "2022-09-27T20:38:53.478Z"
   },
   {
    "duration": 5,
    "start_time": "2022-09-27T20:44:04.347Z"
   },
   {
    "duration": 4,
    "start_time": "2022-09-27T20:46:34.647Z"
   },
   {
    "duration": 6,
    "start_time": "2022-09-27T20:46:46.051Z"
   },
   {
    "duration": 4,
    "start_time": "2022-09-27T20:46:55.151Z"
   },
   {
    "duration": 5,
    "start_time": "2022-09-27T20:47:44.150Z"
   },
   {
    "duration": 5,
    "start_time": "2022-09-27T20:47:50.967Z"
   },
   {
    "duration": 12,
    "start_time": "2022-09-27T20:48:13.563Z"
   },
   {
    "duration": 937,
    "start_time": "2022-09-27T20:48:26.290Z"
   },
   {
    "duration": 6,
    "start_time": "2022-09-27T20:49:06.490Z"
   },
   {
    "duration": 6,
    "start_time": "2022-09-27T20:49:11.008Z"
   },
   {
    "duration": 6,
    "start_time": "2022-09-27T20:49:18.036Z"
   },
   {
    "duration": 14,
    "start_time": "2022-09-27T20:51:51.148Z"
   },
   {
    "duration": 7,
    "start_time": "2022-09-27T20:51:58.945Z"
   },
   {
    "duration": 6,
    "start_time": "2022-09-27T20:52:06.978Z"
   },
   {
    "duration": 6,
    "start_time": "2022-09-27T20:52:17.637Z"
   },
   {
    "duration": 6,
    "start_time": "2022-09-27T20:52:36.753Z"
   },
   {
    "duration": 6,
    "start_time": "2022-09-27T20:53:02.744Z"
   },
   {
    "duration": 6,
    "start_time": "2022-09-27T20:53:13.063Z"
   },
   {
    "duration": 796,
    "start_time": "2022-09-27T20:53:51.457Z"
   },
   {
    "duration": 7,
    "start_time": "2022-09-27T20:53:59.305Z"
   },
   {
    "duration": 5,
    "start_time": "2022-09-27T20:54:08.538Z"
   },
   {
    "duration": 5,
    "start_time": "2022-09-27T20:54:15.632Z"
   },
   {
    "duration": 6,
    "start_time": "2022-09-27T20:55:02.078Z"
   },
   {
    "duration": 6,
    "start_time": "2022-09-27T20:55:11.262Z"
   },
   {
    "duration": 6,
    "start_time": "2022-09-27T20:55:15.821Z"
   },
   {
    "duration": 6,
    "start_time": "2022-09-27T20:55:19.421Z"
   },
   {
    "duration": 6,
    "start_time": "2022-09-27T20:55:26.603Z"
   },
   {
    "duration": 8,
    "start_time": "2022-09-27T20:56:11.585Z"
   },
   {
    "duration": 6,
    "start_time": "2022-09-27T20:58:39.435Z"
   },
   {
    "duration": 6,
    "start_time": "2022-09-27T20:58:58.536Z"
   },
   {
    "duration": 54,
    "start_time": "2022-09-27T20:59:10.707Z"
   },
   {
    "duration": 6,
    "start_time": "2022-09-27T20:59:14.238Z"
   },
   {
    "duration": 7,
    "start_time": "2022-09-27T20:59:23.525Z"
   },
   {
    "duration": 2097,
    "start_time": "2022-09-27T21:00:00.961Z"
   },
   {
    "duration": 6,
    "start_time": "2022-09-27T21:00:09.129Z"
   },
   {
    "duration": 7,
    "start_time": "2022-09-27T21:00:27.337Z"
   },
   {
    "duration": 6,
    "start_time": "2022-09-27T21:00:35.311Z"
   },
   {
    "duration": 1347,
    "start_time": "2022-09-27T21:00:55.905Z"
   },
   {
    "duration": 6,
    "start_time": "2022-09-27T21:01:30.263Z"
   },
   {
    "duration": 6,
    "start_time": "2022-09-27T21:01:45.719Z"
   },
   {
    "duration": 10,
    "start_time": "2022-09-27T21:02:15.341Z"
   },
   {
    "duration": 5,
    "start_time": "2022-09-27T21:06:02.907Z"
   },
   {
    "duration": 4,
    "start_time": "2022-09-27T21:06:10.425Z"
   },
   {
    "duration": 5,
    "start_time": "2022-09-27T21:06:16.779Z"
   },
   {
    "duration": 4,
    "start_time": "2022-09-27T21:06:35.145Z"
   },
   {
    "duration": 5,
    "start_time": "2022-09-27T21:06:38.952Z"
   },
   {
    "duration": 4,
    "start_time": "2022-09-27T21:06:40.400Z"
   },
   {
    "duration": 5,
    "start_time": "2022-09-27T21:08:49.539Z"
   },
   {
    "duration": 6,
    "start_time": "2022-09-27T21:09:58.687Z"
   },
   {
    "duration": 7,
    "start_time": "2022-09-27T21:10:31.255Z"
   },
   {
    "duration": 6,
    "start_time": "2022-09-27T21:11:49.886Z"
   },
   {
    "duration": 6,
    "start_time": "2022-09-27T21:12:26.203Z"
   },
   {
    "duration": 1925,
    "start_time": "2022-09-27T21:31:11.045Z"
   },
   {
    "duration": 1851,
    "start_time": "2022-09-27T21:31:13.022Z"
   },
   {
    "duration": 14863,
    "start_time": "2022-09-27T21:31:14.923Z"
   },
   {
    "duration": 606,
    "start_time": "2022-09-27T21:31:29.788Z"
   },
   {
    "duration": 38,
    "start_time": "2022-09-27T21:31:30.397Z"
   },
   {
    "duration": 19,
    "start_time": "2022-09-27T21:31:30.442Z"
   },
   {
    "duration": 49,
    "start_time": "2022-09-27T21:31:30.463Z"
   },
   {
    "duration": 9878,
    "start_time": "2022-09-27T21:31:30.514Z"
   },
   {
    "duration": 9098,
    "start_time": "2022-09-27T21:31:40.394Z"
   },
   {
    "duration": 10762,
    "start_time": "2022-09-27T21:31:49.494Z"
   },
   {
    "duration": 75,
    "start_time": "2022-09-27T21:32:00.258Z"
   },
   {
    "duration": 18,
    "start_time": "2022-09-27T21:32:00.334Z"
   },
   {
    "duration": 32,
    "start_time": "2022-09-27T21:32:00.353Z"
   },
   {
    "duration": 11,
    "start_time": "2022-09-27T21:32:00.387Z"
   },
   {
    "duration": 50,
    "start_time": "2022-09-27T21:32:00.400Z"
   },
   {
    "duration": 12,
    "start_time": "2022-09-27T21:32:00.452Z"
   },
   {
    "duration": 22,
    "start_time": "2022-09-27T21:32:00.466Z"
   },
   {
    "duration": 39,
    "start_time": "2022-09-27T21:32:00.489Z"
   },
   {
    "duration": 36,
    "start_time": "2022-09-27T21:32:00.536Z"
   },
   {
    "duration": 17,
    "start_time": "2022-09-27T21:32:00.575Z"
   },
   {
    "duration": 53,
    "start_time": "2022-09-27T21:32:00.593Z"
   },
   {
    "duration": 31,
    "start_time": "2022-09-27T21:32:00.648Z"
   },
   {
    "duration": 57,
    "start_time": "2022-09-27T21:32:00.681Z"
   },
   {
    "duration": 38,
    "start_time": "2022-09-27T21:32:00.740Z"
   },
   {
    "duration": 38,
    "start_time": "2022-09-27T21:32:00.779Z"
   },
   {
    "duration": 45,
    "start_time": "2022-09-27T21:32:00.818Z"
   },
   {
    "duration": 187,
    "start_time": "2022-09-27T21:32:00.865Z"
   },
   {
    "duration": 81,
    "start_time": "2022-09-27T21:32:01.054Z"
   },
   {
    "duration": 37,
    "start_time": "2022-09-27T21:32:01.221Z"
   },
   {
    "duration": 188,
    "start_time": "2022-09-27T21:32:01.260Z"
   },
   {
    "duration": 16,
    "start_time": "2022-09-27T21:32:01.450Z"
   },
   {
    "duration": 129,
    "start_time": "2022-09-27T21:32:01.523Z"
   },
   {
    "duration": 12,
    "start_time": "2022-09-27T21:32:01.654Z"
   },
   {
    "duration": 185,
    "start_time": "2022-09-27T21:32:01.668Z"
   },
   {
    "duration": 12,
    "start_time": "2022-09-27T21:32:01.854Z"
   },
   {
    "duration": 180,
    "start_time": "2022-09-27T21:32:01.868Z"
   },
   {
    "duration": 9,
    "start_time": "2022-09-27T21:32:02.050Z"
   },
   {
    "duration": 12,
    "start_time": "2022-09-27T21:32:02.060Z"
   },
   {
    "duration": 7,
    "start_time": "2022-09-27T21:32:02.122Z"
   },
   {
    "duration": 161,
    "start_time": "2022-09-27T21:32:02.131Z"
   },
   {
    "duration": 45,
    "start_time": "2022-09-27T21:32:02.296Z"
   },
   {
    "duration": 35,
    "start_time": "2022-09-27T21:32:02.342Z"
   },
   {
    "duration": 70,
    "start_time": "2022-09-27T21:32:02.379Z"
   },
   {
    "duration": 13,
    "start_time": "2022-09-27T21:32:02.450Z"
   },
   {
    "duration": 8,
    "start_time": "2022-09-27T21:32:02.465Z"
   },
   {
    "duration": 6,
    "start_time": "2022-09-27T21:32:02.475Z"
   },
   {
    "duration": 4,
    "start_time": "2022-09-27T21:32:02.483Z"
   },
   {
    "duration": 12,
    "start_time": "2022-09-27T21:32:02.488Z"
   },
   {
    "duration": 146,
    "start_time": "2022-09-27T21:32:02.502Z"
   },
   {
    "duration": 6,
    "start_time": "2022-09-27T21:32:02.650Z"
   },
   {
    "duration": 5,
    "start_time": "2022-09-27T21:32:02.658Z"
   },
   {
    "duration": 20,
    "start_time": "2022-09-27T21:32:02.665Z"
   },
   {
    "duration": 159,
    "start_time": "2022-09-27T21:32:02.687Z"
   },
   {
    "duration": 7,
    "start_time": "2022-09-27T21:32:02.848Z"
   },
   {
    "duration": 7,
    "start_time": "2022-09-27T21:32:02.857Z"
   },
   {
    "duration": 13,
    "start_time": "2022-09-27T21:32:02.866Z"
   },
   {
    "duration": 164,
    "start_time": "2022-09-27T21:32:02.881Z"
   },
   {
    "duration": 6,
    "start_time": "2022-09-27T21:32:03.047Z"
   },
   {
    "duration": 6,
    "start_time": "2022-09-27T21:32:03.056Z"
   },
   {
    "duration": 7,
    "start_time": "2022-09-27T21:32:03.063Z"
   },
   {
    "duration": 8,
    "start_time": "2022-09-27T21:32:03.072Z"
   },
   {
    "duration": 7,
    "start_time": "2022-09-27T21:32:03.082Z"
   },
   {
    "duration": 12,
    "start_time": "2022-09-27T21:32:03.090Z"
   },
   {
    "duration": 21,
    "start_time": "2022-09-27T21:32:03.103Z"
   },
   {
    "duration": 13,
    "start_time": "2022-09-27T21:32:03.129Z"
   },
   {
    "duration": 9,
    "start_time": "2022-09-27T21:32:03.144Z"
   },
   {
    "duration": 3,
    "start_time": "2022-09-27T22:54:53.424Z"
   },
   {
    "duration": 3,
    "start_time": "2022-09-27T22:54:54.577Z"
   },
   {
    "duration": 53,
    "start_time": "2022-09-27T22:55:28.048Z"
   },
   {
    "duration": 1348,
    "start_time": "2022-09-28T20:39:11.449Z"
   },
   {
    "duration": 707,
    "start_time": "2022-09-28T20:39:12.799Z"
   },
   {
    "duration": 16,
    "start_time": "2022-09-28T20:39:18.089Z"
   },
   {
    "duration": 15,
    "start_time": "2022-09-28T20:39:19.636Z"
   },
   {
    "duration": 15,
    "start_time": "2022-09-28T20:39:21.238Z"
   },
   {
    "duration": 18,
    "start_time": "2022-09-28T20:40:20.174Z"
   },
   {
    "duration": 17,
    "start_time": "2022-09-28T20:40:21.086Z"
   },
   {
    "duration": 18,
    "start_time": "2022-09-28T20:40:23.544Z"
   },
   {
    "duration": 8,
    "start_time": "2022-09-28T20:40:30.127Z"
   },
   {
    "duration": 7,
    "start_time": "2022-09-28T20:40:30.459Z"
   },
   {
    "duration": 7,
    "start_time": "2022-09-28T20:40:30.729Z"
   },
   {
    "duration": 5,
    "start_time": "2022-09-28T20:40:31.487Z"
   },
   {
    "duration": 5,
    "start_time": "2022-09-28T20:40:31.786Z"
   },
   {
    "duration": 19,
    "start_time": "2022-09-28T20:47:57.382Z"
   },
   {
    "duration": 18,
    "start_time": "2022-09-28T20:47:59.341Z"
   },
   {
    "duration": 19,
    "start_time": "2022-09-28T20:48:01.818Z"
   },
   {
    "duration": 4,
    "start_time": "2022-09-28T21:00:32.072Z"
   },
   {
    "duration": 35,
    "start_time": "2022-09-28T21:04:36.719Z"
   },
   {
    "duration": 62,
    "start_time": "2022-09-28T21:05:50.307Z"
   },
   {
    "duration": 38,
    "start_time": "2022-09-28T21:06:03.882Z"
   },
   {
    "duration": 26,
    "start_time": "2022-09-28T21:06:28.615Z"
   },
   {
    "duration": 30,
    "start_time": "2022-09-28T21:06:28.887Z"
   },
   {
    "duration": 2,
    "start_time": "2022-09-28T21:07:28.854Z"
   },
   {
    "duration": 2,
    "start_time": "2022-09-28T21:07:30.020Z"
   },
   {
    "duration": 2,
    "start_time": "2022-09-28T21:07:35.542Z"
   },
   {
    "duration": 124,
    "start_time": "2022-09-28T21:08:55.769Z"
   },
   {
    "duration": 6,
    "start_time": "2022-09-28T21:09:18.017Z"
   },
   {
    "duration": 329,
    "start_time": "2022-09-28T21:09:19.247Z"
   },
   {
    "duration": 13058,
    "start_time": "2022-09-28T21:09:19.594Z"
   },
   {
    "duration": 9,
    "start_time": "2022-09-28T21:09:49.507Z"
   },
   {
    "duration": 8,
    "start_time": "2022-09-28T21:09:50.033Z"
   },
   {
    "duration": 9,
    "start_time": "2022-09-28T21:09:50.911Z"
   },
   {
    "duration": 2,
    "start_time": "2022-09-28T21:09:52.982Z"
   },
   {
    "duration": 2,
    "start_time": "2022-09-28T21:09:53.253Z"
   },
   {
    "duration": 2,
    "start_time": "2022-09-28T21:09:53.497Z"
   },
   {
    "duration": 87,
    "start_time": "2022-09-28T21:09:53.992Z"
   },
   {
    "duration": 17,
    "start_time": "2022-09-28T21:09:54.223Z"
   },
   {
    "duration": 23,
    "start_time": "2022-09-28T21:09:54.557Z"
   },
   {
    "duration": 18,
    "start_time": "2022-09-28T21:09:54.926Z"
   },
   {
    "duration": 3,
    "start_time": "2022-09-28T21:09:55.926Z"
   },
   {
    "duration": 2,
    "start_time": "2022-09-28T21:09:56.195Z"
   },
   {
    "duration": 2,
    "start_time": "2022-09-28T21:09:56.411Z"
   },
   {
    "duration": 2,
    "start_time": "2022-09-28T21:09:56.824Z"
   },
   {
    "duration": 2,
    "start_time": "2022-09-28T21:09:57.028Z"
   },
   {
    "duration": 2,
    "start_time": "2022-09-28T21:09:57.241Z"
   },
   {
    "duration": 12,
    "start_time": "2022-09-28T21:09:58.119Z"
   },
   {
    "duration": 11,
    "start_time": "2022-09-28T21:10:00.039Z"
   },
   {
    "duration": 9,
    "start_time": "2022-09-28T21:10:02.218Z"
   },
   {
    "duration": 9,
    "start_time": "2022-09-28T21:10:02.626Z"
   },
   {
    "duration": 9,
    "start_time": "2022-09-28T21:10:02.993Z"
   },
   {
    "duration": 14,
    "start_time": "2022-09-28T21:10:03.362Z"
   },
   {
    "duration": 6,
    "start_time": "2022-09-28T21:10:19.616Z"
   },
   {
    "duration": 10,
    "start_time": "2022-09-28T21:10:38.545Z"
   },
   {
    "duration": 3,
    "start_time": "2022-09-28T21:10:43.528Z"
   },
   {
    "duration": 5,
    "start_time": "2022-09-28T21:10:43.789Z"
   },
   {
    "duration": 4,
    "start_time": "2022-09-28T21:10:44.000Z"
   },
   {
    "duration": 10,
    "start_time": "2022-09-28T21:10:44.201Z"
   },
   {
    "duration": 4,
    "start_time": "2022-09-28T21:10:44.440Z"
   },
   {
    "duration": 6,
    "start_time": "2022-09-28T21:10:44.698Z"
   },
   {
    "duration": 3,
    "start_time": "2022-09-28T21:10:44.953Z"
   },
   {
    "duration": 2,
    "start_time": "2022-09-28T21:10:45.479Z"
   },
   {
    "duration": 2,
    "start_time": "2022-09-28T21:10:45.929Z"
   },
   {
    "duration": 3,
    "start_time": "2022-09-28T21:10:47.009Z"
   },
   {
    "duration": 2,
    "start_time": "2022-09-28T21:10:47.411Z"
   },
   {
    "duration": 5,
    "start_time": "2022-09-28T21:10:48.967Z"
   },
   {
    "duration": 7,
    "start_time": "2022-09-28T21:10:50.347Z"
   },
   {
    "duration": 6,
    "start_time": "2022-09-28T21:11:01.711Z"
   },
   {
    "duration": 6,
    "start_time": "2022-09-28T21:11:01.979Z"
   },
   {
    "duration": 3,
    "start_time": "2022-09-28T21:19:37.597Z"
   },
   {
    "duration": 9,
    "start_time": "2022-09-28T21:19:59.628Z"
   },
   {
    "duration": 3,
    "start_time": "2022-09-28T21:20:01.969Z"
   },
   {
    "duration": 6,
    "start_time": "2022-09-28T21:20:02.250Z"
   },
   {
    "duration": 12,
    "start_time": "2022-09-28T21:20:02.505Z"
   },
   {
    "duration": 6,
    "start_time": "2022-09-28T21:20:02.827Z"
   },
   {
    "duration": 6,
    "start_time": "2022-09-28T21:20:16.298Z"
   },
   {
    "duration": 8,
    "start_time": "2022-09-28T21:20:16.590Z"
   },
   {
    "duration": 3,
    "start_time": "2022-09-28T21:21:09.411Z"
   },
   {
    "duration": 7,
    "start_time": "2022-09-28T21:21:27.675Z"
   },
   {
    "duration": 10,
    "start_time": "2022-09-28T21:21:28.368Z"
   },
   {
    "duration": 9,
    "start_time": "2022-09-28T21:21:28.832Z"
   },
   {
    "duration": 3,
    "start_time": "2022-09-28T21:21:33.675Z"
   },
   {
    "duration": 9,
    "start_time": "2022-09-28T21:21:33.905Z"
   },
   {
    "duration": 9,
    "start_time": "2022-09-28T21:21:34.134Z"
   },
   {
    "duration": 6,
    "start_time": "2022-09-28T21:21:34.331Z"
   },
   {
    "duration": 3,
    "start_time": "2022-09-28T21:21:34.843Z"
   },
   {
    "duration": 9,
    "start_time": "2022-09-28T21:21:35.089Z"
   },
   {
    "duration": 8,
    "start_time": "2022-09-28T21:21:35.351Z"
   },
   {
    "duration": 5,
    "start_time": "2022-09-28T21:21:35.573Z"
   },
   {
    "duration": 7,
    "start_time": "2022-09-28T21:21:37.879Z"
   },
   {
    "duration": 6,
    "start_time": "2022-09-28T21:21:38.161Z"
   },
   {
    "duration": 5,
    "start_time": "2022-09-28T21:21:38.469Z"
   },
   {
    "duration": 3,
    "start_time": "2022-09-28T21:22:13.100Z"
   },
   {
    "duration": 4,
    "start_time": "2022-09-28T21:22:23.973Z"
   },
   {
    "duration": 5,
    "start_time": "2022-09-28T21:22:24.238Z"
   },
   {
    "duration": 5,
    "start_time": "2022-09-28T21:22:24.476Z"
   },
   {
    "duration": 6,
    "start_time": "2022-09-28T21:42:21.064Z"
   },
   {
    "duration": 329,
    "start_time": "2022-09-28T21:42:23.026Z"
   },
   {
    "duration": 15,
    "start_time": "2022-09-28T21:42:27.014Z"
   },
   {
    "duration": 15,
    "start_time": "2022-09-28T21:42:27.188Z"
   },
   {
    "duration": 15,
    "start_time": "2022-09-28T21:42:31.489Z"
   },
   {
    "duration": 8,
    "start_time": "2022-09-28T21:42:31.668Z"
   },
   {
    "duration": 45,
    "start_time": "2022-09-28T21:42:39.025Z"
   },
   {
    "duration": 13,
    "start_time": "2022-09-28T21:42:39.346Z"
   },
   {
    "duration": 13,
    "start_time": "2022-09-28T21:42:39.884Z"
   },
   {
    "duration": 7,
    "start_time": "2022-09-28T21:42:42.240Z"
   },
   {
    "duration": 6,
    "start_time": "2022-09-28T21:42:42.504Z"
   },
   {
    "duration": 7,
    "start_time": "2022-09-28T21:42:42.752Z"
   },
   {
    "duration": 3,
    "start_time": "2022-09-28T21:42:46.972Z"
   },
   {
    "duration": 2,
    "start_time": "2022-09-28T21:42:47.239Z"
   },
   {
    "duration": 2,
    "start_time": "2022-09-28T21:42:47.489Z"
   },
   {
    "duration": 4,
    "start_time": "2022-09-28T21:42:48.792Z"
   },
   {
    "duration": 12,
    "start_time": "2022-09-28T21:42:50.562Z"
   },
   {
    "duration": 13,
    "start_time": "2022-09-28T21:42:50.705Z"
   },
   {
    "duration": 13,
    "start_time": "2022-09-28T21:42:50.960Z"
   },
   {
    "duration": 2,
    "start_time": "2022-09-28T21:42:53.122Z"
   },
   {
    "duration": 2,
    "start_time": "2022-09-28T21:42:53.335Z"
   },
   {
    "duration": 3,
    "start_time": "2022-09-28T21:42:53.611Z"
   },
   {
    "duration": 2,
    "start_time": "2022-09-28T21:42:54.135Z"
   },
   {
    "duration": 3,
    "start_time": "2022-09-28T21:42:54.418Z"
   },
   {
    "duration": 2,
    "start_time": "2022-09-28T21:42:54.742Z"
   },
   {
    "duration": 11,
    "start_time": "2022-09-28T21:42:56.108Z"
   },
   {
    "duration": 10,
    "start_time": "2022-09-28T21:42:56.264Z"
   },
   {
    "duration": 9,
    "start_time": "2022-09-28T21:42:56.424Z"
   },
   {
    "duration": 9,
    "start_time": "2022-09-28T21:42:56.629Z"
   },
   {
    "duration": 8,
    "start_time": "2022-09-28T21:42:56.848Z"
   },
   {
    "duration": 8,
    "start_time": "2022-09-28T21:42:57.094Z"
   },
   {
    "duration": 3,
    "start_time": "2022-09-28T21:42:58.128Z"
   },
   {
    "duration": 5,
    "start_time": "2022-09-28T21:42:58.714Z"
   },
   {
    "duration": 3,
    "start_time": "2022-09-28T21:42:59.414Z"
   },
   {
    "duration": 5,
    "start_time": "2022-09-28T21:42:59.734Z"
   },
   {
    "duration": 3,
    "start_time": "2022-09-28T21:43:00.061Z"
   },
   {
    "duration": 6,
    "start_time": "2022-09-28T21:43:00.320Z"
   },
   {
    "duration": 3,
    "start_time": "2022-09-28T21:43:00.504Z"
   },
   {
    "duration": 3,
    "start_time": "2022-09-28T21:43:00.760Z"
   },
   {
    "duration": 2,
    "start_time": "2022-09-28T21:43:01.109Z"
   },
   {
    "duration": 2,
    "start_time": "2022-09-28T21:43:02.250Z"
   },
   {
    "duration": 3,
    "start_time": "2022-09-28T21:43:02.504Z"
   },
   {
    "duration": 5,
    "start_time": "2022-09-28T21:43:03.369Z"
   },
   {
    "duration": 6,
    "start_time": "2022-09-28T21:43:03.571Z"
   },
   {
    "duration": 5,
    "start_time": "2022-09-28T21:43:03.761Z"
   },
   {
    "duration": 6,
    "start_time": "2022-09-28T21:43:04.000Z"
   },
   {
    "duration": 3,
    "start_time": "2022-09-28T21:43:06.573Z"
   },
   {
    "duration": 3,
    "start_time": "2022-09-28T21:43:07.032Z"
   },
   {
    "duration": 6,
    "start_time": "2022-09-28T21:43:07.508Z"
   },
   {
    "duration": 7,
    "start_time": "2022-09-28T21:43:07.999Z"
   },
   {
    "duration": 5,
    "start_time": "2022-09-28T21:43:08.257Z"
   },
   {
    "duration": 3,
    "start_time": "2022-09-28T21:43:08.708Z"
   },
   {
    "duration": 5,
    "start_time": "2022-09-28T21:43:08.816Z"
   },
   {
    "duration": 7,
    "start_time": "2022-09-28T21:43:09.037Z"
   },
   {
    "duration": 5,
    "start_time": "2022-09-28T21:43:09.238Z"
   },
   {
    "duration": 3,
    "start_time": "2022-09-28T21:43:09.680Z"
   },
   {
    "duration": 6,
    "start_time": "2022-09-28T21:43:09.919Z"
   },
   {
    "duration": 7,
    "start_time": "2022-09-28T21:43:10.129Z"
   },
   {
    "duration": 5,
    "start_time": "2022-09-28T21:43:10.331Z"
   },
   {
    "duration": 6,
    "start_time": "2022-09-28T21:43:18.732Z"
   },
   {
    "duration": 5,
    "start_time": "2022-09-28T21:43:18.974Z"
   },
   {
    "duration": 5,
    "start_time": "2022-09-28T21:43:19.191Z"
   },
   {
    "duration": 15,
    "start_time": "2022-09-28T21:48:33.998Z"
   },
   {
    "duration": 11,
    "start_time": "2022-09-28T21:48:50.785Z"
   },
   {
    "duration": 10,
    "start_time": "2022-09-28T21:50:05.576Z"
   },
   {
    "duration": 4,
    "start_time": "2022-09-28T21:50:08.089Z"
   },
   {
    "duration": 5,
    "start_time": "2022-09-28T22:00:21.135Z"
   },
   {
    "duration": 11,
    "start_time": "2022-09-28T22:07:25.719Z"
   },
   {
    "duration": 4,
    "start_time": "2022-09-28T22:44:43.359Z"
   },
   {
    "duration": 18,
    "start_time": "2022-09-28T22:44:54.646Z"
   },
   {
    "duration": 4,
    "start_time": "2022-09-28T22:45:34.004Z"
   },
   {
    "duration": 12,
    "start_time": "2022-09-28T22:45:36.654Z"
   },
   {
    "duration": 4,
    "start_time": "2022-09-28T22:45:49.164Z"
   },
   {
    "duration": 3,
    "start_time": "2022-09-28T22:46:05.691Z"
   },
   {
    "duration": 11,
    "start_time": "2022-09-28T22:46:06.712Z"
   },
   {
    "duration": 3,
    "start_time": "2022-09-28T22:46:15.831Z"
   },
   {
    "duration": 9,
    "start_time": "2022-09-28T22:46:16.514Z"
   },
   {
    "duration": 4,
    "start_time": "2022-09-28T22:46:31.225Z"
   },
   {
    "duration": 11,
    "start_time": "2022-09-28T22:46:32.538Z"
   },
   {
    "duration": 4,
    "start_time": "2022-09-28T22:46:41.036Z"
   },
   {
    "duration": 10,
    "start_time": "2022-09-28T22:46:41.946Z"
   },
   {
    "duration": 5,
    "start_time": "2022-09-28T22:47:14.498Z"
   },
   {
    "duration": 10,
    "start_time": "2022-09-28T22:47:14.910Z"
   },
   {
    "duration": 4,
    "start_time": "2022-09-28T22:47:21.914Z"
   },
   {
    "duration": 4,
    "start_time": "2022-09-28T22:47:48.246Z"
   },
   {
    "duration": 4,
    "start_time": "2022-09-28T22:48:24.657Z"
   },
   {
    "duration": 10,
    "start_time": "2022-09-28T22:48:25.190Z"
   },
   {
    "duration": 9,
    "start_time": "2022-09-28T22:48:38.254Z"
   },
   {
    "duration": 11,
    "start_time": "2022-09-28T22:48:43.776Z"
   },
   {
    "duration": 13,
    "start_time": "2022-09-28T22:49:04.412Z"
   },
   {
    "duration": 10,
    "start_time": "2022-09-28T22:49:04.676Z"
   },
   {
    "duration": 4,
    "start_time": "2022-09-28T22:54:27.668Z"
   },
   {
    "duration": 11,
    "start_time": "2022-09-28T22:56:42.250Z"
   },
   {
    "duration": 10,
    "start_time": "2022-09-28T22:57:42.356Z"
   },
   {
    "duration": 15,
    "start_time": "2022-09-28T22:58:02.756Z"
   },
   {
    "duration": 16,
    "start_time": "2022-09-28T22:58:08.654Z"
   },
   {
    "duration": 9,
    "start_time": "2022-09-28T22:58:20.772Z"
   },
   {
    "duration": 4,
    "start_time": "2022-09-28T22:58:35.664Z"
   },
   {
    "duration": 10,
    "start_time": "2022-09-28T22:58:36.138Z"
   },
   {
    "duration": 14,
    "start_time": "2022-09-28T23:07:51.651Z"
   },
   {
    "duration": 11,
    "start_time": "2022-09-28T23:07:52.150Z"
   },
   {
    "duration": 11,
    "start_time": "2022-09-28T23:07:53.866Z"
   },
   {
    "duration": 10,
    "start_time": "2022-09-28T23:07:54.297Z"
   },
   {
    "duration": 11,
    "start_time": "2022-09-28T23:07:54.696Z"
   },
   {
    "duration": 1718,
    "start_time": "2022-09-29T08:46:14.001Z"
   },
   {
    "duration": 751,
    "start_time": "2022-09-29T08:46:15.721Z"
   },
   {
    "duration": 58,
    "start_time": "2022-09-29T08:46:23.580Z"
   },
   {
    "duration": 17,
    "start_time": "2022-09-29T08:46:23.948Z"
   },
   {
    "duration": 15,
    "start_time": "2022-09-29T08:46:24.422Z"
   },
   {
    "duration": 7,
    "start_time": "2022-09-29T08:46:27.151Z"
   },
   {
    "duration": 7,
    "start_time": "2022-09-29T08:46:27.485Z"
   },
   {
    "duration": 7,
    "start_time": "2022-09-29T08:46:27.849Z"
   },
   {
    "duration": 2,
    "start_time": "2022-09-29T08:46:39.781Z"
   },
   {
    "duration": 3,
    "start_time": "2022-09-29T08:46:40.161Z"
   },
   {
    "duration": 2,
    "start_time": "2022-09-29T08:46:40.416Z"
   },
   {
    "duration": 3,
    "start_time": "2022-09-29T08:46:40.869Z"
   },
   {
    "duration": 13,
    "start_time": "2022-09-29T08:46:41.079Z"
   },
   {
    "duration": 14,
    "start_time": "2022-09-29T08:46:41.270Z"
   },
   {
    "duration": 15,
    "start_time": "2022-09-29T08:46:41.474Z"
   },
   {
    "duration": 2,
    "start_time": "2022-09-29T08:46:42.131Z"
   },
   {
    "duration": 2,
    "start_time": "2022-09-29T08:46:42.347Z"
   },
   {
    "duration": 5,
    "start_time": "2022-09-29T08:46:42.596Z"
   },
   {
    "duration": 3,
    "start_time": "2022-09-29T08:46:43.011Z"
   },
   {
    "duration": 2,
    "start_time": "2022-09-29T08:46:43.213Z"
   },
   {
    "duration": 2,
    "start_time": "2022-09-29T08:46:43.452Z"
   },
   {
    "duration": 11,
    "start_time": "2022-09-29T08:46:44.888Z"
   },
   {
    "duration": 11,
    "start_time": "2022-09-29T08:46:45.223Z"
   },
   {
    "duration": 8,
    "start_time": "2022-09-29T08:46:45.470Z"
   },
   {
    "duration": 9,
    "start_time": "2022-09-29T08:46:45.671Z"
   },
   {
    "duration": 8,
    "start_time": "2022-09-29T08:46:45.862Z"
   },
   {
    "duration": 12,
    "start_time": "2022-09-29T08:46:46.053Z"
   },
   {
    "duration": 3,
    "start_time": "2022-09-29T08:46:46.934Z"
   },
   {
    "duration": 6,
    "start_time": "2022-09-29T08:46:47.163Z"
   },
   {
    "duration": 3,
    "start_time": "2022-09-29T08:46:47.409Z"
   },
   {
    "duration": 7,
    "start_time": "2022-09-29T08:46:47.644Z"
   },
   {
    "duration": 3,
    "start_time": "2022-09-29T08:46:47.849Z"
   },
   {
    "duration": 8,
    "start_time": "2022-09-29T08:46:48.001Z"
   },
   {
    "duration": 4,
    "start_time": "2022-09-29T08:46:48.300Z"
   },
   {
    "duration": 2,
    "start_time": "2022-09-29T08:46:48.538Z"
   },
   {
    "duration": 2,
    "start_time": "2022-09-29T08:46:48.763Z"
   },
   {
    "duration": 3,
    "start_time": "2022-09-29T08:46:50.229Z"
   },
   {
    "duration": 2,
    "start_time": "2022-09-29T08:46:50.577Z"
   },
   {
    "duration": 5,
    "start_time": "2022-09-29T08:46:51.582Z"
   },
   {
    "duration": 6,
    "start_time": "2022-09-29T08:46:51.789Z"
   },
   {
    "duration": 7,
    "start_time": "2022-09-29T08:46:52.027Z"
   },
   {
    "duration": 6,
    "start_time": "2022-09-29T08:46:52.299Z"
   },
   {
    "duration": 3,
    "start_time": "2022-09-29T08:46:54.151Z"
   },
   {
    "duration": 3,
    "start_time": "2022-09-29T08:46:54.738Z"
   },
   {
    "duration": 18,
    "start_time": "2022-09-29T08:46:55.094Z"
   },
   {
    "duration": 9,
    "start_time": "2022-09-29T08:46:55.581Z"
   },
   {
    "duration": 6,
    "start_time": "2022-09-29T08:46:55.813Z"
   },
   {
    "duration": 3,
    "start_time": "2022-09-29T08:46:56.323Z"
   },
   {
    "duration": 6,
    "start_time": "2022-09-29T08:46:56.644Z"
   },
   {
    "duration": 9,
    "start_time": "2022-09-29T08:46:56.810Z"
   },
   {
    "duration": 6,
    "start_time": "2022-09-29T08:46:57.033Z"
   },
   {
    "duration": 3,
    "start_time": "2022-09-29T08:46:57.487Z"
   },
   {
    "duration": 11,
    "start_time": "2022-09-29T08:46:57.702Z"
   },
   {
    "duration": 10,
    "start_time": "2022-09-29T08:46:57.920Z"
   },
   {
    "duration": 6,
    "start_time": "2022-09-29T08:46:58.197Z"
   },
   {
    "duration": 6,
    "start_time": "2022-09-29T08:46:59.917Z"
   },
   {
    "duration": 5,
    "start_time": "2022-09-29T08:47:23.707Z"
   },
   {
    "duration": 6,
    "start_time": "2022-09-29T08:47:23.969Z"
   },
   {
    "duration": 5,
    "start_time": "2022-09-29T08:47:24.217Z"
   },
   {
    "duration": 4,
    "start_time": "2022-09-29T08:47:37.087Z"
   },
   {
    "duration": 12,
    "start_time": "2022-09-29T08:47:37.350Z"
   },
   {
    "duration": 5,
    "start_time": "2022-09-29T08:47:38.017Z"
   },
   {
    "duration": 4,
    "start_time": "2022-09-29T08:47:43.009Z"
   },
   {
    "duration": 4,
    "start_time": "2022-09-29T08:48:05.905Z"
   },
   {
    "duration": 4,
    "start_time": "2022-09-29T08:48:25.267Z"
   },
   {
    "duration": 10,
    "start_time": "2022-09-29T08:48:25.737Z"
   },
   {
    "duration": 11,
    "start_time": "2022-09-29T08:48:26.098Z"
   },
   {
    "duration": 11,
    "start_time": "2022-09-29T08:48:26.513Z"
   },
   {
    "duration": 5,
    "start_time": "2022-09-29T09:02:37.436Z"
   },
   {
    "duration": 133,
    "start_time": "2022-09-29T09:02:38.076Z"
   },
   {
    "duration": 6,
    "start_time": "2022-09-29T09:03:11.490Z"
   },
   {
    "duration": 7930,
    "start_time": "2022-09-29T09:03:12.335Z"
   },
   {
    "duration": 5,
    "start_time": "2022-09-29T09:04:01.722Z"
   },
   {
    "duration": 6742,
    "start_time": "2022-09-29T09:04:03.404Z"
   },
   {
    "duration": 12,
    "start_time": "2022-09-29T09:04:12.132Z"
   },
   {
    "duration": 12,
    "start_time": "2022-09-29T09:04:14.358Z"
   },
   {
    "duration": 79,
    "start_time": "2022-09-29T09:04:18.915Z"
   },
   {
    "duration": 16,
    "start_time": "2022-09-29T09:04:24.712Z"
   },
   {
    "duration": 6567,
    "start_time": "2022-09-29T09:04:25.524Z"
   },
   {
    "duration": 5,
    "start_time": "2022-09-29T09:04:34.697Z"
   },
   {
    "duration": 6588,
    "start_time": "2022-09-29T09:04:35.611Z"
   },
   {
    "duration": 6,
    "start_time": "2022-09-29T09:08:05.513Z"
   },
   {
    "duration": 3703,
    "start_time": "2022-09-29T09:08:06.242Z"
   },
   {
    "duration": 6,
    "start_time": "2022-09-29T09:08:22.244Z"
   },
   {
    "duration": 3904,
    "start_time": "2022-09-29T09:08:23.003Z"
   },
   {
    "duration": 6,
    "start_time": "2022-09-29T09:11:06.829Z"
   },
   {
    "duration": 3807,
    "start_time": "2022-09-29T09:11:08.304Z"
   },
   {
    "duration": 3,
    "start_time": "2022-09-29T09:14:24.488Z"
   },
   {
    "duration": 9,
    "start_time": "2022-09-29T09:19:56.282Z"
   },
   {
    "duration": 3,
    "start_time": "2022-09-29T09:19:56.863Z"
   },
   {
    "duration": 4,
    "start_time": "2022-09-29T09:20:42.273Z"
   },
   {
    "duration": 3,
    "start_time": "2022-09-29T09:20:42.539Z"
   },
   {
    "duration": 3,
    "start_time": "2022-09-29T09:20:54.639Z"
   },
   {
    "duration": 11,
    "start_time": "2022-09-29T09:21:16.567Z"
   },
   {
    "duration": 3,
    "start_time": "2022-09-29T09:22:09.457Z"
   },
   {
    "duration": 3,
    "start_time": "2022-09-29T09:22:21.197Z"
   },
   {
    "duration": 9,
    "start_time": "2022-09-29T09:23:25.153Z"
   },
   {
    "duration": 3,
    "start_time": "2022-09-29T09:23:32.500Z"
   },
   {
    "duration": 3,
    "start_time": "2022-09-29T09:23:34.480Z"
   },
   {
    "duration": 3,
    "start_time": "2022-09-29T09:23:44.827Z"
   },
   {
    "duration": 4,
    "start_time": "2022-09-29T09:23:46.458Z"
   },
   {
    "duration": 3,
    "start_time": "2022-09-29T09:23:59.453Z"
   },
   {
    "duration": 3,
    "start_time": "2022-09-29T09:24:04.644Z"
   },
   {
    "duration": 10,
    "start_time": "2022-09-29T09:24:05.639Z"
   },
   {
    "duration": 3,
    "start_time": "2022-09-29T09:24:08.040Z"
   },
   {
    "duration": 4,
    "start_time": "2022-09-29T09:28:42.923Z"
   },
   {
    "duration": 12,
    "start_time": "2022-09-29T09:29:24.251Z"
   },
   {
    "duration": 3,
    "start_time": "2022-09-29T09:29:27.701Z"
   },
   {
    "duration": 13,
    "start_time": "2022-09-29T09:29:28.364Z"
   },
   {
    "duration": 13,
    "start_time": "2022-09-29T09:29:51.648Z"
   },
   {
    "duration": 14,
    "start_time": "2022-09-29T09:29:52.310Z"
   },
   {
    "duration": 14,
    "start_time": "2022-09-29T09:29:53.004Z"
   },
   {
    "duration": 3,
    "start_time": "2022-09-29T09:31:10.747Z"
   },
   {
    "duration": 13,
    "start_time": "2022-09-29T09:31:14.467Z"
   },
   {
    "duration": 13,
    "start_time": "2022-09-29T09:31:23.371Z"
   },
   {
    "duration": 13,
    "start_time": "2022-09-29T09:31:23.583Z"
   },
   {
    "duration": 4,
    "start_time": "2022-09-29T09:34:55.308Z"
   },
   {
    "duration": 14,
    "start_time": "2022-09-29T09:35:05.868Z"
   },
   {
    "duration": 13,
    "start_time": "2022-09-29T09:35:06.215Z"
   },
   {
    "duration": 13,
    "start_time": "2022-09-29T09:35:06.563Z"
   },
   {
    "duration": 3,
    "start_time": "2022-09-29T09:36:53.127Z"
   },
   {
    "duration": 3,
    "start_time": "2022-09-29T09:37:47.043Z"
   },
   {
    "duration": 4,
    "start_time": "2022-09-29T09:37:47.963Z"
   },
   {
    "duration": 15,
    "start_time": "2022-09-29T09:37:48.374Z"
   },
   {
    "duration": 16,
    "start_time": "2022-09-29T09:37:53.941Z"
   },
   {
    "duration": 16,
    "start_time": "2022-09-29T09:37:54.601Z"
   },
   {
    "duration": 3,
    "start_time": "2022-09-29T09:38:00.425Z"
   },
   {
    "duration": 14,
    "start_time": "2022-09-29T09:38:43.854Z"
   },
   {
    "duration": 12,
    "start_time": "2022-09-29T09:38:48.939Z"
   },
   {
    "duration": 12,
    "start_time": "2022-09-29T09:38:51.243Z"
   },
   {
    "duration": 4405,
    "start_time": "2022-09-29T09:46:22.006Z"
   },
   {
    "duration": 1048,
    "start_time": "2022-09-29T09:46:46.497Z"
   },
   {
    "duration": 1170,
    "start_time": "2022-09-29T09:46:52.609Z"
   },
   {
    "duration": 1103,
    "start_time": "2022-09-29T09:47:04.742Z"
   },
   {
    "duration": 1105,
    "start_time": "2022-09-29T09:47:39.083Z"
   },
   {
    "duration": 6,
    "start_time": "2022-09-29T10:01:10.495Z"
   },
   {
    "duration": 349,
    "start_time": "2022-09-29T10:01:11.666Z"
   },
   {
    "duration": 9,
    "start_time": "2022-09-29T10:01:15.829Z"
   },
   {
    "duration": 16,
    "start_time": "2022-09-29T10:01:16.186Z"
   },
   {
    "duration": 14256,
    "start_time": "2022-09-29T10:01:23.349Z"
   },
   {
    "duration": 643,
    "start_time": "2022-09-29T10:01:37.607Z"
   },
   {
    "duration": 18,
    "start_time": "2022-09-29T10:01:38.252Z"
   },
   {
    "duration": 19,
    "start_time": "2022-09-29T10:01:38.272Z"
   },
   {
    "duration": 26,
    "start_time": "2022-09-29T10:01:38.292Z"
   },
   {
    "duration": 9557,
    "start_time": "2022-09-29T10:01:38.445Z"
   },
   {
    "duration": 8587,
    "start_time": "2022-09-29T10:02:01.786Z"
   },
   {
    "duration": 8788,
    "start_time": "2022-09-29T10:02:19.263Z"
   },
   {
    "duration": 15,
    "start_time": "2022-09-29T10:02:35.390Z"
   },
   {
    "duration": 14,
    "start_time": "2022-09-29T10:02:35.673Z"
   },
   {
    "duration": 14,
    "start_time": "2022-09-29T10:02:35.907Z"
   },
   {
    "duration": 4,
    "start_time": "2022-09-29T10:02:38.172Z"
   },
   {
    "duration": 4,
    "start_time": "2022-09-29T10:02:38.473Z"
   },
   {
    "duration": 4,
    "start_time": "2022-09-29T10:02:38.747Z"
   },
   {
    "duration": 3,
    "start_time": "2022-09-29T10:02:41.867Z"
   },
   {
    "duration": 3,
    "start_time": "2022-09-29T10:02:42.143Z"
   },
   {
    "duration": 3,
    "start_time": "2022-09-29T10:02:42.469Z"
   },
   {
    "duration": 6,
    "start_time": "2022-09-29T10:02:42.839Z"
   },
   {
    "duration": 13,
    "start_time": "2022-09-29T10:02:43.043Z"
   },
   {
    "duration": 14,
    "start_time": "2022-09-29T10:02:43.321Z"
   },
   {
    "duration": 13,
    "start_time": "2022-09-29T10:02:46.949Z"
   },
   {
    "duration": 3,
    "start_time": "2022-09-29T10:02:48.903Z"
   },
   {
    "duration": 3,
    "start_time": "2022-09-29T10:02:49.189Z"
   },
   {
    "duration": 2,
    "start_time": "2022-09-29T10:02:49.434Z"
   },
   {
    "duration": 2,
    "start_time": "2022-09-29T10:02:49.886Z"
   },
   {
    "duration": 3,
    "start_time": "2022-09-29T10:02:50.121Z"
   },
   {
    "duration": 3,
    "start_time": "2022-09-29T10:02:50.373Z"
   },
   {
    "duration": 13,
    "start_time": "2022-09-29T10:02:53.288Z"
   },
   {
    "duration": 77,
    "start_time": "2022-09-29T10:02:54.433Z"
   },
   {
    "duration": 10,
    "start_time": "2022-09-29T10:02:54.686Z"
   },
   {
    "duration": 10,
    "start_time": "2022-09-29T10:02:54.907Z"
   },
   {
    "duration": 11,
    "start_time": "2022-09-29T10:02:55.158Z"
   },
   {
    "duration": 7,
    "start_time": "2022-09-29T10:02:55.666Z"
   },
   {
    "duration": 3,
    "start_time": "2022-09-29T10:02:58.497Z"
   },
   {
    "duration": 6,
    "start_time": "2022-09-29T10:02:58.819Z"
   },
   {
    "duration": 4,
    "start_time": "2022-09-29T10:02:59.326Z"
   },
   {
    "duration": 8,
    "start_time": "2022-09-29T10:02:59.687Z"
   },
   {
    "duration": 3,
    "start_time": "2022-09-29T10:02:59.933Z"
   },
   {
    "duration": 7,
    "start_time": "2022-09-29T10:03:00.248Z"
   },
   {
    "duration": 82,
    "start_time": "2022-09-29T10:03:00.328Z"
   },
   {
    "duration": 3,
    "start_time": "2022-09-29T10:03:00.574Z"
   },
   {
    "duration": 3,
    "start_time": "2022-09-29T10:03:01.256Z"
   },
   {
    "duration": 2,
    "start_time": "2022-09-29T10:03:03.711Z"
   },
   {
    "duration": 2,
    "start_time": "2022-09-29T10:03:04.237Z"
   },
   {
    "duration": 5,
    "start_time": "2022-09-29T10:03:09.512Z"
   },
   {
    "duration": 6,
    "start_time": "2022-09-29T10:03:09.911Z"
   },
   {
    "duration": 6,
    "start_time": "2022-09-29T10:03:11.326Z"
   },
   {
    "duration": 6,
    "start_time": "2022-09-29T10:03:11.616Z"
   },
   {
    "duration": 2,
    "start_time": "2022-09-29T10:03:14.540Z"
   },
   {
    "duration": 3,
    "start_time": "2022-09-29T10:03:16.301Z"
   },
   {
    "duration": 11,
    "start_time": "2022-09-29T10:03:16.519Z"
   },
   {
    "duration": 9,
    "start_time": "2022-09-29T10:03:16.733Z"
   },
   {
    "duration": 5,
    "start_time": "2022-09-29T10:03:16.954Z"
   },
   {
    "duration": 3,
    "start_time": "2022-09-29T10:03:17.414Z"
   },
   {
    "duration": 12,
    "start_time": "2022-09-29T10:03:17.698Z"
   },
   {
    "duration": 9,
    "start_time": "2022-09-29T10:03:17.931Z"
   },
   {
    "duration": 6,
    "start_time": "2022-09-29T10:03:18.186Z"
   },
   {
    "duration": 3,
    "start_time": "2022-09-29T10:03:18.632Z"
   },
   {
    "duration": 8,
    "start_time": "2022-09-29T10:03:18.932Z"
   },
   {
    "duration": 9,
    "start_time": "2022-09-29T10:03:19.217Z"
   },
   {
    "duration": 5,
    "start_time": "2022-09-29T10:03:19.435Z"
   },
   {
    "duration": 6,
    "start_time": "2022-09-29T10:03:20.989Z"
   },
   {
    "duration": 7,
    "start_time": "2022-09-29T10:03:21.686Z"
   },
   {
    "duration": 18,
    "start_time": "2022-09-29T10:03:21.695Z"
   },
   {
    "duration": 3,
    "start_time": "2022-09-29T10:03:30.753Z"
   },
   {
    "duration": 83,
    "start_time": "2022-09-29T10:11:20.619Z"
   },
   {
    "duration": 3,
    "start_time": "2022-09-29T10:23:41.387Z"
   },
   {
    "duration": 3,
    "start_time": "2022-09-29T10:23:42.012Z"
   },
   {
    "duration": 5,
    "start_time": "2022-09-29T10:23:43.819Z"
   },
   {
    "duration": 13,
    "start_time": "2022-09-29T10:23:44.783Z"
   },
   {
    "duration": 13,
    "start_time": "2022-09-29T10:23:45.340Z"
   },
   {
    "duration": 12,
    "start_time": "2022-09-29T10:23:45.588Z"
   },
   {
    "duration": 3,
    "start_time": "2022-09-29T10:23:45.899Z"
   },
   {
    "duration": 1196,
    "start_time": "2022-09-29T10:25:41.840Z"
   },
   {
    "duration": 2722,
    "start_time": "2022-09-29T10:25:47.926Z"
   },
   {
    "duration": 1084,
    "start_time": "2022-09-29T10:27:35.662Z"
   },
   {
    "duration": 547,
    "start_time": "2022-09-29T10:31:53.223Z"
   },
   {
    "duration": 547,
    "start_time": "2022-09-29T10:33:35.824Z"
   },
   {
    "duration": 569,
    "start_time": "2022-09-29T10:34:00.222Z"
   },
   {
    "duration": 641,
    "start_time": "2022-09-29T10:34:32.381Z"
   },
   {
    "duration": 576,
    "start_time": "2022-09-29T10:35:04.250Z"
   },
   {
    "duration": 543,
    "start_time": "2022-09-29T10:35:22.035Z"
   },
   {
    "duration": 530,
    "start_time": "2022-09-29T10:35:36.927Z"
   },
   {
    "duration": 549,
    "start_time": "2022-09-29T10:36:28.767Z"
   },
   {
    "duration": 550,
    "start_time": "2022-09-29T10:36:49.850Z"
   },
   {
    "duration": 901,
    "start_time": "2022-09-29T10:39:02.939Z"
   },
   {
    "duration": 628,
    "start_time": "2022-09-29T10:39:43.531Z"
   },
   {
    "duration": 18,
    "start_time": "2022-09-29T10:40:09.097Z"
   },
   {
    "duration": 14,
    "start_time": "2022-09-29T10:40:16.902Z"
   },
   {
    "duration": 540,
    "start_time": "2022-09-29T10:40:25.241Z"
   },
   {
    "duration": 573,
    "start_time": "2022-09-29T10:41:07.314Z"
   },
   {
    "duration": 1421,
    "start_time": "2022-09-29T21:51:16.485Z"
   },
   {
    "duration": 2026,
    "start_time": "2022-09-29T21:51:17.907Z"
   },
   {
    "duration": 17,
    "start_time": "2022-09-29T21:51:24.384Z"
   },
   {
    "duration": 15,
    "start_time": "2022-09-29T21:51:24.576Z"
   },
   {
    "duration": 15,
    "start_time": "2022-09-29T21:51:24.801Z"
   },
   {
    "duration": 52,
    "start_time": "2022-09-29T21:51:34.012Z"
   },
   {
    "duration": 13,
    "start_time": "2022-09-29T21:51:34.302Z"
   },
   {
    "duration": 13,
    "start_time": "2022-09-29T21:51:34.578Z"
   },
   {
    "duration": 6,
    "start_time": "2022-09-29T21:51:36.508Z"
   },
   {
    "duration": 6,
    "start_time": "2022-09-29T21:51:36.756Z"
   },
   {
    "duration": 7,
    "start_time": "2022-09-29T21:51:37.007Z"
   },
   {
    "duration": 2,
    "start_time": "2022-09-29T21:57:37.019Z"
   },
   {
    "duration": 3,
    "start_time": "2022-09-29T21:57:37.420Z"
   },
   {
    "duration": 3,
    "start_time": "2022-09-29T21:57:37.526Z"
   },
   {
    "duration": 3,
    "start_time": "2022-09-29T21:57:38.113Z"
   },
   {
    "duration": 14,
    "start_time": "2022-09-29T21:57:40.132Z"
   },
   {
    "duration": 20,
    "start_time": "2022-09-29T21:57:40.411Z"
   },
   {
    "duration": 16,
    "start_time": "2022-09-29T21:57:40.758Z"
   },
   {
    "duration": 2,
    "start_time": "2022-09-29T21:57:43.682Z"
   },
   {
    "duration": 3,
    "start_time": "2022-09-29T21:57:43.931Z"
   },
   {
    "duration": 3,
    "start_time": "2022-09-29T21:57:44.941Z"
   },
   {
    "duration": 2,
    "start_time": "2022-09-29T21:57:47.185Z"
   },
   {
    "duration": 2,
    "start_time": "2022-09-29T21:57:47.479Z"
   },
   {
    "duration": 2,
    "start_time": "2022-09-29T21:57:48.056Z"
   },
   {
    "duration": 18,
    "start_time": "2022-09-29T21:57:57.929Z"
   },
   {
    "duration": 11,
    "start_time": "2022-09-29T21:57:59.572Z"
   },
   {
    "duration": 9,
    "start_time": "2022-09-29T21:57:59.942Z"
   },
   {
    "duration": 13,
    "start_time": "2022-09-29T21:58:00.938Z"
   },
   {
    "duration": 11,
    "start_time": "2022-09-29T21:58:01.539Z"
   },
   {
    "duration": 7,
    "start_time": "2022-09-29T21:58:01.988Z"
   },
   {
    "duration": 4,
    "start_time": "2022-09-29T21:58:06.169Z"
   },
   {
    "duration": 6,
    "start_time": "2022-09-29T21:58:06.541Z"
   },
   {
    "duration": 3,
    "start_time": "2022-09-29T21:58:07.000Z"
   },
   {
    "duration": 5,
    "start_time": "2022-09-29T21:58:07.292Z"
   },
   {
    "duration": 3,
    "start_time": "2022-09-29T21:58:07.566Z"
   },
   {
    "duration": 8,
    "start_time": "2022-09-29T21:58:07.820Z"
   },
   {
    "duration": 3,
    "start_time": "2022-09-29T21:58:08.079Z"
   },
   {
    "duration": 2,
    "start_time": "2022-09-29T21:58:09.576Z"
   },
   {
    "duration": 2,
    "start_time": "2022-09-29T21:58:12.035Z"
   },
   {
    "duration": 2,
    "start_time": "2022-09-29T21:58:46.807Z"
   },
   {
    "duration": 2,
    "start_time": "2022-09-29T21:58:47.029Z"
   },
   {
    "duration": 2,
    "start_time": "2022-09-29T21:58:47.223Z"
   },
   {
    "duration": 9,
    "start_time": "2022-09-29T21:58:48.080Z"
   },
   {
    "duration": 8,
    "start_time": "2022-09-29T21:58:48.285Z"
   },
   {
    "duration": 8,
    "start_time": "2022-09-29T21:58:48.485Z"
   },
   {
    "duration": 7,
    "start_time": "2022-09-29T21:58:49.934Z"
   },
   {
    "duration": 9,
    "start_time": "2022-09-29T21:58:50.140Z"
   },
   {
    "duration": 7,
    "start_time": "2022-09-29T21:58:50.341Z"
   },
   {
    "duration": 103,
    "start_time": "2022-09-29T21:59:24.407Z"
   },
   {
    "duration": 4,
    "start_time": "2022-09-29T21:59:30.539Z"
   },
   {
    "duration": 6,
    "start_time": "2022-09-29T21:59:30.871Z"
   },
   {
    "duration": 8,
    "start_time": "2022-09-29T21:59:32.959Z"
   },
   {
    "duration": 7,
    "start_time": "2022-09-29T21:59:33.184Z"
   },
   {
    "duration": 3,
    "start_time": "2022-09-29T21:59:35.990Z"
   },
   {
    "duration": 3,
    "start_time": "2022-09-29T21:59:37.698Z"
   },
   {
    "duration": 7,
    "start_time": "2022-09-29T21:59:38.001Z"
   },
   {
    "duration": 8,
    "start_time": "2022-09-29T21:59:38.294Z"
   },
   {
    "duration": 7,
    "start_time": "2022-09-29T21:59:38.812Z"
   },
   {
    "duration": 2,
    "start_time": "2022-09-29T21:59:39.635Z"
   },
   {
    "duration": 7,
    "start_time": "2022-09-29T21:59:40.104Z"
   },
   {
    "duration": 7,
    "start_time": "2022-09-29T21:59:40.402Z"
   },
   {
    "duration": 9,
    "start_time": "2022-09-29T21:59:40.660Z"
   },
   {
    "duration": 4,
    "start_time": "2022-09-29T21:59:41.372Z"
   },
   {
    "duration": 23,
    "start_time": "2022-09-29T21:59:41.611Z"
   },
   {
    "duration": 8,
    "start_time": "2022-09-29T21:59:41.833Z"
   },
   {
    "duration": 6,
    "start_time": "2022-09-29T21:59:42.056Z"
   },
   {
    "duration": 6,
    "start_time": "2022-09-29T21:59:53.672Z"
   },
   {
    "duration": 5,
    "start_time": "2022-09-29T21:59:53.953Z"
   },
   {
    "duration": 5,
    "start_time": "2022-09-29T21:59:54.154Z"
   },
   {
    "duration": 94,
    "start_time": "2022-09-29T22:10:23.430Z"
   },
   {
    "duration": 171,
    "start_time": "2022-09-29T22:10:37.155Z"
   },
   {
    "duration": 29,
    "start_time": "2022-09-29T22:10:58.305Z"
   },
   {
    "duration": 16,
    "start_time": "2022-09-29T22:11:09.993Z"
   },
   {
    "duration": 3,
    "start_time": "2022-09-29T22:12:22.589Z"
   },
   {
    "duration": 13,
    "start_time": "2022-09-29T22:14:47.287Z"
   },
   {
    "duration": 10,
    "start_time": "2022-09-29T22:14:47.534Z"
   },
   {
    "duration": 21,
    "start_time": "2022-09-29T22:14:47.722Z"
   },
   {
    "duration": 3,
    "start_time": "2022-09-29T22:15:36.481Z"
   },
   {
    "duration": 1415,
    "start_time": "2022-09-29T22:15:37.934Z"
   },
   {
    "duration": 0,
    "start_time": "2022-09-29T22:15:39.351Z"
   },
   {
    "duration": 0,
    "start_time": "2022-09-29T22:15:39.353Z"
   },
   {
    "duration": 3,
    "start_time": "2022-09-29T22:15:56.451Z"
   },
   {
    "duration": 22,
    "start_time": "2022-09-29T22:15:58.315Z"
   },
   {
    "duration": 12,
    "start_time": "2022-09-29T22:15:58.869Z"
   },
   {
    "duration": 16,
    "start_time": "2022-09-29T22:15:59.159Z"
   },
   {
    "duration": 3,
    "start_time": "2022-09-29T22:15:59.689Z"
   },
   {
    "duration": 16,
    "start_time": "2022-09-29T22:16:11.710Z"
   },
   {
    "duration": 6,
    "start_time": "2022-09-29T22:21:07.454Z"
   },
   {
    "duration": 8,
    "start_time": "2022-09-29T22:21:08.138Z"
   },
   {
    "duration": 3,
    "start_time": "2022-09-29T22:21:14.945Z"
   },
   {
    "duration": 3,
    "start_time": "2022-09-29T22:21:16.289Z"
   },
   {
    "duration": 9,
    "start_time": "2022-09-29T22:21:16.800Z"
   },
   {
    "duration": 13,
    "start_time": "2022-09-29T22:21:18.831Z"
   },
   {
    "duration": 7,
    "start_time": "2022-09-29T22:21:23.680Z"
   },
   {
    "duration": 1618,
    "start_time": "2022-09-30T10:55:24.890Z"
   },
   {
    "duration": 781,
    "start_time": "2022-09-30T10:55:26.511Z"
   },
   {
    "duration": 20,
    "start_time": "2022-09-30T10:55:30.866Z"
   },
   {
    "duration": 25,
    "start_time": "2022-09-30T10:55:31.077Z"
   },
   {
    "duration": 25,
    "start_time": "2022-09-30T10:55:31.257Z"
   },
   {
    "duration": 56,
    "start_time": "2022-09-30T10:55:38.701Z"
   },
   {
    "duration": 14,
    "start_time": "2022-09-30T10:55:41.505Z"
   },
   {
    "duration": 16,
    "start_time": "2022-09-30T10:55:41.710Z"
   },
   {
    "duration": 7,
    "start_time": "2022-09-30T10:55:43.177Z"
   },
   {
    "duration": 7,
    "start_time": "2022-09-30T10:55:43.417Z"
   },
   {
    "duration": 6,
    "start_time": "2022-09-30T10:55:43.648Z"
   },
   {
    "duration": 3,
    "start_time": "2022-09-30T10:55:52.967Z"
   },
   {
    "duration": 2,
    "start_time": "2022-09-30T10:55:53.315Z"
   },
   {
    "duration": 3,
    "start_time": "2022-09-30T10:55:53.526Z"
   },
   {
    "duration": 4,
    "start_time": "2022-09-30T10:55:53.904Z"
   },
   {
    "duration": 19,
    "start_time": "2022-09-30T10:55:59.055Z"
   },
   {
    "duration": 17,
    "start_time": "2022-09-30T10:55:59.527Z"
   },
   {
    "duration": 17,
    "start_time": "2022-09-30T10:55:59.776Z"
   },
   {
    "duration": 3,
    "start_time": "2022-09-30T10:56:00.002Z"
   },
   {
    "duration": 2,
    "start_time": "2022-09-30T10:56:00.179Z"
   },
   {
    "duration": 3,
    "start_time": "2022-09-30T10:56:00.395Z"
   },
   {
    "duration": 2,
    "start_time": "2022-09-30T10:56:00.938Z"
   },
   {
    "duration": 3,
    "start_time": "2022-09-30T10:56:01.170Z"
   },
   {
    "duration": 2,
    "start_time": "2022-09-30T10:56:01.315Z"
   },
   {
    "duration": 12,
    "start_time": "2022-09-30T10:56:05.564Z"
   },
   {
    "duration": 65,
    "start_time": "2022-09-30T10:56:05.856Z"
   },
   {
    "duration": 9,
    "start_time": "2022-09-30T10:56:06.662Z"
   },
   {
    "duration": 10,
    "start_time": "2022-09-30T10:56:07.056Z"
   },
   {
    "duration": 10,
    "start_time": "2022-09-30T10:56:07.755Z"
   },
   {
    "duration": 8,
    "start_time": "2022-09-30T10:56:08.477Z"
   },
   {
    "duration": 2,
    "start_time": "2022-09-30T10:56:18.769Z"
   },
   {
    "duration": 5,
    "start_time": "2022-09-30T10:56:19.512Z"
   },
   {
    "duration": 3,
    "start_time": "2022-09-30T10:56:19.882Z"
   },
   {
    "duration": 4,
    "start_time": "2022-09-30T10:56:20.171Z"
   },
   {
    "duration": 4,
    "start_time": "2022-09-30T10:56:20.676Z"
   },
   {
    "duration": 5,
    "start_time": "2022-09-30T10:56:21.043Z"
   },
   {
    "duration": 15,
    "start_time": "2022-09-30T10:56:21.418Z"
   },
   {
    "duration": 5,
    "start_time": "2022-09-30T10:56:27.272Z"
   },
   {
    "duration": 6,
    "start_time": "2022-09-30T10:56:27.647Z"
   },
   {
    "duration": 6,
    "start_time": "2022-09-30T10:56:28.046Z"
   },
   {
    "duration": 7,
    "start_time": "2022-09-30T10:56:28.566Z"
   },
   {
    "duration": 2,
    "start_time": "2022-09-30T10:56:49.337Z"
   },
   {
    "duration": 3,
    "start_time": "2022-09-30T10:56:50.148Z"
   },
   {
    "duration": 5,
    "start_time": "2022-09-30T10:56:50.411Z"
   },
   {
    "duration": 9,
    "start_time": "2022-09-30T10:56:50.622Z"
   },
   {
    "duration": 7,
    "start_time": "2022-09-30T10:56:50.836Z"
   },
   {
    "duration": 6,
    "start_time": "2022-09-30T10:56:51.202Z"
   },
   {
    "duration": 16,
    "start_time": "2022-09-30T10:56:51.394Z"
   },
   {
    "duration": 8,
    "start_time": "2022-09-30T10:56:51.582Z"
   },
   {
    "duration": 9,
    "start_time": "2022-09-30T10:56:51.788Z"
   },
   {
    "duration": 4,
    "start_time": "2022-09-30T10:56:52.191Z"
   },
   {
    "duration": 11,
    "start_time": "2022-09-30T10:56:52.396Z"
   },
   {
    "duration": 9,
    "start_time": "2022-09-30T10:56:52.598Z"
   },
   {
    "duration": 7,
    "start_time": "2022-09-30T10:56:52.812Z"
   },
   {
    "duration": 7,
    "start_time": "2022-09-30T10:56:54.034Z"
   },
   {
    "duration": 7,
    "start_time": "2022-09-30T10:56:54.250Z"
   },
   {
    "duration": 6,
    "start_time": "2022-09-30T10:57:12.345Z"
   },
   {
    "duration": 6,
    "start_time": "2022-09-30T10:57:20.808Z"
   },
   {
    "duration": 3,
    "start_time": "2022-09-30T10:57:21.751Z"
   },
   {
    "duration": 11,
    "start_time": "2022-09-30T10:57:28.142Z"
   },
   {
    "duration": 12,
    "start_time": "2022-09-30T10:57:28.760Z"
   },
   {
    "duration": 11,
    "start_time": "2022-09-30T10:57:29.099Z"
   },
   {
    "duration": 2,
    "start_time": "2022-09-30T11:02:01.329Z"
   },
   {
    "duration": 3,
    "start_time": "2022-09-30T11:02:05.360Z"
   },
   {
    "duration": 4,
    "start_time": "2022-09-30T11:03:28.451Z"
   },
   {
    "duration": 4,
    "start_time": "2022-09-30T11:03:37.514Z"
   },
   {
    "duration": 3,
    "start_time": "2022-09-30T11:05:56.155Z"
   },
   {
    "duration": 4,
    "start_time": "2022-09-30T11:06:02.660Z"
   },
   {
    "duration": 6,
    "start_time": "2022-09-30T11:07:11.306Z"
   },
   {
    "duration": 6,
    "start_time": "2022-09-30T11:07:11.514Z"
   },
   {
    "duration": 7,
    "start_time": "2022-09-30T11:07:11.741Z"
   },
   {
    "duration": 4,
    "start_time": "2022-09-30T11:10:19.516Z"
   },
   {
    "duration": 3,
    "start_time": "2022-09-30T11:12:31.922Z"
   },
   {
    "duration": 118,
    "start_time": "2022-09-30T11:21:12.572Z"
   },
   {
    "duration": 5,
    "start_time": "2022-09-30T11:21:17.608Z"
   },
   {
    "duration": 5,
    "start_time": "2022-09-30T11:22:08.107Z"
   },
   {
    "duration": 7,
    "start_time": "2022-09-30T11:22:08.322Z"
   },
   {
    "duration": 8,
    "start_time": "2022-09-30T11:22:08.521Z"
   },
   {
    "duration": 10,
    "start_time": "2022-09-30T11:24:18.806Z"
   },
   {
    "duration": 7,
    "start_time": "2022-09-30T11:24:33.744Z"
   },
   {
    "duration": 11,
    "start_time": "2022-09-30T11:25:13.863Z"
   },
   {
    "duration": 10,
    "start_time": "2022-09-30T11:26:01.773Z"
   },
   {
    "duration": 15,
    "start_time": "2022-09-30T11:26:31.810Z"
   },
   {
    "duration": 11,
    "start_time": "2022-09-30T11:26:41.806Z"
   },
   {
    "duration": 8,
    "start_time": "2022-09-30T11:27:03.014Z"
   },
   {
    "duration": 12,
    "start_time": "2022-09-30T11:28:41.570Z"
   },
   {
    "duration": 9,
    "start_time": "2022-09-30T11:28:51.034Z"
   },
   {
    "duration": 10,
    "start_time": "2022-09-30T11:28:58.277Z"
   },
   {
    "duration": 3,
    "start_time": "2022-09-30T11:33:33.407Z"
   },
   {
    "duration": 10,
    "start_time": "2022-09-30T11:34:15.376Z"
   },
   {
    "duration": 13,
    "start_time": "2022-09-30T11:34:24.210Z"
   },
   {
    "duration": 10,
    "start_time": "2022-09-30T11:34:51.448Z"
   },
   {
    "duration": 13,
    "start_time": "2022-09-30T11:34:51.766Z"
   },
   {
    "duration": 13,
    "start_time": "2022-09-30T11:34:52.066Z"
   },
   {
    "duration": 12,
    "start_time": "2022-09-30T11:35:11.863Z"
   },
   {
    "duration": 3,
    "start_time": "2022-09-30T11:37:38.046Z"
   },
   {
    "duration": 3,
    "start_time": "2022-09-30T11:40:32.405Z"
   },
   {
    "duration": 6,
    "start_time": "2022-09-30T11:41:12.057Z"
   },
   {
    "duration": 5,
    "start_time": "2022-09-30T11:41:12.263Z"
   },
   {
    "duration": 6,
    "start_time": "2022-09-30T11:41:12.466Z"
   },
   {
    "duration": 6,
    "start_time": "2022-09-30T11:42:36.544Z"
   },
   {
    "duration": 8,
    "start_time": "2022-09-30T11:42:49.448Z"
   },
   {
    "duration": 6,
    "start_time": "2022-09-30T11:42:50.635Z"
   },
   {
    "duration": 17,
    "start_time": "2022-09-30T11:44:01.769Z"
   },
   {
    "duration": 10,
    "start_time": "2022-09-30T11:44:07.614Z"
   },
   {
    "duration": 3,
    "start_time": "2022-09-30T11:44:47.475Z"
   },
   {
    "duration": 9,
    "start_time": "2022-09-30T11:44:55.317Z"
   },
   {
    "duration": 9,
    "start_time": "2022-09-30T11:44:55.555Z"
   },
   {
    "duration": 10,
    "start_time": "2022-09-30T11:44:55.833Z"
   },
   {
    "duration": 3,
    "start_time": "2022-09-30T11:45:33.725Z"
   },
   {
    "duration": 10,
    "start_time": "2022-09-30T11:45:34.269Z"
   },
   {
    "duration": 5,
    "start_time": "2022-09-30T11:45:43.665Z"
   },
   {
    "duration": 5,
    "start_time": "2022-09-30T11:45:46.706Z"
   },
   {
    "duration": 5,
    "start_time": "2022-09-30T11:45:49.633Z"
   },
   {
    "duration": 6,
    "start_time": "2022-09-30T11:46:21.304Z"
   },
   {
    "duration": 5,
    "start_time": "2022-09-30T11:46:37.435Z"
   },
   {
    "duration": 5,
    "start_time": "2022-09-30T11:46:37.680Z"
   },
   {
    "duration": 5,
    "start_time": "2022-09-30T11:46:41.205Z"
   },
   {
    "duration": 6,
    "start_time": "2022-09-30T11:47:01.227Z"
   },
   {
    "duration": 4,
    "start_time": "2022-09-30T11:47:01.949Z"
   },
   {
    "duration": 4,
    "start_time": "2022-09-30T11:47:03.214Z"
   },
   {
    "duration": 4,
    "start_time": "2022-09-30T11:47:03.965Z"
   },
   {
    "duration": 7,
    "start_time": "2022-09-30T11:47:26.212Z"
   },
   {
    "duration": 4,
    "start_time": "2022-09-30T11:47:27.067Z"
   },
   {
    "duration": 4,
    "start_time": "2022-09-30T11:47:27.338Z"
   },
   {
    "duration": 4,
    "start_time": "2022-09-30T11:47:37.246Z"
   },
   {
    "duration": 5,
    "start_time": "2022-09-30T11:47:37.638Z"
   },
   {
    "duration": 5,
    "start_time": "2022-09-30T11:47:37.908Z"
   },
   {
    "duration": 5,
    "start_time": "2022-09-30T11:47:38.155Z"
   },
   {
    "duration": 3,
    "start_time": "2022-09-30T11:47:42.973Z"
   },
   {
    "duration": 5,
    "start_time": "2022-09-30T11:47:43.204Z"
   },
   {
    "duration": 5,
    "start_time": "2022-09-30T11:47:43.407Z"
   },
   {
    "duration": 5,
    "start_time": "2022-09-30T11:47:43.556Z"
   },
   {
    "duration": 18,
    "start_time": "2022-09-30T11:50:28.207Z"
   },
   {
    "duration": 10,
    "start_time": "2022-09-30T11:50:34.201Z"
   },
   {
    "duration": 5,
    "start_time": "2022-09-30T11:50:42.161Z"
   },
   {
    "duration": 4,
    "start_time": "2022-09-30T11:50:47.600Z"
   },
   {
    "duration": 8,
    "start_time": "2022-09-30T12:00:29.108Z"
   },
   {
    "duration": 368,
    "start_time": "2022-09-30T12:00:30.116Z"
   },
   {
    "duration": 16,
    "start_time": "2022-09-30T12:00:38.242Z"
   },
   {
    "duration": 21,
    "start_time": "2022-09-30T12:00:38.843Z"
   },
   {
    "duration": 18,
    "start_time": "2022-09-30T12:00:39.079Z"
   },
   {
    "duration": 7,
    "start_time": "2022-09-30T12:00:39.456Z"
   },
   {
    "duration": 6,
    "start_time": "2022-09-30T12:00:40.263Z"
   },
   {
    "duration": 6,
    "start_time": "2022-09-30T12:00:40.458Z"
   },
   {
    "duration": 2,
    "start_time": "2022-09-30T12:00:42.838Z"
   },
   {
    "duration": 2,
    "start_time": "2022-09-30T12:00:43.012Z"
   },
   {
    "duration": 3,
    "start_time": "2022-09-30T12:00:43.203Z"
   },
   {
    "duration": 4,
    "start_time": "2022-09-30T12:00:43.569Z"
   },
   {
    "duration": 12,
    "start_time": "2022-09-30T12:00:43.925Z"
   },
   {
    "duration": 13,
    "start_time": "2022-09-30T12:00:44.106Z"
   },
   {
    "duration": 12,
    "start_time": "2022-09-30T12:00:44.263Z"
   },
   {
    "duration": 2,
    "start_time": "2022-09-30T12:00:44.433Z"
   },
   {
    "duration": 2,
    "start_time": "2022-09-30T12:00:44.613Z"
   },
   {
    "duration": 2,
    "start_time": "2022-09-30T12:00:44.777Z"
   },
   {
    "duration": 2,
    "start_time": "2022-09-30T12:00:44.940Z"
   },
   {
    "duration": 3,
    "start_time": "2022-09-30T12:00:45.279Z"
   },
   {
    "duration": 2,
    "start_time": "2022-09-30T12:00:45.461Z"
   },
   {
    "duration": 9,
    "start_time": "2022-09-30T12:00:46.392Z"
   },
   {
    "duration": 10,
    "start_time": "2022-09-30T12:00:46.533Z"
   },
   {
    "duration": 9,
    "start_time": "2022-09-30T12:00:46.723Z"
   },
   {
    "duration": 8,
    "start_time": "2022-09-30T12:00:46.903Z"
   },
   {
    "duration": 9,
    "start_time": "2022-09-30T12:00:47.122Z"
   },
   {
    "duration": 8,
    "start_time": "2022-09-30T12:00:47.231Z"
   },
   {
    "duration": 2,
    "start_time": "2022-09-30T12:00:47.903Z"
   },
   {
    "duration": 6,
    "start_time": "2022-09-30T12:00:48.073Z"
   },
   {
    "duration": 3,
    "start_time": "2022-09-30T12:00:48.259Z"
   },
   {
    "duration": 6,
    "start_time": "2022-09-30T12:00:48.469Z"
   },
   {
    "duration": 4,
    "start_time": "2022-09-30T12:00:48.653Z"
   },
   {
    "duration": 5,
    "start_time": "2022-09-30T12:00:48.827Z"
   },
   {
    "duration": 5,
    "start_time": "2022-09-30T12:00:49.022Z"
   },
   {
    "duration": 5,
    "start_time": "2022-09-30T12:00:51.132Z"
   },
   {
    "duration": 8,
    "start_time": "2022-09-30T12:00:51.622Z"
   },
   {
    "duration": 6,
    "start_time": "2022-09-30T12:00:51.853Z"
   },
   {
    "duration": 8,
    "start_time": "2022-09-30T12:00:52.049Z"
   },
   {
    "duration": 3,
    "start_time": "2022-09-30T12:00:54.162Z"
   },
   {
    "duration": 3,
    "start_time": "2022-09-30T12:00:54.649Z"
   },
   {
    "duration": 7,
    "start_time": "2022-09-30T12:00:54.841Z"
   },
   {
    "duration": 11,
    "start_time": "2022-09-30T12:00:55.310Z"
   },
   {
    "duration": 6,
    "start_time": "2022-09-30T12:00:55.555Z"
   },
   {
    "duration": 3,
    "start_time": "2022-09-30T12:00:55.911Z"
   },
   {
    "duration": 5,
    "start_time": "2022-09-30T12:00:56.113Z"
   },
   {
    "duration": 19,
    "start_time": "2022-09-30T12:00:56.321Z"
   },
   {
    "duration": 6,
    "start_time": "2022-09-30T12:00:56.603Z"
   },
   {
    "duration": 4,
    "start_time": "2022-09-30T12:00:56.981Z"
   },
   {
    "duration": 8,
    "start_time": "2022-09-30T12:00:57.148Z"
   },
   {
    "duration": 8,
    "start_time": "2022-09-30T12:00:57.405Z"
   },
   {
    "duration": 6,
    "start_time": "2022-09-30T12:00:57.532Z"
   },
   {
    "duration": 5,
    "start_time": "2022-09-30T12:00:58.868Z"
   },
   {
    "duration": 4,
    "start_time": "2022-09-30T12:01:01.862Z"
   },
   {
    "duration": 8,
    "start_time": "2022-09-30T12:01:02.255Z"
   },
   {
    "duration": 7,
    "start_time": "2022-09-30T12:01:02.510Z"
   },
   {
    "duration": 8,
    "start_time": "2022-09-30T12:01:02.739Z"
   },
   {
    "duration": 3,
    "start_time": "2022-09-30T12:01:07.115Z"
   },
   {
    "duration": 8,
    "start_time": "2022-09-30T12:01:07.949Z"
   },
   {
    "duration": 10,
    "start_time": "2022-09-30T12:01:21.057Z"
   },
   {
    "duration": 11,
    "start_time": "2022-09-30T12:01:21.309Z"
   },
   {
    "duration": 8,
    "start_time": "2022-09-30T12:01:21.581Z"
   },
   {
    "duration": 4,
    "start_time": "2022-09-30T12:01:29.365Z"
   },
   {
    "duration": 13,
    "start_time": "2022-09-30T12:01:29.707Z"
   },
   {
    "duration": 17,
    "start_time": "2022-09-30T12:01:29.981Z"
   },
   {
    "duration": 13,
    "start_time": "2022-09-30T12:01:30.241Z"
   },
   {
    "duration": 4,
    "start_time": "2022-09-30T12:01:30.945Z"
   },
   {
    "duration": 4,
    "start_time": "2022-09-30T12:01:35.631Z"
   },
   {
    "duration": 4,
    "start_time": "2022-09-30T12:01:40.695Z"
   },
   {
    "duration": 5,
    "start_time": "2022-09-30T12:01:41.101Z"
   },
   {
    "duration": 4,
    "start_time": "2022-09-30T12:02:00.924Z"
   },
   {
    "duration": 14,
    "start_time": "2022-09-30T12:02:01.329Z"
   },
   {
    "duration": 16,
    "start_time": "2022-09-30T12:02:01.433Z"
   },
   {
    "duration": 14,
    "start_time": "2022-09-30T12:02:01.571Z"
   },
   {
    "duration": 741,
    "start_time": "2022-09-30T12:02:02.675Z"
   },
   {
    "duration": 1731,
    "start_time": "2022-09-30T17:07:33.369Z"
   },
   {
    "duration": 789,
    "start_time": "2022-09-30T17:07:35.102Z"
   },
   {
    "duration": 57,
    "start_time": "2022-09-30T17:07:43.995Z"
   },
   {
    "duration": 16,
    "start_time": "2022-09-30T17:07:44.264Z"
   },
   {
    "duration": 16,
    "start_time": "2022-09-30T17:07:44.537Z"
   },
   {
    "duration": 8,
    "start_time": "2022-09-30T17:07:45.297Z"
   },
   {
    "duration": 8,
    "start_time": "2022-09-30T17:07:45.660Z"
   },
   {
    "duration": 6,
    "start_time": "2022-09-30T17:07:45.936Z"
   },
   {
    "duration": 3,
    "start_time": "2022-09-30T17:07:49.157Z"
   },
   {
    "duration": 2,
    "start_time": "2022-09-30T17:07:49.359Z"
   },
   {
    "duration": 2,
    "start_time": "2022-09-30T17:07:49.586Z"
   },
   {
    "duration": 4,
    "start_time": "2022-09-30T17:07:50.032Z"
   },
   {
    "duration": 16,
    "start_time": "2022-09-30T17:07:50.596Z"
   },
   {
    "duration": 16,
    "start_time": "2022-09-30T17:07:50.852Z"
   },
   {
    "duration": 17,
    "start_time": "2022-09-30T17:07:51.129Z"
   },
   {
    "duration": 2,
    "start_time": "2022-09-30T17:07:51.357Z"
   },
   {
    "duration": 3,
    "start_time": "2022-09-30T17:07:51.632Z"
   },
   {
    "duration": 2,
    "start_time": "2022-09-30T17:07:51.915Z"
   },
   {
    "duration": 2,
    "start_time": "2022-09-30T17:07:52.391Z"
   },
   {
    "duration": 2,
    "start_time": "2022-09-30T17:07:52.977Z"
   },
   {
    "duration": 3,
    "start_time": "2022-09-30T17:07:53.482Z"
   },
   {
    "duration": 12,
    "start_time": "2022-09-30T17:07:55.010Z"
   },
   {
    "duration": 15,
    "start_time": "2022-09-30T17:07:55.369Z"
   },
   {
    "duration": 10,
    "start_time": "2022-09-30T17:07:56.071Z"
   },
   {
    "duration": 13,
    "start_time": "2022-09-30T17:07:56.443Z"
   },
   {
    "duration": 10,
    "start_time": "2022-09-30T17:07:56.711Z"
   },
   {
    "duration": 11,
    "start_time": "2022-09-30T17:07:57.012Z"
   },
   {
    "duration": 3,
    "start_time": "2022-09-30T17:07:58.223Z"
   },
   {
    "duration": 9,
    "start_time": "2022-09-30T17:07:58.447Z"
   },
   {
    "duration": 4,
    "start_time": "2022-09-30T17:07:58.683Z"
   },
   {
    "duration": 8,
    "start_time": "2022-09-30T17:07:58.915Z"
   },
   {
    "duration": 5,
    "start_time": "2022-09-30T17:07:59.144Z"
   },
   {
    "duration": 5,
    "start_time": "2022-09-30T17:07:59.397Z"
   },
   {
    "duration": 5,
    "start_time": "2022-09-30T17:07:59.640Z"
   },
   {
    "duration": 5,
    "start_time": "2022-09-30T17:08:02.931Z"
   },
   {
    "duration": 6,
    "start_time": "2022-09-30T17:08:03.404Z"
   },
   {
    "duration": 6,
    "start_time": "2022-09-30T17:08:04.203Z"
   },
   {
    "duration": 5,
    "start_time": "2022-09-30T17:08:04.568Z"
   },
   {
    "duration": 3,
    "start_time": "2022-09-30T17:08:07.312Z"
   },
   {
    "duration": 3,
    "start_time": "2022-09-30T17:08:08.179Z"
   },
   {
    "duration": 10,
    "start_time": "2022-09-30T17:08:08.549Z"
   },
   {
    "duration": 9,
    "start_time": "2022-09-30T17:08:08.835Z"
   },
   {
    "duration": 9,
    "start_time": "2022-09-30T17:08:09.101Z"
   },
   {
    "duration": 4,
    "start_time": "2022-09-30T17:08:09.973Z"
   },
   {
    "duration": 14,
    "start_time": "2022-09-30T17:08:10.353Z"
   },
   {
    "duration": 8,
    "start_time": "2022-09-30T17:08:10.660Z"
   },
   {
    "duration": 8,
    "start_time": "2022-09-30T17:08:10.929Z"
   },
   {
    "duration": 3,
    "start_time": "2022-09-30T17:08:11.991Z"
   },
   {
    "duration": 7,
    "start_time": "2022-09-30T17:08:12.433Z"
   },
   {
    "duration": 9,
    "start_time": "2022-09-30T17:08:12.773Z"
   },
   {
    "duration": 6,
    "start_time": "2022-09-30T17:08:13.065Z"
   },
   {
    "duration": 3,
    "start_time": "2022-09-30T17:08:15.942Z"
   },
   {
    "duration": 3,
    "start_time": "2022-09-30T17:08:16.627Z"
   },
   {
    "duration": 7,
    "start_time": "2022-09-30T17:08:17.446Z"
   },
   {
    "duration": 6,
    "start_time": "2022-09-30T17:08:17.811Z"
   },
   {
    "duration": 6,
    "start_time": "2022-09-30T17:08:18.057Z"
   },
   {
    "duration": 5,
    "start_time": "2022-09-30T17:08:22.941Z"
   },
   {
    "duration": 12,
    "start_time": "2022-09-30T17:08:25.717Z"
   },
   {
    "duration": 8,
    "start_time": "2022-09-30T17:08:26.069Z"
   },
   {
    "duration": 9,
    "start_time": "2022-09-30T17:08:26.702Z"
   },
   {
    "duration": 4,
    "start_time": "2022-09-30T17:08:28.029Z"
   },
   {
    "duration": 13,
    "start_time": "2022-09-30T17:08:28.822Z"
   },
   {
    "duration": 14,
    "start_time": "2022-09-30T17:08:29.234Z"
   },
   {
    "duration": 12,
    "start_time": "2022-09-30T17:08:29.677Z"
   },
   {
    "duration": 3,
    "start_time": "2022-09-30T17:08:33.497Z"
   },
   {
    "duration": 4,
    "start_time": "2022-09-30T17:08:35.989Z"
   },
   {
    "duration": 5,
    "start_time": "2022-09-30T17:08:36.439Z"
   },
   {
    "duration": 4,
    "start_time": "2022-09-30T17:08:36.964Z"
   },
   {
    "duration": 4,
    "start_time": "2022-09-30T17:08:40.481Z"
   },
   {
    "duration": 121,
    "start_time": "2022-09-30T17:08:42.486Z"
   },
   {
    "duration": 4,
    "start_time": "2022-09-30T17:09:01.031Z"
   },
   {
    "duration": 26,
    "start_time": "2022-09-30T17:09:41.105Z"
   },
   {
    "duration": 24,
    "start_time": "2022-09-30T17:10:03.352Z"
   },
   {
    "duration": 17,
    "start_time": "2022-09-30T17:10:13.633Z"
   },
   {
    "duration": 24,
    "start_time": "2022-09-30T17:10:53.447Z"
   },
   {
    "duration": 23,
    "start_time": "2022-09-30T17:14:28.593Z"
   },
   {
    "duration": 13,
    "start_time": "2022-09-30T17:17:07.656Z"
   },
   {
    "duration": 16,
    "start_time": "2022-09-30T17:17:17.582Z"
   },
   {
    "duration": 1435,
    "start_time": "2022-09-30T20:47:22.195Z"
   },
   {
    "duration": 1860,
    "start_time": "2022-09-30T20:47:23.632Z"
   },
   {
    "duration": 49,
    "start_time": "2022-09-30T20:47:32.456Z"
   },
   {
    "duration": 12,
    "start_time": "2022-09-30T20:47:32.851Z"
   },
   {
    "duration": 12,
    "start_time": "2022-09-30T20:47:33.163Z"
   },
   {
    "duration": 5,
    "start_time": "2022-09-30T20:47:33.891Z"
   },
   {
    "duration": 6,
    "start_time": "2022-09-30T20:47:34.660Z"
   },
   {
    "duration": 7,
    "start_time": "2022-09-30T20:47:34.919Z"
   },
   {
    "duration": 2,
    "start_time": "2022-09-30T20:47:38.909Z"
   },
   {
    "duration": 2,
    "start_time": "2022-09-30T20:47:39.192Z"
   },
   {
    "duration": 2,
    "start_time": "2022-09-30T20:47:39.407Z"
   },
   {
    "duration": 4,
    "start_time": "2022-09-30T20:47:40.224Z"
   },
   {
    "duration": 14,
    "start_time": "2022-09-30T20:47:40.821Z"
   },
   {
    "duration": 16,
    "start_time": "2022-09-30T20:47:41.067Z"
   },
   {
    "duration": 13,
    "start_time": "2022-09-30T20:47:41.230Z"
   },
   {
    "duration": 2,
    "start_time": "2022-09-30T20:47:41.405Z"
   },
   {
    "duration": 2,
    "start_time": "2022-09-30T20:47:41.629Z"
   },
   {
    "duration": 3,
    "start_time": "2022-09-30T20:47:41.875Z"
   },
   {
    "duration": 3,
    "start_time": "2022-09-30T20:47:42.154Z"
   },
   {
    "duration": 3,
    "start_time": "2022-09-30T20:47:42.390Z"
   },
   {
    "duration": 2,
    "start_time": "2022-09-30T20:47:42.668Z"
   },
   {
    "duration": 12,
    "start_time": "2022-09-30T20:47:44.126Z"
   },
   {
    "duration": 12,
    "start_time": "2022-09-30T20:47:44.402Z"
   },
   {
    "duration": 9,
    "start_time": "2022-09-30T20:47:44.945Z"
   },
   {
    "duration": 9,
    "start_time": "2022-09-30T20:47:45.281Z"
   },
   {
    "duration": 10,
    "start_time": "2022-09-30T20:47:45.554Z"
   },
   {
    "duration": 10,
    "start_time": "2022-09-30T20:47:45.749Z"
   },
   {
    "duration": 3,
    "start_time": "2022-09-30T20:47:46.681Z"
   },
   {
    "duration": 8,
    "start_time": "2022-09-30T20:47:46.913Z"
   },
   {
    "duration": 3,
    "start_time": "2022-09-30T20:47:47.141Z"
   },
   {
    "duration": 7,
    "start_time": "2022-09-30T20:47:47.370Z"
   },
   {
    "duration": 3,
    "start_time": "2022-09-30T20:47:47.557Z"
   },
   {
    "duration": 7,
    "start_time": "2022-09-30T20:47:47.805Z"
   },
   {
    "duration": 3,
    "start_time": "2022-09-30T20:47:48.043Z"
   },
   {
    "duration": 5,
    "start_time": "2022-09-30T20:47:50.272Z"
   },
   {
    "duration": 5,
    "start_time": "2022-09-30T20:47:50.557Z"
   },
   {
    "duration": 5,
    "start_time": "2022-09-30T20:47:50.804Z"
   },
   {
    "duration": 6,
    "start_time": "2022-09-30T20:47:51.037Z"
   },
   {
    "duration": 3,
    "start_time": "2022-09-30T20:47:52.475Z"
   },
   {
    "duration": 2,
    "start_time": "2022-09-30T20:47:52.860Z"
   },
   {
    "duration": 8,
    "start_time": "2022-09-30T20:47:53.055Z"
   },
   {
    "duration": 7,
    "start_time": "2022-09-30T20:47:53.297Z"
   },
   {
    "duration": 6,
    "start_time": "2022-09-30T20:47:53.533Z"
   },
   {
    "duration": 2,
    "start_time": "2022-09-30T20:47:54.207Z"
   },
   {
    "duration": 5,
    "start_time": "2022-09-30T20:47:54.427Z"
   },
   {
    "duration": 7,
    "start_time": "2022-09-30T20:47:54.649Z"
   },
   {
    "duration": 6,
    "start_time": "2022-09-30T20:47:54.876Z"
   },
   {
    "duration": 3,
    "start_time": "2022-09-30T20:47:55.295Z"
   },
   {
    "duration": 5,
    "start_time": "2022-09-30T20:47:55.541Z"
   },
   {
    "duration": 7,
    "start_time": "2022-09-30T20:47:55.763Z"
   },
   {
    "duration": 7,
    "start_time": "2022-09-30T20:47:55.992Z"
   },
   {
    "duration": 3,
    "start_time": "2022-09-30T20:47:57.888Z"
   },
   {
    "duration": 3,
    "start_time": "2022-09-30T20:47:59.009Z"
   },
   {
    "duration": 5,
    "start_time": "2022-09-30T20:48:00.231Z"
   },
   {
    "duration": 6,
    "start_time": "2022-09-30T20:48:00.466Z"
   },
   {
    "duration": 6,
    "start_time": "2022-09-30T20:48:00.707Z"
   },
   {
    "duration": 5,
    "start_time": "2022-09-30T20:48:03.541Z"
   },
   {
    "duration": 7,
    "start_time": "2022-09-30T20:48:04.164Z"
   },
   {
    "duration": 10,
    "start_time": "2022-09-30T20:48:05.394Z"
   },
   {
    "duration": 7,
    "start_time": "2022-09-30T20:48:05.976Z"
   },
   {
    "duration": 3,
    "start_time": "2022-09-30T20:48:07.211Z"
   },
   {
    "duration": 7,
    "start_time": "2022-09-30T20:48:36.338Z"
   },
   {
    "duration": 5,
    "start_time": "2022-09-30T20:48:44.393Z"
   },
   {
    "duration": 8,
    "start_time": "2022-09-30T20:48:51.083Z"
   },
   {
    "duration": 11,
    "start_time": "2022-09-30T20:48:51.347Z"
   },
   {
    "duration": 11,
    "start_time": "2022-09-30T20:49:47.635Z"
   },
   {
    "duration": 12,
    "start_time": "2022-09-30T20:49:48.070Z"
   },
   {
    "duration": 12,
    "start_time": "2022-09-30T20:49:48.461Z"
   },
   {
    "duration": 3,
    "start_time": "2022-09-30T20:52:06.371Z"
   },
   {
    "duration": 2,
    "start_time": "2022-09-30T20:52:08.178Z"
   },
   {
    "duration": 3,
    "start_time": "2022-09-30T20:52:27.908Z"
   },
   {
    "duration": 3,
    "start_time": "2022-09-30T20:52:37.538Z"
   },
   {
    "duration": 2,
    "start_time": "2022-09-30T20:52:38.727Z"
   },
   {
    "duration": 3,
    "start_time": "2022-09-30T20:53:20.534Z"
   },
   {
    "duration": 105,
    "start_time": "2022-09-30T20:53:36.300Z"
   },
   {
    "duration": 11,
    "start_time": "2022-09-30T20:53:47.296Z"
   },
   {
    "duration": 3,
    "start_time": "2022-09-30T20:54:31.618Z"
   },
   {
    "duration": 2,
    "start_time": "2022-09-30T20:54:32.063Z"
   },
   {
    "duration": 9,
    "start_time": "2022-09-30T20:54:32.459Z"
   },
   {
    "duration": 3,
    "start_time": "2022-09-30T20:54:48.152Z"
   },
   {
    "duration": 3,
    "start_time": "2022-09-30T20:54:51.240Z"
   },
   {
    "duration": 2,
    "start_time": "2022-09-30T20:54:51.833Z"
   },
   {
    "duration": 9,
    "start_time": "2022-09-30T20:54:52.217Z"
   },
   {
    "duration": 4,
    "start_time": "2022-09-30T20:55:01.650Z"
   },
   {
    "duration": 2,
    "start_time": "2022-09-30T20:55:02.006Z"
   },
   {
    "duration": 8,
    "start_time": "2022-09-30T20:55:02.294Z"
   },
   {
    "duration": 11,
    "start_time": "2022-09-30T20:55:10.923Z"
   },
   {
    "duration": 3,
    "start_time": "2022-09-30T20:56:40.489Z"
   },
   {
    "duration": 2,
    "start_time": "2022-09-30T20:56:41.041Z"
   },
   {
    "duration": 8,
    "start_time": "2022-09-30T20:56:41.592Z"
   },
   {
    "duration": 3,
    "start_time": "2022-09-30T20:56:47.735Z"
   },
   {
    "duration": 3,
    "start_time": "2022-09-30T20:56:48.603Z"
   },
   {
    "duration": 9,
    "start_time": "2022-09-30T20:56:48.942Z"
   },
   {
    "duration": 3,
    "start_time": "2022-09-30T20:56:51.894Z"
   },
   {
    "duration": 3,
    "start_time": "2022-09-30T20:56:52.623Z"
   },
   {
    "duration": 9,
    "start_time": "2022-09-30T20:56:53.055Z"
   },
   {
    "duration": 8,
    "start_time": "2022-09-30T20:57:04.409Z"
   },
   {
    "duration": 9,
    "start_time": "2022-09-30T20:57:14.190Z"
   },
   {
    "duration": 8,
    "start_time": "2022-09-30T20:57:18.833Z"
   },
   {
    "duration": 8,
    "start_time": "2022-09-30T20:57:26.321Z"
   },
   {
    "duration": 3,
    "start_time": "2022-09-30T20:58:01.741Z"
   },
   {
    "duration": 2,
    "start_time": "2022-09-30T20:58:12.458Z"
   },
   {
    "duration": 6,
    "start_time": "2022-09-30T20:58:12.652Z"
   },
   {
    "duration": 8,
    "start_time": "2022-09-30T20:58:12.893Z"
   },
   {
    "duration": 6,
    "start_time": "2022-09-30T20:58:13.215Z"
   },
   {
    "duration": 3,
    "start_time": "2022-09-30T20:58:13.724Z"
   },
   {
    "duration": 13,
    "start_time": "2022-09-30T20:58:13.958Z"
   },
   {
    "duration": 7,
    "start_time": "2022-09-30T20:58:14.216Z"
   },
   {
    "duration": 5,
    "start_time": "2022-09-30T20:58:14.409Z"
   },
   {
    "duration": 3,
    "start_time": "2022-09-30T20:58:14.780Z"
   },
   {
    "duration": 6,
    "start_time": "2022-09-30T20:58:14.965Z"
   },
   {
    "duration": 7,
    "start_time": "2022-09-30T20:58:15.332Z"
   },
   {
    "duration": 5,
    "start_time": "2022-09-30T20:58:15.491Z"
   },
   {
    "duration": 3,
    "start_time": "2022-09-30T20:58:16.634Z"
   },
   {
    "duration": 3,
    "start_time": "2022-09-30T20:58:17.050Z"
   },
   {
    "duration": 5,
    "start_time": "2022-09-30T20:58:17.438Z"
   },
   {
    "duration": 5,
    "start_time": "2022-09-30T20:58:17.689Z"
   },
   {
    "duration": 5,
    "start_time": "2022-09-30T20:58:23.966Z"
   },
   {
    "duration": 3,
    "start_time": "2022-09-30T20:58:31.419Z"
   },
   {
    "duration": 9,
    "start_time": "2022-09-30T20:58:32.141Z"
   },
   {
    "duration": 7,
    "start_time": "2022-09-30T20:58:32.676Z"
   },
   {
    "duration": 6,
    "start_time": "2022-09-30T20:58:33.970Z"
   },
   {
    "duration": 44,
    "start_time": "2022-09-30T20:58:33.978Z"
   },
   {
    "duration": 9,
    "start_time": "2022-09-30T20:58:34.266Z"
   },
   {
    "duration": 10,
    "start_time": "2022-09-30T20:58:34.817Z"
   },
   {
    "duration": 11,
    "start_time": "2022-09-30T20:58:35.128Z"
   },
   {
    "duration": 3,
    "start_time": "2022-09-30T20:58:35.919Z"
   },
   {
    "duration": 4,
    "start_time": "2022-09-30T20:58:36.457Z"
   },
   {
    "duration": 4,
    "start_time": "2022-09-30T20:58:37.060Z"
   },
   {
    "duration": 3,
    "start_time": "2022-09-30T20:58:37.908Z"
   },
   {
    "duration": 3,
    "start_time": "2022-09-30T20:58:42.438Z"
   },
   {
    "duration": 2,
    "start_time": "2022-09-30T20:58:42.890Z"
   },
   {
    "duration": 9,
    "start_time": "2022-09-30T20:58:43.670Z"
   },
   {
    "duration": 9,
    "start_time": "2022-09-30T20:58:44.043Z"
   },
   {
    "duration": 10,
    "start_time": "2022-09-30T20:58:44.366Z"
   },
   {
    "duration": 3,
    "start_time": "2022-09-30T20:58:59.377Z"
   },
   {
    "duration": 2,
    "start_time": "2022-09-30T20:59:00.089Z"
   },
   {
    "duration": 9,
    "start_time": "2022-09-30T20:59:00.338Z"
   },
   {
    "duration": 8,
    "start_time": "2022-09-30T20:59:00.602Z"
   },
   {
    "duration": 8,
    "start_time": "2022-09-30T20:59:00.836Z"
   },
   {
    "duration": 3,
    "start_time": "2022-09-30T20:59:29.672Z"
   },
   {
    "duration": 2,
    "start_time": "2022-09-30T20:59:30.216Z"
   },
   {
    "duration": 8,
    "start_time": "2022-09-30T20:59:30.562Z"
   },
   {
    "duration": 11,
    "start_time": "2022-09-30T20:59:31.007Z"
   },
   {
    "duration": 3,
    "start_time": "2022-09-30T21:02:11.669Z"
   },
   {
    "duration": 4,
    "start_time": "2022-09-30T21:02:12.501Z"
   },
   {
    "duration": 6,
    "start_time": "2022-09-30T21:02:12.790Z"
   },
   {
    "duration": 9,
    "start_time": "2022-09-30T21:02:13.038Z"
   },
   {
    "duration": 7,
    "start_time": "2022-09-30T21:02:13.213Z"
   },
   {
    "duration": 3,
    "start_time": "2022-09-30T21:02:13.564Z"
   },
   {
    "duration": 61,
    "start_time": "2022-09-30T21:02:13.760Z"
   },
   {
    "duration": 7,
    "start_time": "2022-09-30T21:02:13.938Z"
   },
   {
    "duration": 5,
    "start_time": "2022-09-30T21:02:14.252Z"
   },
   {
    "duration": 3,
    "start_time": "2022-09-30T21:02:14.635Z"
   },
   {
    "duration": 5,
    "start_time": "2022-09-30T21:02:14.812Z"
   },
   {
    "duration": 8,
    "start_time": "2022-09-30T21:02:14.973Z"
   },
   {
    "duration": 6,
    "start_time": "2022-09-30T21:02:15.140Z"
   },
   {
    "duration": 4,
    "start_time": "2022-09-30T21:02:16.161Z"
   },
   {
    "duration": 3,
    "start_time": "2022-09-30T21:02:18.048Z"
   },
   {
    "duration": 6,
    "start_time": "2022-09-30T21:02:19.253Z"
   },
   {
    "duration": 6,
    "start_time": "2022-09-30T21:02:19.449Z"
   },
   {
    "duration": 6,
    "start_time": "2022-09-30T21:02:19.998Z"
   },
   {
    "duration": 3,
    "start_time": "2022-09-30T21:02:21.796Z"
   },
   {
    "duration": 82,
    "start_time": "2022-09-30T21:02:22.245Z"
   },
   {
    "duration": 21,
    "start_time": "2022-09-30T21:02:22.423Z"
   },
   {
    "duration": 11,
    "start_time": "2022-09-30T21:02:22.623Z"
   },
   {
    "duration": 3,
    "start_time": "2022-09-30T21:02:23.064Z"
   },
   {
    "duration": 10,
    "start_time": "2022-09-30T21:02:23.245Z"
   },
   {
    "duration": 11,
    "start_time": "2022-09-30T21:02:23.812Z"
   },
   {
    "duration": 10,
    "start_time": "2022-09-30T21:02:24.109Z"
   },
   {
    "duration": 2,
    "start_time": "2022-09-30T21:02:24.838Z"
   },
   {
    "duration": 3,
    "start_time": "2022-09-30T21:02:25.057Z"
   },
   {
    "duration": 4,
    "start_time": "2022-09-30T21:02:25.301Z"
   },
   {
    "duration": 5,
    "start_time": "2022-09-30T21:02:25.589Z"
   },
   {
    "duration": 3,
    "start_time": "2022-09-30T21:02:38.609Z"
   },
   {
    "duration": 6,
    "start_time": "2022-09-30T21:02:38.613Z"
   },
   {
    "duration": 25,
    "start_time": "2022-09-30T21:02:38.620Z"
   },
   {
    "duration": 9,
    "start_time": "2022-09-30T21:02:39.038Z"
   },
   {
    "duration": 8,
    "start_time": "2022-09-30T21:02:39.342Z"
   },
   {
    "duration": 3,
    "start_time": "2022-09-30T21:02:52.214Z"
   },
   {
    "duration": 2,
    "start_time": "2022-09-30T21:02:52.890Z"
   },
   {
    "duration": 9,
    "start_time": "2022-09-30T21:02:53.161Z"
   },
   {
    "duration": 8,
    "start_time": "2022-09-30T21:02:53.405Z"
   },
   {
    "duration": 9,
    "start_time": "2022-09-30T21:02:53.688Z"
   },
   {
    "duration": 4,
    "start_time": "2022-09-30T21:03:01.392Z"
   },
   {
    "duration": 2,
    "start_time": "2022-09-30T21:03:02.801Z"
   },
   {
    "duration": 9,
    "start_time": "2022-09-30T21:03:03.046Z"
   },
   {
    "duration": 8,
    "start_time": "2022-09-30T21:03:03.268Z"
   },
   {
    "duration": 9,
    "start_time": "2022-09-30T21:03:03.507Z"
   },
   {
    "duration": 4,
    "start_time": "2022-09-30T21:05:44.797Z"
   },
   {
    "duration": 2,
    "start_time": "2022-09-30T21:05:45.362Z"
   },
   {
    "duration": 9,
    "start_time": "2022-09-30T21:05:45.702Z"
   },
   {
    "duration": 10,
    "start_time": "2022-09-30T21:05:46.357Z"
   },
   {
    "duration": 10,
    "start_time": "2022-09-30T21:05:46.698Z"
   },
   {
    "duration": 4,
    "start_time": "2022-09-30T21:07:29.756Z"
   },
   {
    "duration": 2,
    "start_time": "2022-09-30T21:07:38.765Z"
   },
   {
    "duration": 4,
    "start_time": "2022-09-30T21:08:35.038Z"
   },
   {
    "duration": 12,
    "start_time": "2022-09-30T21:08:52.156Z"
   },
   {
    "duration": 3,
    "start_time": "2022-09-30T21:08:59.460Z"
   },
   {
    "duration": 10,
    "start_time": "2022-09-30T21:09:01.203Z"
   },
   {
    "duration": 4,
    "start_time": "2022-09-30T21:09:30.996Z"
   },
   {
    "duration": 17,
    "start_time": "2022-09-30T21:09:32.301Z"
   },
   {
    "duration": 11,
    "start_time": "2022-09-30T21:10:22.104Z"
   },
   {
    "duration": 8,
    "start_time": "2022-09-30T21:11:03.247Z"
   },
   {
    "duration": 4,
    "start_time": "2022-09-30T21:11:06.700Z"
   },
   {
    "duration": 4,
    "start_time": "2022-09-30T21:11:15.275Z"
   },
   {
    "duration": 3,
    "start_time": "2022-09-30T21:11:25.951Z"
   },
   {
    "duration": 12,
    "start_time": "2022-09-30T21:12:06.373Z"
   },
   {
    "duration": 5,
    "start_time": "2022-09-30T21:12:11.390Z"
   },
   {
    "duration": 4,
    "start_time": "2022-09-30T21:12:11.661Z"
   },
   {
    "duration": 5,
    "start_time": "2022-09-30T21:12:11.989Z"
   },
   {
    "duration": 4,
    "start_time": "2022-09-30T21:12:12.261Z"
   },
   {
    "duration": 13,
    "start_time": "2022-09-30T21:12:23.672Z"
   },
   {
    "duration": 6,
    "start_time": "2022-09-30T21:13:49.255Z"
   },
   {
    "duration": 3,
    "start_time": "2022-09-30T21:13:50.170Z"
   },
   {
    "duration": 4,
    "start_time": "2022-09-30T21:13:51.923Z"
   },
   {
    "duration": 3,
    "start_time": "2022-09-30T21:13:52.132Z"
   },
   {
    "duration": 11,
    "start_time": "2022-09-30T21:13:52.415Z"
   },
   {
    "duration": 2,
    "start_time": "2022-09-30T21:13:52.762Z"
   },
   {
    "duration": 6,
    "start_time": "2022-09-30T21:14:19.108Z"
   },
   {
    "duration": 4,
    "start_time": "2022-09-30T21:14:19.947Z"
   },
   {
    "duration": 4,
    "start_time": "2022-09-30T21:14:20.322Z"
   },
   {
    "duration": 4,
    "start_time": "2022-09-30T21:14:20.616Z"
   },
   {
    "duration": 14,
    "start_time": "2022-09-30T21:14:21.089Z"
   },
   {
    "duration": 4,
    "start_time": "2022-09-30T21:14:28.191Z"
   },
   {
    "duration": 4,
    "start_time": "2022-09-30T21:14:28.860Z"
   },
   {
    "duration": 4,
    "start_time": "2022-09-30T21:14:29.269Z"
   },
   {
    "duration": 3,
    "start_time": "2022-09-30T21:14:29.545Z"
   },
   {
    "duration": 12,
    "start_time": "2022-09-30T21:14:29.792Z"
   },
   {
    "duration": 4,
    "start_time": "2022-09-30T21:14:48.726Z"
   },
   {
    "duration": 4,
    "start_time": "2022-09-30T21:14:49.671Z"
   },
   {
    "duration": 4,
    "start_time": "2022-09-30T21:14:49.915Z"
   },
   {
    "duration": 3,
    "start_time": "2022-09-30T21:14:50.172Z"
   },
   {
    "duration": 13,
    "start_time": "2022-09-30T21:14:50.411Z"
   },
   {
    "duration": 2,
    "start_time": "2022-09-30T21:14:50.712Z"
   },
   {
    "duration": 3,
    "start_time": "2022-09-30T21:17:51.712Z"
   },
   {
    "duration": 8,
    "start_time": "2022-09-30T21:17:52.026Z"
   },
   {
    "duration": 21,
    "start_time": "2022-09-30T21:18:24.202Z"
   },
   {
    "duration": 9,
    "start_time": "2022-09-30T21:19:26.173Z"
   },
   {
    "duration": 3,
    "start_time": "2022-09-30T21:19:39.621Z"
   },
   {
    "duration": 3,
    "start_time": "2022-09-30T21:19:41.102Z"
   },
   {
    "duration": 5,
    "start_time": "2022-09-30T21:19:41.892Z"
   },
   {
    "duration": 5,
    "start_time": "2022-09-30T21:19:42.170Z"
   },
   {
    "duration": 5,
    "start_time": "2022-09-30T21:19:42.444Z"
   },
   {
    "duration": 15,
    "start_time": "2022-09-30T21:20:01.071Z"
   },
   {
    "duration": 3,
    "start_time": "2022-09-30T21:20:19.238Z"
   },
   {
    "duration": 11,
    "start_time": "2022-09-30T21:20:19.715Z"
   },
   {
    "duration": 4,
    "start_time": "2022-09-30T21:21:25.425Z"
   },
   {
    "duration": 26,
    "start_time": "2022-09-30T21:21:26.038Z"
   },
   {
    "duration": 20,
    "start_time": "2022-09-30T21:22:06.314Z"
   },
   {
    "duration": 4,
    "start_time": "2022-09-30T21:24:11.037Z"
   },
   {
    "duration": 19,
    "start_time": "2022-09-30T21:24:11.592Z"
   },
   {
    "duration": 4,
    "start_time": "2022-09-30T21:25:00.306Z"
   },
   {
    "duration": 11,
    "start_time": "2022-09-30T21:25:10.253Z"
   },
   {
    "duration": 4,
    "start_time": "2022-09-30T21:25:26.374Z"
   },
   {
    "duration": 5,
    "start_time": "2022-09-30T21:25:31.831Z"
   },
   {
    "duration": 2,
    "start_time": "2022-09-30T21:25:32.303Z"
   },
   {
    "duration": 10,
    "start_time": "2022-09-30T21:25:32.772Z"
   },
   {
    "duration": 12,
    "start_time": "2022-09-30T21:25:34.996Z"
   },
   {
    "duration": 8,
    "start_time": "2022-09-30T21:25:35.285Z"
   },
   {
    "duration": 4,
    "start_time": "2022-09-30T21:25:58.745Z"
   },
   {
    "duration": 14,
    "start_time": "2022-09-30T21:26:19.770Z"
   },
   {
    "duration": 4,
    "start_time": "2022-09-30T21:26:58.704Z"
   },
   {
    "duration": 19,
    "start_time": "2022-09-30T21:26:59.061Z"
   },
   {
    "duration": 5,
    "start_time": "2022-09-30T21:27:03.821Z"
   },
   {
    "duration": 16,
    "start_time": "2022-09-30T21:27:04.342Z"
   },
   {
    "duration": 4,
    "start_time": "2022-09-30T21:28:08.892Z"
   },
   {
    "duration": 23,
    "start_time": "2022-09-30T21:28:09.430Z"
   },
   {
    "duration": 3,
    "start_time": "2022-09-30T21:28:26.603Z"
   },
   {
    "duration": 29,
    "start_time": "2022-09-30T21:28:27.151Z"
   },
   {
    "duration": 5,
    "start_time": "2022-09-30T21:28:49.578Z"
   },
   {
    "duration": 30,
    "start_time": "2022-09-30T21:28:50.032Z"
   },
   {
    "duration": 11,
    "start_time": "2022-09-30T21:29:22.672Z"
   },
   {
    "duration": 13,
    "start_time": "2022-09-30T21:29:50.545Z"
   },
   {
    "duration": 14,
    "start_time": "2022-09-30T21:30:18.048Z"
   },
   {
    "duration": 7,
    "start_time": "2022-09-30T21:30:31.292Z"
   },
   {
    "duration": 6,
    "start_time": "2022-09-30T21:30:34.690Z"
   },
   {
    "duration": 14,
    "start_time": "2022-09-30T21:30:59.309Z"
   },
   {
    "duration": 12,
    "start_time": "2022-09-30T21:31:14.604Z"
   },
   {
    "duration": 10,
    "start_time": "2022-09-30T21:31:24.397Z"
   },
   {
    "duration": 6,
    "start_time": "2022-09-30T21:31:44.190Z"
   },
   {
    "duration": 53,
    "start_time": "2022-09-30T21:31:48.670Z"
   },
   {
    "duration": 16,
    "start_time": "2022-09-30T21:32:55.166Z"
   },
   {
    "duration": 14,
    "start_time": "2022-09-30T21:33:04.843Z"
   },
   {
    "duration": 12,
    "start_time": "2022-09-30T21:33:20.868Z"
   },
   {
    "duration": 7,
    "start_time": "2022-09-30T21:33:29.128Z"
   },
   {
    "duration": 7,
    "start_time": "2022-09-30T21:33:41.517Z"
   },
   {
    "duration": 15,
    "start_time": "2022-09-30T21:33:50.972Z"
   },
   {
    "duration": 6,
    "start_time": "2022-09-30T21:34:08.489Z"
   },
   {
    "duration": 9,
    "start_time": "2022-09-30T21:34:23.250Z"
   },
   {
    "duration": 9,
    "start_time": "2022-09-30T21:34:34.516Z"
   },
   {
    "duration": 7,
    "start_time": "2022-09-30T21:34:50.456Z"
   },
   {
    "duration": 3,
    "start_time": "2022-09-30T21:34:50.855Z"
   },
   {
    "duration": 8,
    "start_time": "2022-09-30T21:34:51.229Z"
   },
   {
    "duration": 3,
    "start_time": "2022-09-30T21:34:51.495Z"
   },
   {
    "duration": 6,
    "start_time": "2022-09-30T21:34:51.789Z"
   },
   {
    "duration": 4,
    "start_time": "2022-09-30T21:34:53.389Z"
   },
   {
    "duration": 13,
    "start_time": "2022-09-30T21:34:56.890Z"
   },
   {
    "duration": 3,
    "start_time": "2022-09-30T21:35:07.695Z"
   },
   {
    "duration": 4,
    "start_time": "2022-09-30T21:35:11.950Z"
   },
   {
    "duration": 3,
    "start_time": "2022-09-30T21:35:20.859Z"
   },
   {
    "duration": 13,
    "start_time": "2022-09-30T21:35:21.542Z"
   },
   {
    "duration": 4,
    "start_time": "2022-09-30T21:35:43.225Z"
   },
   {
    "duration": 13,
    "start_time": "2022-09-30T21:35:43.907Z"
   },
   {
    "duration": 3,
    "start_time": "2022-09-30T21:35:54.473Z"
   },
   {
    "duration": 11,
    "start_time": "2022-09-30T21:35:55.508Z"
   },
   {
    "duration": 22,
    "start_time": "2022-09-30T21:36:04.600Z"
   },
   {
    "duration": 23,
    "start_time": "2022-09-30T21:37:47.296Z"
   },
   {
    "duration": 11,
    "start_time": "2022-09-30T21:38:07.425Z"
   },
   {
    "duration": 7,
    "start_time": "2022-09-30T21:38:14.089Z"
   },
   {
    "duration": 8,
    "start_time": "2022-09-30T21:38:16.535Z"
   },
   {
    "duration": 15,
    "start_time": "2022-09-30T21:38:25.482Z"
   },
   {
    "duration": 15,
    "start_time": "2022-09-30T21:38:47.823Z"
   },
   {
    "duration": 3,
    "start_time": "2022-09-30T21:38:49.119Z"
   },
   {
    "duration": 19,
    "start_time": "2022-09-30T21:38:59.794Z"
   },
   {
    "duration": 13,
    "start_time": "2022-09-30T21:39:29.760Z"
   },
   {
    "duration": 13,
    "start_time": "2022-09-30T21:39:46.776Z"
   },
   {
    "duration": 11,
    "start_time": "2022-09-30T21:39:53.119Z"
   },
   {
    "duration": 5,
    "start_time": "2022-09-30T21:40:14.275Z"
   },
   {
    "duration": 9,
    "start_time": "2022-09-30T21:40:17.950Z"
   },
   {
    "duration": 5,
    "start_time": "2022-09-30T21:40:22.189Z"
   },
   {
    "duration": 5,
    "start_time": "2022-09-30T21:40:31.313Z"
   },
   {
    "duration": 4,
    "start_time": "2022-09-30T21:40:33.590Z"
   },
   {
    "duration": 5,
    "start_time": "2022-09-30T21:40:42.295Z"
   },
   {
    "duration": 3,
    "start_time": "2022-09-30T21:40:44.033Z"
   },
   {
    "duration": 20,
    "start_time": "2022-09-30T21:40:50.635Z"
   },
   {
    "duration": 4,
    "start_time": "2022-09-30T21:41:04.728Z"
   },
   {
    "duration": 3,
    "start_time": "2022-09-30T21:41:05.087Z"
   },
   {
    "duration": 20,
    "start_time": "2022-09-30T21:41:05.683Z"
   },
   {
    "duration": 8,
    "start_time": "2022-09-30T21:41:14.412Z"
   },
   {
    "duration": 20,
    "start_time": "2022-09-30T21:41:19.831Z"
   },
   {
    "duration": 4,
    "start_time": "2022-09-30T21:41:44.950Z"
   },
   {
    "duration": 20,
    "start_time": "2022-09-30T21:41:46.630Z"
   },
   {
    "duration": 3,
    "start_time": "2022-09-30T21:42:15.225Z"
   },
   {
    "duration": 11,
    "start_time": "2022-09-30T21:42:21.661Z"
   },
   {
    "duration": 9,
    "start_time": "2022-09-30T21:42:43.637Z"
   },
   {
    "duration": 10,
    "start_time": "2022-09-30T21:42:55.367Z"
   },
   {
    "duration": 9,
    "start_time": "2022-09-30T21:42:55.747Z"
   },
   {
    "duration": 5,
    "start_time": "2022-09-30T21:43:56.507Z"
   },
   {
    "duration": 13,
    "start_time": "2022-09-30T21:44:06.325Z"
   },
   {
    "duration": 4,
    "start_time": "2022-09-30T21:44:20.052Z"
   },
   {
    "duration": 7136,
    "start_time": "2022-09-30T21:44:21.297Z"
   },
   {
    "duration": 5,
    "start_time": "2022-09-30T21:44:53.937Z"
   },
   {
    "duration": 7028,
    "start_time": "2022-09-30T21:44:55.612Z"
   },
   {
    "duration": 6,
    "start_time": "2022-09-30T21:45:16.433Z"
   },
   {
    "duration": 6723,
    "start_time": "2022-09-30T21:45:17.476Z"
   },
   {
    "duration": 4,
    "start_time": "2022-09-30T21:46:42.015Z"
   },
   {
    "duration": 1065,
    "start_time": "2022-09-30T21:46:46.067Z"
   },
   {
    "duration": 18,
    "start_time": "2022-09-30T21:46:57.899Z"
   },
   {
    "duration": 9,
    "start_time": "2022-09-30T21:47:12.653Z"
   },
   {
    "duration": 9,
    "start_time": "2022-09-30T21:47:13.037Z"
   },
   {
    "duration": 4,
    "start_time": "2022-09-30T21:47:21.640Z"
   },
   {
    "duration": 3,
    "start_time": "2022-09-30T21:47:22.737Z"
   },
   {
    "duration": 9,
    "start_time": "2022-09-30T21:47:23.192Z"
   },
   {
    "duration": 9,
    "start_time": "2022-09-30T21:47:24.107Z"
   },
   {
    "duration": 13,
    "start_time": "2022-09-30T21:47:24.621Z"
   },
   {
    "duration": 6,
    "start_time": "2022-09-30T21:47:26.011Z"
   },
   {
    "duration": 953,
    "start_time": "2022-09-30T21:47:26.809Z"
   },
   {
    "duration": 7,
    "start_time": "2022-09-30T21:47:47.519Z"
   },
   {
    "duration": 2,
    "start_time": "2022-09-30T21:47:47.947Z"
   },
   {
    "duration": 9,
    "start_time": "2022-09-30T21:47:48.250Z"
   },
   {
    "duration": 9,
    "start_time": "2022-09-30T21:47:48.789Z"
   },
   {
    "duration": 18,
    "start_time": "2022-09-30T21:47:49.213Z"
   },
   {
    "duration": 4,
    "start_time": "2022-09-30T21:48:04.540Z"
   },
   {
    "duration": 2,
    "start_time": "2022-09-30T21:48:04.867Z"
   },
   {
    "duration": 10,
    "start_time": "2022-09-30T21:48:05.119Z"
   },
   {
    "duration": 10,
    "start_time": "2022-09-30T21:48:05.542Z"
   },
   {
    "duration": 10,
    "start_time": "2022-09-30T21:48:05.931Z"
   },
   {
    "duration": 4,
    "start_time": "2022-09-30T21:48:06.945Z"
   },
   {
    "duration": 985,
    "start_time": "2022-09-30T21:48:08.817Z"
   },
   {
    "duration": 7,
    "start_time": "2022-09-30T21:48:26.067Z"
   },
   {
    "duration": 986,
    "start_time": "2022-09-30T21:48:26.988Z"
   },
   {
    "duration": 85,
    "start_time": "2022-09-30T21:48:48.869Z"
   },
   {
    "duration": 6,
    "start_time": "2022-09-30T21:48:53.345Z"
   },
   {
    "duration": 1116,
    "start_time": "2022-09-30T21:48:57.189Z"
   },
   {
    "duration": 2,
    "start_time": "2022-09-30T21:48:58.307Z"
   },
   {
    "duration": 5,
    "start_time": "2022-09-30T21:49:27.092Z"
   },
   {
    "duration": 970,
    "start_time": "2022-09-30T21:49:28.244Z"
   },
   {
    "duration": 88,
    "start_time": "2022-09-30T21:50:12.157Z"
   },
   {
    "duration": 6,
    "start_time": "2022-09-30T21:50:18.842Z"
   },
   {
    "duration": 1006,
    "start_time": "2022-09-30T21:50:20.654Z"
   },
   {
    "duration": 4,
    "start_time": "2022-09-30T21:50:40.851Z"
   },
   {
    "duration": 1005,
    "start_time": "2022-09-30T21:50:42.121Z"
   },
   {
    "duration": 5,
    "start_time": "2022-09-30T21:50:53.252Z"
   },
   {
    "duration": 4,
    "start_time": "2022-09-30T21:51:03.067Z"
   },
   {
    "duration": 979,
    "start_time": "2022-09-30T21:51:03.869Z"
   },
   {
    "duration": 4,
    "start_time": "2022-09-30T21:53:15.603Z"
   },
   {
    "duration": 964,
    "start_time": "2022-09-30T21:53:16.450Z"
   },
   {
    "duration": 10,
    "start_time": "2022-09-30T21:53:41.051Z"
   },
   {
    "duration": 11,
    "start_time": "2022-09-30T21:53:45.863Z"
   },
   {
    "duration": 14,
    "start_time": "2022-09-30T21:53:53.853Z"
   },
   {
    "duration": 5,
    "start_time": "2022-09-30T21:54:14.981Z"
   },
   {
    "duration": 1059,
    "start_time": "2022-09-30T21:54:16.466Z"
   },
   {
    "duration": 6,
    "start_time": "2022-09-30T21:54:51.756Z"
   },
   {
    "duration": 1008,
    "start_time": "2022-09-30T21:54:53.355Z"
   },
   {
    "duration": 5,
    "start_time": "2022-09-30T21:55:06.674Z"
   },
   {
    "duration": 1032,
    "start_time": "2022-09-30T21:55:07.840Z"
   },
   {
    "duration": 4,
    "start_time": "2022-09-30T21:56:27.110Z"
   },
   {
    "duration": 981,
    "start_time": "2022-09-30T21:56:27.866Z"
   },
   {
    "duration": 608,
    "start_time": "2022-09-30T21:57:06.553Z"
   },
   {
    "duration": 651,
    "start_time": "2022-09-30T21:57:10.950Z"
   },
   {
    "duration": 5,
    "start_time": "2022-09-30T21:57:25.549Z"
   },
   {
    "duration": 992,
    "start_time": "2022-09-30T21:57:26.249Z"
   },
   {
    "duration": 6,
    "start_time": "2022-09-30T21:58:24.369Z"
   },
   {
    "duration": 11,
    "start_time": "2022-09-30T21:58:25.435Z"
   },
   {
    "duration": 5,
    "start_time": "2022-09-30T21:58:59.833Z"
   },
   {
    "duration": 12,
    "start_time": "2022-09-30T21:59:01.145Z"
   },
   {
    "duration": 4,
    "start_time": "2022-09-30T21:59:13.157Z"
   },
   {
    "duration": 958,
    "start_time": "2022-09-30T21:59:14.417Z"
   },
   {
    "duration": 5,
    "start_time": "2022-09-30T22:02:19.327Z"
   },
   {
    "duration": 3,
    "start_time": "2022-09-30T22:02:24.556Z"
   },
   {
    "duration": 8,
    "start_time": "2022-09-30T22:02:26.267Z"
   },
   {
    "duration": 18,
    "start_time": "2022-09-30T22:02:30.500Z"
   },
   {
    "duration": 4,
    "start_time": "2022-09-30T22:03:00.522Z"
   },
   {
    "duration": 10,
    "start_time": "2022-09-30T22:03:01.136Z"
   },
   {
    "duration": 10,
    "start_time": "2022-09-30T22:03:01.674Z"
   },
   {
    "duration": 11,
    "start_time": "2022-09-30T22:03:02.108Z"
   },
   {
    "duration": 2,
    "start_time": "2022-09-30T22:03:02.908Z"
   },
   {
    "duration": 4,
    "start_time": "2022-09-30T22:03:03.236Z"
   },
   {
    "duration": 4,
    "start_time": "2022-09-30T22:03:03.576Z"
   },
   {
    "duration": 4,
    "start_time": "2022-09-30T22:03:03.771Z"
   },
   {
    "duration": 4,
    "start_time": "2022-09-30T22:03:04.422Z"
   },
   {
    "duration": 2,
    "start_time": "2022-09-30T22:03:04.643Z"
   },
   {
    "duration": 9,
    "start_time": "2022-09-30T22:03:05.162Z"
   },
   {
    "duration": 9,
    "start_time": "2022-09-30T22:03:05.524Z"
   },
   {
    "duration": 10,
    "start_time": "2022-09-30T22:03:05.817Z"
   },
   {
    "duration": 4,
    "start_time": "2022-09-30T22:03:06.321Z"
   },
   {
    "duration": 19,
    "start_time": "2022-09-30T22:03:07.105Z"
   },
   {
    "duration": 18,
    "start_time": "2022-09-30T22:03:09.615Z"
   },
   {
    "duration": 5,
    "start_time": "2022-09-30T22:03:34.387Z"
   },
   {
    "duration": 3148,
    "start_time": "2022-09-30T22:03:35.147Z"
   },
   {
    "duration": 5,
    "start_time": "2022-09-30T22:03:53.717Z"
   },
   {
    "duration": 2,
    "start_time": "2022-09-30T22:03:54.172Z"
   },
   {
    "duration": 9,
    "start_time": "2022-09-30T22:03:54.642Z"
   },
   {
    "duration": 9,
    "start_time": "2022-09-30T22:03:55.162Z"
   },
   {
    "duration": 8,
    "start_time": "2022-09-30T22:03:55.528Z"
   },
   {
    "duration": 5,
    "start_time": "2022-09-30T22:03:55.992Z"
   },
   {
    "duration": 2795,
    "start_time": "2022-09-30T22:03:57.070Z"
   },
   {
    "duration": 9,
    "start_time": "2022-09-30T22:04:20.638Z"
   },
   {
    "duration": 11,
    "start_time": "2022-09-30T22:04:31.000Z"
   },
   {
    "duration": 10,
    "start_time": "2022-09-30T22:04:31.266Z"
   },
   {
    "duration": 5,
    "start_time": "2022-09-30T22:04:37.784Z"
   },
   {
    "duration": 2727,
    "start_time": "2022-09-30T22:04:39.000Z"
   },
   {
    "duration": 2785,
    "start_time": "2022-09-30T22:04:57.557Z"
   },
   {
    "duration": 2708,
    "start_time": "2022-09-30T22:05:02.769Z"
   },
   {
    "duration": 5,
    "start_time": "2022-09-30T22:05:24.085Z"
   },
   {
    "duration": 2734,
    "start_time": "2022-09-30T22:05:24.865Z"
   },
   {
    "duration": 2688,
    "start_time": "2022-09-30T22:05:27.600Z"
   },
   {
    "duration": 2700,
    "start_time": "2022-09-30T22:05:30.289Z"
   },
   {
    "duration": 2,
    "start_time": "2022-09-30T22:06:22.365Z"
   },
   {
    "duration": 2,
    "start_time": "2022-09-30T22:06:40.875Z"
   },
   {
    "duration": 2,
    "start_time": "2022-09-30T22:06:41.397Z"
   },
   {
    "duration": 5,
    "start_time": "2022-09-30T22:06:41.597Z"
   },
   {
    "duration": 7,
    "start_time": "2022-09-30T22:06:41.785Z"
   },
   {
    "duration": 6,
    "start_time": "2022-09-30T22:06:41.975Z"
   },
   {
    "duration": 3,
    "start_time": "2022-09-30T22:06:42.319Z"
   },
   {
    "duration": 5,
    "start_time": "2022-09-30T22:06:42.489Z"
   },
   {
    "duration": 8,
    "start_time": "2022-09-30T22:06:42.681Z"
   },
   {
    "duration": 6,
    "start_time": "2022-09-30T22:06:42.869Z"
   },
   {
    "duration": 3,
    "start_time": "2022-09-30T22:06:43.201Z"
   },
   {
    "duration": 6,
    "start_time": "2022-09-30T22:06:43.382Z"
   },
   {
    "duration": 8,
    "start_time": "2022-09-30T22:06:43.553Z"
   },
   {
    "duration": 6,
    "start_time": "2022-09-30T22:06:43.742Z"
   },
   {
    "duration": 3,
    "start_time": "2022-09-30T22:06:44.863Z"
   },
   {
    "duration": 3,
    "start_time": "2022-09-30T22:06:45.245Z"
   },
   {
    "duration": 6,
    "start_time": "2022-09-30T22:06:50.163Z"
   },
   {
    "duration": 6,
    "start_time": "2022-09-30T22:06:50.462Z"
   },
   {
    "duration": 6,
    "start_time": "2022-09-30T22:06:50.708Z"
   },
   {
    "duration": 3,
    "start_time": "2022-09-30T22:07:31.924Z"
   },
   {
    "duration": 3,
    "start_time": "2022-09-30T22:07:32.429Z"
   },
   {
    "duration": 10,
    "start_time": "2022-09-30T22:07:32.659Z"
   },
   {
    "duration": 9,
    "start_time": "2022-09-30T22:07:32.860Z"
   },
   {
    "duration": 6,
    "start_time": "2022-09-30T22:07:33.039Z"
   },
   {
    "duration": 3,
    "start_time": "2022-09-30T22:07:33.416Z"
   },
   {
    "duration": 5,
    "start_time": "2022-09-30T22:07:33.597Z"
   },
   {
    "duration": 7,
    "start_time": "2022-09-30T22:07:33.793Z"
   },
   {
    "duration": 6,
    "start_time": "2022-09-30T22:07:33.961Z"
   },
   {
    "duration": 2,
    "start_time": "2022-09-30T22:07:34.291Z"
   },
   {
    "duration": 7,
    "start_time": "2022-09-30T22:07:34.465Z"
   },
   {
    "duration": 7,
    "start_time": "2022-09-30T22:07:34.647Z"
   },
   {
    "duration": 5,
    "start_time": "2022-09-30T22:07:34.817Z"
   },
   {
    "duration": 3,
    "start_time": "2022-09-30T22:07:35.829Z"
   },
   {
    "duration": 3,
    "start_time": "2022-09-30T22:07:36.223Z"
   },
   {
    "duration": 6,
    "start_time": "2022-09-30T22:07:36.552Z"
   },
   {
    "duration": 6,
    "start_time": "2022-09-30T22:07:37.237Z"
   },
   {
    "duration": 6,
    "start_time": "2022-09-30T22:07:37.439Z"
   },
   {
    "duration": 3,
    "start_time": "2022-09-30T22:07:39.053Z"
   },
   {
    "duration": 7,
    "start_time": "2022-09-30T22:07:39.729Z"
   },
   {
    "duration": 8,
    "start_time": "2022-09-30T22:07:39.922Z"
   },
   {
    "duration": 9,
    "start_time": "2022-09-30T22:07:40.122Z"
   },
   {
    "duration": 3,
    "start_time": "2022-09-30T22:07:41.147Z"
   },
   {
    "duration": 10,
    "start_time": "2022-09-30T22:07:41.484Z"
   },
   {
    "duration": 10,
    "start_time": "2022-09-30T22:07:41.807Z"
   },
   {
    "duration": 11,
    "start_time": "2022-09-30T22:07:42.020Z"
   },
   {
    "duration": 2,
    "start_time": "2022-09-30T22:07:42.597Z"
   },
   {
    "duration": 4,
    "start_time": "2022-09-30T22:07:42.790Z"
   },
   {
    "duration": 3,
    "start_time": "2022-09-30T22:07:42.994Z"
   },
   {
    "duration": 3,
    "start_time": "2022-09-30T22:07:43.316Z"
   },
   {
    "duration": 5,
    "start_time": "2022-09-30T22:07:46.116Z"
   },
   {
    "duration": 3,
    "start_time": "2022-09-30T22:07:46.557Z"
   },
   {
    "duration": 11,
    "start_time": "2022-09-30T22:07:47.179Z"
   },
   {
    "duration": 10,
    "start_time": "2022-09-30T22:07:47.502Z"
   },
   {
    "duration": 10,
    "start_time": "2022-09-30T22:07:47.807Z"
   },
   {
    "duration": 10,
    "start_time": "2022-09-30T22:07:57.439Z"
   },
   {
    "duration": 11,
    "start_time": "2022-09-30T22:07:58.410Z"
   },
   {
    "duration": 9,
    "start_time": "2022-09-30T22:08:03.017Z"
   },
   {
    "duration": 9,
    "start_time": "2022-09-30T22:08:05.188Z"
   },
   {
    "duration": 4,
    "start_time": "2022-09-30T22:08:07.052Z"
   },
   {
    "duration": 5,
    "start_time": "2022-09-30T22:08:12.592Z"
   },
   {
    "duration": 2643,
    "start_time": "2022-09-30T22:08:13.222Z"
   },
   {
    "duration": 2755,
    "start_time": "2022-09-30T22:08:15.867Z"
   },
   {
    "duration": 3,
    "start_time": "2022-09-30T22:08:34.389Z"
   },
   {
    "duration": 2,
    "start_time": "2022-09-30T22:08:34.879Z"
   },
   {
    "duration": 9,
    "start_time": "2022-09-30T22:08:35.125Z"
   },
   {
    "duration": 10,
    "start_time": "2022-09-30T22:08:38.595Z"
   },
   {
    "duration": 9,
    "start_time": "2022-09-30T22:08:40.859Z"
   },
   {
    "duration": 4,
    "start_time": "2022-09-30T22:08:42.340Z"
   },
   {
    "duration": 4,
    "start_time": "2022-09-30T22:08:51.790Z"
   },
   {
    "duration": 2608,
    "start_time": "2022-09-30T22:08:52.531Z"
   },
   {
    "duration": 2844,
    "start_time": "2022-09-30T22:08:55.141Z"
   },
   {
    "duration": 2744,
    "start_time": "2022-09-30T22:08:57.986Z"
   },
   {
    "duration": 4,
    "start_time": "2022-09-30T22:09:27.481Z"
   },
   {
    "duration": 2667,
    "start_time": "2022-09-30T22:09:28.511Z"
   },
   {
    "duration": 4,
    "start_time": "2022-09-30T22:13:55.518Z"
   },
   {
    "duration": 2845,
    "start_time": "2022-09-30T22:13:56.347Z"
   },
   {
    "duration": 2726,
    "start_time": "2022-09-30T22:13:59.194Z"
   },
   {
    "duration": 2702,
    "start_time": "2022-09-30T22:14:01.922Z"
   },
   {
    "duration": 4,
    "start_time": "2022-09-30T22:17:57.983Z"
   },
   {
    "duration": 2714,
    "start_time": "2022-09-30T22:17:59.132Z"
   },
   {
    "duration": 6,
    "start_time": "2022-09-30T22:18:57.985Z"
   },
   {
    "duration": 4,
    "start_time": "2022-09-30T22:19:13.157Z"
   },
   {
    "duration": 2757,
    "start_time": "2022-09-30T22:19:13.910Z"
   },
   {
    "duration": 2662,
    "start_time": "2022-09-30T22:19:16.669Z"
   },
   {
    "duration": 5,
    "start_time": "2022-09-30T22:19:44.992Z"
   },
   {
    "duration": 2988,
    "start_time": "2022-09-30T22:19:45.574Z"
   },
   {
    "duration": 0,
    "start_time": "2022-09-30T22:19:48.563Z"
   },
   {
    "duration": 4,
    "start_time": "2022-09-30T22:19:52.779Z"
   },
   {
    "duration": 2709,
    "start_time": "2022-09-30T22:19:53.551Z"
   },
   {
    "duration": 0,
    "start_time": "2022-09-30T22:19:56.261Z"
   },
   {
    "duration": 0,
    "start_time": "2022-09-30T22:19:56.262Z"
   },
   {
    "duration": 6,
    "start_time": "2022-09-30T22:46:24.460Z"
   },
   {
    "duration": 321,
    "start_time": "2022-09-30T22:46:30.112Z"
   },
   {
    "duration": 16,
    "start_time": "2022-09-30T22:46:34.012Z"
   },
   {
    "duration": 16,
    "start_time": "2022-09-30T22:46:34.304Z"
   },
   {
    "duration": 20,
    "start_time": "2022-09-30T22:46:34.757Z"
   },
   {
    "duration": 20,
    "start_time": "2022-09-30T22:46:41.399Z"
   },
   {
    "duration": 19,
    "start_time": "2022-09-30T22:46:41.620Z"
   },
   {
    "duration": 14,
    "start_time": "2022-09-30T22:46:41.826Z"
   },
   {
    "duration": 6,
    "start_time": "2022-09-30T22:46:42.234Z"
   },
   {
    "duration": 7,
    "start_time": "2022-09-30T22:46:42.670Z"
   },
   {
    "duration": 6,
    "start_time": "2022-09-30T22:46:42.893Z"
   },
   {
    "duration": 2,
    "start_time": "2022-09-30T22:46:45.180Z"
   },
   {
    "duration": 2,
    "start_time": "2022-09-30T22:46:45.265Z"
   },
   {
    "duration": 3,
    "start_time": "2022-09-30T22:46:45.348Z"
   },
   {
    "duration": 5,
    "start_time": "2022-09-30T22:46:45.520Z"
   },
   {
    "duration": 15,
    "start_time": "2022-09-30T22:46:45.693Z"
   },
   {
    "duration": 17,
    "start_time": "2022-09-30T22:46:45.958Z"
   },
   {
    "duration": 17,
    "start_time": "2022-09-30T22:46:46.151Z"
   },
   {
    "duration": 2,
    "start_time": "2022-09-30T22:46:46.322Z"
   },
   {
    "duration": 2,
    "start_time": "2022-09-30T22:46:46.496Z"
   },
   {
    "duration": 2,
    "start_time": "2022-09-30T22:46:46.630Z"
   },
   {
    "duration": 2,
    "start_time": "2022-09-30T22:46:47.860Z"
   },
   {
    "duration": 2,
    "start_time": "2022-09-30T22:46:48.023Z"
   },
   {
    "duration": 3,
    "start_time": "2022-09-30T22:46:48.200Z"
   },
   {
    "duration": 10,
    "start_time": "2022-09-30T22:46:49.143Z"
   },
   {
    "duration": 12,
    "start_time": "2022-09-30T22:46:49.322Z"
   },
   {
    "duration": 8,
    "start_time": "2022-09-30T22:46:49.523Z"
   },
   {
    "duration": 8,
    "start_time": "2022-09-30T22:46:49.702Z"
   },
   {
    "duration": 8,
    "start_time": "2022-09-30T22:46:49.875Z"
   },
   {
    "duration": 7,
    "start_time": "2022-09-30T22:46:50.039Z"
   },
   {
    "duration": 3,
    "start_time": "2022-09-30T22:46:50.880Z"
   },
   {
    "duration": 6,
    "start_time": "2022-09-30T22:46:51.060Z"
   },
   {
    "duration": 3,
    "start_time": "2022-09-30T22:46:51.266Z"
   },
   {
    "duration": 5,
    "start_time": "2022-09-30T22:46:51.449Z"
   },
   {
    "duration": 3,
    "start_time": "2022-09-30T22:46:51.623Z"
   },
   {
    "duration": 7,
    "start_time": "2022-09-30T22:46:51.789Z"
   },
   {
    "duration": 3,
    "start_time": "2022-09-30T22:46:51.982Z"
   },
   {
    "duration": 6,
    "start_time": "2022-09-30T22:46:53.504Z"
   },
   {
    "duration": 6,
    "start_time": "2022-09-30T22:46:53.642Z"
   },
   {
    "duration": 6,
    "start_time": "2022-09-30T22:46:53.848Z"
   },
   {
    "duration": 6,
    "start_time": "2022-09-30T22:46:54.056Z"
   },
   {
    "duration": 2,
    "start_time": "2022-09-30T22:46:55.185Z"
   },
   {
    "duration": 3,
    "start_time": "2022-09-30T22:46:55.545Z"
   },
   {
    "duration": 7,
    "start_time": "2022-09-30T22:46:55.736Z"
   },
   {
    "duration": 10,
    "start_time": "2022-09-30T22:46:55.928Z"
   },
   {
    "duration": 7,
    "start_time": "2022-09-30T22:46:56.121Z"
   },
   {
    "duration": 3,
    "start_time": "2022-09-30T22:46:56.483Z"
   },
   {
    "duration": 5,
    "start_time": "2022-09-30T22:46:56.631Z"
   },
   {
    "duration": 8,
    "start_time": "2022-09-30T22:46:56.870Z"
   },
   {
    "duration": 6,
    "start_time": "2022-09-30T22:46:57.076Z"
   },
   {
    "duration": 4,
    "start_time": "2022-09-30T22:46:57.456Z"
   },
   {
    "duration": 5,
    "start_time": "2022-09-30T22:46:57.651Z"
   },
   {
    "duration": 10,
    "start_time": "2022-09-30T22:46:57.857Z"
   },
   {
    "duration": 6,
    "start_time": "2022-09-30T22:46:58.358Z"
   },
   {
    "duration": 4,
    "start_time": "2022-09-30T22:46:59.390Z"
   },
   {
    "duration": 4,
    "start_time": "2022-09-30T22:46:59.761Z"
   },
   {
    "duration": 8,
    "start_time": "2022-09-30T22:47:00.137Z"
   },
   {
    "duration": 5,
    "start_time": "2022-09-30T22:47:00.327Z"
   },
   {
    "duration": 5,
    "start_time": "2022-09-30T22:47:00.533Z"
   },
   {
    "duration": 2,
    "start_time": "2022-09-30T22:47:02.987Z"
   },
   {
    "duration": 12,
    "start_time": "2022-09-30T22:47:03.983Z"
   },
   {
    "duration": 7,
    "start_time": "2022-09-30T22:47:04.281Z"
   },
   {
    "duration": 10,
    "start_time": "2022-09-30T22:47:04.550Z"
   },
   {
    "duration": 3,
    "start_time": "2022-09-30T22:47:05.101Z"
   },
   {
    "duration": 11,
    "start_time": "2022-09-30T22:47:05.425Z"
   },
   {
    "duration": 12,
    "start_time": "2022-09-30T22:47:05.844Z"
   },
   {
    "duration": 11,
    "start_time": "2022-09-30T22:47:06.224Z"
   },
   {
    "duration": 3,
    "start_time": "2022-09-30T22:47:06.978Z"
   },
   {
    "duration": 4,
    "start_time": "2022-09-30T22:47:07.312Z"
   },
   {
    "duration": 4,
    "start_time": "2022-09-30T22:47:07.554Z"
   },
   {
    "duration": 4,
    "start_time": "2022-09-30T22:47:07.766Z"
   },
   {
    "duration": 4,
    "start_time": "2022-09-30T22:47:08.494Z"
   },
   {
    "duration": 3,
    "start_time": "2022-09-30T22:47:08.688Z"
   },
   {
    "duration": 9,
    "start_time": "2022-09-30T22:47:08.837Z"
   },
   {
    "duration": 10,
    "start_time": "2022-09-30T22:47:09.158Z"
   },
   {
    "duration": 9,
    "start_time": "2022-09-30T22:47:09.463Z"
   },
   {
    "duration": 5,
    "start_time": "2022-09-30T22:47:12.074Z"
   },
   {
    "duration": 2783,
    "start_time": "2022-09-30T22:47:14.128Z"
   },
   {
    "duration": 0,
    "start_time": "2022-09-30T22:47:16.913Z"
   },
   {
    "duration": 0,
    "start_time": "2022-09-30T22:47:16.913Z"
   },
   {
    "duration": 7,
    "start_time": "2022-09-30T22:47:42.507Z"
   },
   {
    "duration": 3246,
    "start_time": "2022-09-30T22:47:43.123Z"
   },
   {
    "duration": 3096,
    "start_time": "2022-09-30T22:47:46.371Z"
   },
   {
    "duration": 2980,
    "start_time": "2022-09-30T22:47:49.469Z"
   },
   {
    "duration": 12,
    "start_time": "2022-09-30T22:49:16.003Z"
   },
   {
    "duration": 3038,
    "start_time": "2022-09-30T22:49:17.321Z"
   },
   {
    "duration": 7,
    "start_time": "2022-09-30T22:49:26.259Z"
   },
   {
    "duration": 2994,
    "start_time": "2022-09-30T22:49:32.275Z"
   },
   {
    "duration": 7,
    "start_time": "2022-09-30T22:49:52.703Z"
   },
   {
    "duration": 7,
    "start_time": "2022-09-30T22:49:55.893Z"
   },
   {
    "duration": 7,
    "start_time": "2022-09-30T22:50:00.825Z"
   },
   {
    "duration": 3140,
    "start_time": "2022-09-30T22:50:03.117Z"
   },
   {
    "duration": 8,
    "start_time": "2022-09-30T22:50:24.548Z"
   },
   {
    "duration": 2949,
    "start_time": "2022-09-30T22:50:25.186Z"
   },
   {
    "duration": 2937,
    "start_time": "2022-09-30T22:50:28.480Z"
   },
   {
    "duration": 2896,
    "start_time": "2022-09-30T22:50:32.180Z"
   },
   {
    "duration": 5,
    "start_time": "2022-09-30T23:08:39.223Z"
   },
   {
    "duration": 312,
    "start_time": "2022-09-30T23:08:41.018Z"
   },
   {
    "duration": 15,
    "start_time": "2022-09-30T23:08:46.736Z"
   },
   {
    "duration": 15,
    "start_time": "2022-09-30T23:08:47.240Z"
   },
   {
    "duration": 20,
    "start_time": "2022-09-30T23:08:47.328Z"
   },
   {
    "duration": 6,
    "start_time": "2022-09-30T23:08:47.493Z"
   },
   {
    "duration": 6,
    "start_time": "2022-09-30T23:08:47.576Z"
   },
   {
    "duration": 7,
    "start_time": "2022-09-30T23:08:47.652Z"
   },
   {
    "duration": 2,
    "start_time": "2022-09-30T23:08:48.496Z"
   },
   {
    "duration": 2,
    "start_time": "2022-09-30T23:08:48.581Z"
   },
   {
    "duration": 2,
    "start_time": "2022-09-30T23:08:48.656Z"
   },
   {
    "duration": 3,
    "start_time": "2022-09-30T23:08:48.827Z"
   },
   {
    "duration": 12,
    "start_time": "2022-09-30T23:08:48.990Z"
   },
   {
    "duration": 13,
    "start_time": "2022-09-30T23:08:49.078Z"
   },
   {
    "duration": 11,
    "start_time": "2022-09-30T23:08:49.174Z"
   },
   {
    "duration": 2,
    "start_time": "2022-09-30T23:08:49.248Z"
   },
   {
    "duration": 3,
    "start_time": "2022-09-30T23:08:49.331Z"
   },
   {
    "duration": 2,
    "start_time": "2022-09-30T23:08:49.416Z"
   },
   {
    "duration": 2,
    "start_time": "2022-09-30T23:08:49.498Z"
   },
   {
    "duration": 2,
    "start_time": "2022-09-30T23:08:49.582Z"
   },
   {
    "duration": 2,
    "start_time": "2022-09-30T23:08:49.664Z"
   },
   {
    "duration": 9,
    "start_time": "2022-09-30T23:08:50.080Z"
   },
   {
    "duration": 7,
    "start_time": "2022-09-30T23:08:50.170Z"
   },
   {
    "duration": 8,
    "start_time": "2022-09-30T23:08:50.322Z"
   },
   {
    "duration": 7,
    "start_time": "2022-09-30T23:08:50.511Z"
   },
   {
    "duration": 10,
    "start_time": "2022-09-30T23:08:50.622Z"
   },
   {
    "duration": 7,
    "start_time": "2022-09-30T23:08:50.724Z"
   },
   {
    "duration": 2,
    "start_time": "2022-09-30T23:08:50.923Z"
   },
   {
    "duration": 9,
    "start_time": "2022-09-30T23:08:50.943Z"
   },
   {
    "duration": 104,
    "start_time": "2022-09-30T23:08:51.024Z"
   },
   {
    "duration": 6,
    "start_time": "2022-09-30T23:08:51.392Z"
   },
   {
    "duration": 4,
    "start_time": "2022-09-30T23:08:51.660Z"
   },
   {
    "duration": 5,
    "start_time": "2022-09-30T23:08:51.875Z"
   },
   {
    "duration": 4,
    "start_time": "2022-09-30T23:08:52.063Z"
   },
   {
    "duration": 4,
    "start_time": "2022-09-30T23:08:54.047Z"
   },
   {
    "duration": 5,
    "start_time": "2022-09-30T23:08:54.290Z"
   },
   {
    "duration": 6,
    "start_time": "2022-09-30T23:08:54.518Z"
   },
   {
    "duration": 6,
    "start_time": "2022-09-30T23:08:54.715Z"
   },
   {
    "duration": 4,
    "start_time": "2022-09-30T23:08:55.872Z"
   },
   {
    "duration": 3,
    "start_time": "2022-09-30T23:08:56.462Z"
   },
   {
    "duration": 8,
    "start_time": "2022-09-30T23:08:56.646Z"
   },
   {
    "duration": 7,
    "start_time": "2022-09-30T23:08:56.920Z"
   },
   {
    "duration": 5,
    "start_time": "2022-09-30T23:08:57.188Z"
   },
   {
    "duration": 3,
    "start_time": "2022-09-30T23:08:57.730Z"
   },
   {
    "duration": 5,
    "start_time": "2022-09-30T23:08:57.945Z"
   },
   {
    "duration": 8,
    "start_time": "2022-09-30T23:08:58.444Z"
   },
   {
    "duration": 5,
    "start_time": "2022-09-30T23:08:58.528Z"
   },
   {
    "duration": 3,
    "start_time": "2022-09-30T23:08:58.715Z"
   },
   {
    "duration": 7,
    "start_time": "2022-09-30T23:08:58.785Z"
   },
   {
    "duration": 8,
    "start_time": "2022-09-30T23:08:58.922Z"
   },
   {
    "duration": 5,
    "start_time": "2022-09-30T23:08:58.942Z"
   },
   {
    "duration": 3,
    "start_time": "2022-09-30T23:08:59.450Z"
   },
   {
    "duration": 3,
    "start_time": "2022-09-30T23:08:59.615Z"
   },
   {
    "duration": 5,
    "start_time": "2022-09-30T23:08:59.780Z"
   },
   {
    "duration": 5,
    "start_time": "2022-09-30T23:08:59.869Z"
   },
   {
    "duration": 6,
    "start_time": "2022-09-30T23:08:59.958Z"
   },
   {
    "duration": 2,
    "start_time": "2022-09-30T23:09:00.616Z"
   },
   {
    "duration": 8,
    "start_time": "2022-09-30T23:09:00.786Z"
   },
   {
    "duration": 7,
    "start_time": "2022-09-30T23:09:00.922Z"
   },
   {
    "duration": 8,
    "start_time": "2022-09-30T23:09:01.022Z"
   },
   {
    "duration": 99,
    "start_time": "2022-09-30T23:09:01.123Z"
   },
   {
    "duration": 10,
    "start_time": "2022-09-30T23:09:01.224Z"
   },
   {
    "duration": 11,
    "start_time": "2022-09-30T23:09:01.285Z"
   },
   {
    "duration": 10,
    "start_time": "2022-09-30T23:09:01.368Z"
   },
   {
    "duration": 2,
    "start_time": "2022-09-30T23:09:01.616Z"
   },
   {
    "duration": 4,
    "start_time": "2022-09-30T23:09:01.722Z"
   },
   {
    "duration": 5,
    "start_time": "2022-09-30T23:09:01.784Z"
   },
   {
    "duration": 4,
    "start_time": "2022-09-30T23:09:01.873Z"
   },
   {
    "duration": 3,
    "start_time": "2022-09-30T23:09:02.203Z"
   },
   {
    "duration": 2,
    "start_time": "2022-09-30T23:09:02.299Z"
   },
   {
    "duration": 9,
    "start_time": "2022-09-30T23:09:02.373Z"
   },
   {
    "duration": 10,
    "start_time": "2022-09-30T23:09:02.457Z"
   },
   {
    "duration": 10,
    "start_time": "2022-09-30T23:09:02.548Z"
   },
   {
    "duration": 8,
    "start_time": "2022-09-30T23:09:02.717Z"
   },
   {
    "duration": 2874,
    "start_time": "2022-09-30T23:09:02.885Z"
   },
   {
    "duration": 3056,
    "start_time": "2022-09-30T23:09:05.762Z"
   },
   {
    "duration": 2929,
    "start_time": "2022-09-30T23:09:08.821Z"
   },
   {
    "duration": 2,
    "start_time": "2022-09-30T23:10:01.150Z"
   },
   {
    "duration": 2,
    "start_time": "2022-09-30T23:10:06.240Z"
   },
   {
    "duration": 2,
    "start_time": "2022-09-30T23:10:07.062Z"
   },
   {
    "duration": 10,
    "start_time": "2022-09-30T23:10:07.307Z"
   },
   {
    "duration": 7,
    "start_time": "2022-09-30T23:10:07.523Z"
   },
   {
    "duration": 5,
    "start_time": "2022-09-30T23:10:07.678Z"
   },
   {
    "duration": 2,
    "start_time": "2022-09-30T23:10:08.052Z"
   },
   {
    "duration": 6,
    "start_time": "2022-09-30T23:10:08.218Z"
   },
   {
    "duration": 7,
    "start_time": "2022-09-30T23:10:08.423Z"
   },
   {
    "duration": 5,
    "start_time": "2022-09-30T23:10:08.598Z"
   },
   {
    "duration": 2,
    "start_time": "2022-09-30T23:10:08.934Z"
   },
   {
    "duration": 5,
    "start_time": "2022-09-30T23:10:09.120Z"
   },
   {
    "duration": 8,
    "start_time": "2022-09-30T23:10:09.324Z"
   },
   {
    "duration": 5,
    "start_time": "2022-09-30T23:10:09.514Z"
   },
   {
    "duration": 2,
    "start_time": "2022-09-30T23:10:10.558Z"
   },
   {
    "duration": 2,
    "start_time": "2022-09-30T23:10:15.632Z"
   },
   {
    "duration": 6,
    "start_time": "2022-09-30T23:10:16.358Z"
   },
   {
    "duration": 6,
    "start_time": "2022-09-30T23:10:16.613Z"
   },
   {
    "duration": 5,
    "start_time": "2022-09-30T23:10:16.870Z"
   },
   {
    "duration": 3,
    "start_time": "2022-09-30T23:10:18.468Z"
   },
   {
    "duration": 11,
    "start_time": "2022-09-30T23:10:18.790Z"
   },
   {
    "duration": 8,
    "start_time": "2022-09-30T23:10:18.974Z"
   },
   {
    "duration": 8,
    "start_time": "2022-09-30T23:10:19.148Z"
   },
   {
    "duration": 3,
    "start_time": "2022-09-30T23:10:19.510Z"
   },
   {
    "duration": 11,
    "start_time": "2022-09-30T23:10:19.682Z"
   },
   {
    "duration": 11,
    "start_time": "2022-09-30T23:10:19.854Z"
   },
   {
    "duration": 11,
    "start_time": "2022-09-30T23:10:20.075Z"
   },
   {
    "duration": 3,
    "start_time": "2022-09-30T23:10:20.684Z"
   },
   {
    "duration": 4,
    "start_time": "2022-09-30T23:10:20.906Z"
   },
   {
    "duration": 4,
    "start_time": "2022-09-30T23:10:21.114Z"
   },
   {
    "duration": 4,
    "start_time": "2022-09-30T23:10:21.312Z"
   },
   {
    "duration": 3,
    "start_time": "2022-09-30T23:10:22.448Z"
   },
   {
    "duration": 2,
    "start_time": "2022-09-30T23:10:43.962Z"
   },
   {
    "duration": 3,
    "start_time": "2022-09-30T23:10:44.562Z"
   },
   {
    "duration": 2,
    "start_time": "2022-09-30T23:10:44.900Z"
   },
   {
    "duration": 12,
    "start_time": "2022-09-30T23:10:45.346Z"
   },
   {
    "duration": 11,
    "start_time": "2022-09-30T23:10:45.922Z"
   },
   {
    "duration": 10,
    "start_time": "2022-09-30T23:10:45.935Z"
   },
   {
    "duration": 10,
    "start_time": "2022-09-30T23:10:46.660Z"
   },
   {
    "duration": 7,
    "start_time": "2022-09-30T23:10:51.013Z"
   },
   {
    "duration": 2998,
    "start_time": "2022-09-30T23:10:53.681Z"
   },
   {
    "duration": 3208,
    "start_time": "2022-09-30T23:10:56.681Z"
   },
   {
    "duration": 2955,
    "start_time": "2022-09-30T23:10:59.891Z"
   },
   {
    "duration": 1633,
    "start_time": "2022-10-01T08:17:58.694Z"
   },
   {
    "duration": 724,
    "start_time": "2022-10-01T08:18:00.329Z"
   },
   {
    "duration": 12474,
    "start_time": "2022-10-01T08:18:01.055Z"
   },
   {
    "duration": 560,
    "start_time": "2022-10-01T08:18:13.531Z"
   },
   {
    "duration": 24,
    "start_time": "2022-10-01T08:18:14.100Z"
   },
   {
    "duration": 16,
    "start_time": "2022-10-01T08:18:14.125Z"
   },
   {
    "duration": 24,
    "start_time": "2022-10-01T08:18:14.143Z"
   },
   {
    "duration": 9311,
    "start_time": "2022-10-01T08:18:14.169Z"
   },
   {
    "duration": 8554,
    "start_time": "2022-10-01T08:18:23.482Z"
   },
   {
    "duration": 9063,
    "start_time": "2022-10-01T08:18:32.037Z"
   },
   {
    "duration": 26,
    "start_time": "2022-10-01T08:18:41.101Z"
   },
   {
    "duration": 13,
    "start_time": "2022-10-01T08:18:41.129Z"
   },
   {
    "duration": 66,
    "start_time": "2022-10-01T08:18:41.143Z"
   },
   {
    "duration": 4,
    "start_time": "2022-10-01T08:18:41.212Z"
   },
   {
    "duration": 8,
    "start_time": "2022-10-01T08:18:41.218Z"
   },
   {
    "duration": 7,
    "start_time": "2022-10-01T08:18:41.228Z"
   },
   {
    "duration": 9,
    "start_time": "2022-10-01T08:18:41.237Z"
   },
   {
    "duration": 7,
    "start_time": "2022-10-01T08:18:41.247Z"
   },
   {
    "duration": 5,
    "start_time": "2022-10-01T08:18:41.255Z"
   },
   {
    "duration": 6,
    "start_time": "2022-10-01T08:18:41.262Z"
   },
   {
    "duration": 14,
    "start_time": "2022-10-01T08:18:41.269Z"
   },
   {
    "duration": 15,
    "start_time": "2022-10-01T08:18:41.300Z"
   },
   {
    "duration": 16,
    "start_time": "2022-10-01T08:18:41.317Z"
   },
   {
    "duration": 3,
    "start_time": "2022-10-01T08:18:41.334Z"
   },
   {
    "duration": 9,
    "start_time": "2022-10-01T08:18:41.339Z"
   },
   {
    "duration": 5,
    "start_time": "2022-10-01T08:18:41.350Z"
   },
   {
    "duration": 7,
    "start_time": "2022-10-01T08:18:41.357Z"
   },
   {
    "duration": 4,
    "start_time": "2022-10-01T08:18:41.366Z"
   },
   {
    "duration": 32,
    "start_time": "2022-10-01T08:18:41.371Z"
   },
   {
    "duration": 15,
    "start_time": "2022-10-01T08:18:41.405Z"
   },
   {
    "duration": 185,
    "start_time": "2022-10-01T08:18:41.422Z"
   },
   {
    "duration": 199,
    "start_time": "2022-10-01T08:18:41.609Z"
   },
   {
    "duration": 9,
    "start_time": "2022-10-01T08:18:41.810Z"
   },
   {
    "duration": 178,
    "start_time": "2022-10-01T08:18:41.823Z"
   },
   {
    "duration": 10,
    "start_time": "2022-10-01T08:18:42.003Z"
   },
   {
    "duration": 90,
    "start_time": "2022-10-01T08:18:42.015Z"
   },
   {
    "duration": 97,
    "start_time": "2022-10-01T08:18:42.107Z"
   },
   {
    "duration": 95,
    "start_time": "2022-10-01T08:18:42.206Z"
   },
   {
    "duration": 97,
    "start_time": "2022-10-01T08:18:42.304Z"
   },
   {
    "duration": 6,
    "start_time": "2022-10-01T08:18:42.405Z"
   },
   {
    "duration": 93,
    "start_time": "2022-10-01T08:18:42.417Z"
   },
   {
    "duration": 91,
    "start_time": "2022-10-01T08:18:42.516Z"
   },
   {
    "duration": 98,
    "start_time": "2022-10-01T08:18:42.611Z"
   },
   {
    "duration": 9,
    "start_time": "2022-10-01T08:18:42.710Z"
   },
   {
    "duration": 5,
    "start_time": "2022-10-01T08:18:42.721Z"
   },
   {
    "duration": 6,
    "start_time": "2022-10-01T08:18:42.728Z"
   },
   {
    "duration": 7,
    "start_time": "2022-10-01T08:18:42.735Z"
   },
   {
    "duration": 5,
    "start_time": "2022-10-01T08:18:42.743Z"
   },
   {
    "duration": 58,
    "start_time": "2022-10-01T08:18:42.749Z"
   },
   {
    "duration": 92,
    "start_time": "2022-10-01T08:18:42.808Z"
   },
   {
    "duration": 16,
    "start_time": "2022-10-01T08:18:42.902Z"
   },
   {
    "duration": 3,
    "start_time": "2022-10-01T08:18:42.920Z"
   },
   {
    "duration": 11,
    "start_time": "2022-10-01T08:18:42.924Z"
   },
   {
    "duration": 173,
    "start_time": "2022-10-01T08:18:42.936Z"
   },
   {
    "duration": 7,
    "start_time": "2022-10-01T08:18:43.111Z"
   },
   {
    "duration": 3,
    "start_time": "2022-10-01T08:18:43.120Z"
   },
   {
    "duration": 8,
    "start_time": "2022-10-01T08:18:43.124Z"
   },
   {
    "duration": 164,
    "start_time": "2022-10-01T08:18:43.136Z"
   },
   {
    "duration": 7,
    "start_time": "2022-10-01T08:18:43.302Z"
   },
   {
    "duration": 3,
    "start_time": "2022-10-01T08:18:43.311Z"
   },
   {
    "duration": 6,
    "start_time": "2022-10-01T08:18:43.316Z"
   },
   {
    "duration": 6,
    "start_time": "2022-10-01T08:18:43.323Z"
   },
   {
    "duration": 9,
    "start_time": "2022-10-01T08:18:43.331Z"
   },
   {
    "duration": 12,
    "start_time": "2022-10-01T08:18:43.341Z"
   },
   {
    "duration": 5,
    "start_time": "2022-10-01T08:18:43.355Z"
   },
   {
    "duration": 47,
    "start_time": "2022-10-01T08:18:43.361Z"
   },
   {
    "duration": 97,
    "start_time": "2022-10-01T08:18:43.410Z"
   },
   {
    "duration": 96,
    "start_time": "2022-10-01T08:18:43.509Z"
   },
   {
    "duration": 7,
    "start_time": "2022-10-01T08:18:43.606Z"
   },
   {
    "duration": 185,
    "start_time": "2022-10-01T08:18:43.615Z"
   },
   {
    "duration": 14,
    "start_time": "2022-10-01T08:18:43.802Z"
   },
   {
    "duration": 11,
    "start_time": "2022-10-01T08:18:43.818Z"
   },
   {
    "duration": 2,
    "start_time": "2022-10-01T08:18:43.831Z"
   },
   {
    "duration": 8,
    "start_time": "2022-10-01T08:18:43.835Z"
   },
   {
    "duration": 5,
    "start_time": "2022-10-01T08:18:43.844Z"
   },
   {
    "duration": 8,
    "start_time": "2022-10-01T08:18:43.851Z"
   },
   {
    "duration": 8,
    "start_time": "2022-10-01T08:18:43.860Z"
   },
   {
    "duration": 7,
    "start_time": "2022-10-01T08:18:43.869Z"
   },
   {
    "duration": 24,
    "start_time": "2022-10-01T08:18:43.877Z"
   },
   {
    "duration": 14,
    "start_time": "2022-10-01T08:18:43.903Z"
   },
   {
    "duration": 9,
    "start_time": "2022-10-01T08:18:43.919Z"
   },
   {
    "duration": 8,
    "start_time": "2022-10-01T08:18:43.930Z"
   },
   {
    "duration": 8,
    "start_time": "2022-10-01T08:18:43.940Z"
   },
   {
    "duration": 3228,
    "start_time": "2022-10-01T08:18:43.950Z"
   },
   {
    "duration": 3132,
    "start_time": "2022-10-01T08:18:47.180Z"
   },
   {
    "duration": 3129,
    "start_time": "2022-10-01T08:18:50.314Z"
   },
   {
    "duration": 5,
    "start_time": "2022-10-01T08:20:47.795Z"
   },
   {
    "duration": 7,
    "start_time": "2022-10-01T08:21:05.415Z"
   },
   {
    "duration": 8,
    "start_time": "2022-10-01T08:21:54.496Z"
   },
   {
    "duration": 4,
    "start_time": "2022-10-01T08:26:16.822Z"
   }
  ],
  "kernelspec": {
   "display_name": "Python 3 (ipykernel)",
   "language": "python",
   "name": "python3"
  },
  "language_info": {
   "codemirror_mode": {
    "name": "ipython",
    "version": 3
   },
   "file_extension": ".py",
   "mimetype": "text/x-python",
   "name": "python",
   "nbconvert_exporter": "python",
   "pygments_lexer": "ipython3",
   "version": "3.10.9"
  },
  "toc": {
   "base_numbering": 1,
   "nav_menu": {},
   "number_sections": true,
   "sideBar": true,
   "skip_h1_title": true,
   "title_cell": "Table of Contents",
   "title_sidebar": "Contents",
   "toc_cell": false,
   "toc_position": {},
   "toc_section_display": true,
   "toc_window_display": false
  }
 },
 "nbformat": 4,
 "nbformat_minor": 2
}
